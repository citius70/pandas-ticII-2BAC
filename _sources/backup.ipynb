{
 "cells": [
  {
   "cell_type": "markdown",
   "metadata": {
    "id": "gQNZkftezTG5"
   },
   "source": [
    "# 5. Manipulación de DataFrames (2º Parte)"
   ]
  },
  {
   "cell_type": "markdown",
   "metadata": {},
   "source": [
    "Ahora que sabemos como cargar nuestros archivos, es hora de usarlos. Comencemos configurando nuestro DataFrame inicial.\n",
    "\n",
    "Creamos un Dataframe a partir de un archivo con datos de artículos electrónicos que el profesor tiene guardado en Google Drive en formato .csv. El link al archivo es el indicado a https://drive.google.com/uc?export=download&id=16SQQX0ly--l9UvNBr5-KGRWb6todE1u6.\n",
    "\n",
    "Vamos a llamar al Dataframe: **df** (por ejemplo)"
   ]
  },
  {
   "cell_type": "code",
   "execution_count": 20,
   "metadata": {
    "id": "wS-atP0RScn9"
   },
   "outputs": [],
   "source": [
    "# Importamos la librería pandas\n",
    "\n",
    "import pandas as pd\n",
    "\n",
    "# Creamos un DataFrame a partir de un archivo de Excel.\n",
    "# Además, establecemos la columna \"ID_Producto\" como índice\n",
    "\n",
    "df = pd.read_csv(\"https://drive.google.com/uc?export=download&id=16SQQX0ly--l9UvNBr5-KGRWb6todE1u6\", index_col=\"ID_Producto\")"
   ]
  },
  {
   "cell_type": "markdown",
   "metadata": {
    "id": "_g3S4g1Oz27X"
   },
   "source": [
    "## 4.1. Mostrar los primeros o últimos datos"
   ]
  },
  {
   "cell_type": "markdown",
   "metadata": {},
   "source": [
    "Para mostrar una parte inicial o final del `DataFrame` usarás el método `head(n)` o `tail(n)`, donde 'n' son los primeros o últimos n datos."
   ]
  },
  {
   "cell_type": "code",
   "execution_count": 17,
   "metadata": {
    "colab": {
     "base_uri": "https://localhost:8080/",
     "height": 238
    },
    "id": "4VGmlnY30Nte",
    "outputId": "01c3b8bb-cdb7-41e7-a632-0f4cbc634df4"
   },
   "outputs": [
    {
     "data": {
      "text/html": [
       "<div>\n",
       "<style scoped>\n",
       "    .dataframe tbody tr th:only-of-type {\n",
       "        vertical-align: middle;\n",
       "    }\n",
       "\n",
       "    .dataframe tbody tr th {\n",
       "        vertical-align: top;\n",
       "    }\n",
       "\n",
       "    .dataframe thead th {\n",
       "        text-align: right;\n",
       "    }\n",
       "</style>\n",
       "<table border=\"1\" class=\"dataframe\">\n",
       "  <thead>\n",
       "    <tr style=\"text-align: right;\">\n",
       "      <th></th>\n",
       "      <th>Producto</th>\n",
       "      <th>Cantidad</th>\n",
       "      <th>Precio</th>\n",
       "    </tr>\n",
       "    <tr>\n",
       "      <th>ID_Producto</th>\n",
       "      <th></th>\n",
       "      <th></th>\n",
       "      <th></th>\n",
       "    </tr>\n",
       "  </thead>\n",
       "  <tbody>\n",
       "    <tr>\n",
       "      <th>SKU1</th>\n",
       "      <td>Xbox Series X</td>\n",
       "      <td>65</td>\n",
       "      <td>500</td>\n",
       "    </tr>\n",
       "    <tr>\n",
       "      <th>SKU4</th>\n",
       "      <td>Teclado mecánico Razer BlackWidow</td>\n",
       "      <td>130</td>\n",
       "      <td>250</td>\n",
       "    </tr>\n",
       "    <tr>\n",
       "      <th>SKU7</th>\n",
       "      <td>Monitor Gaming Asus 27\"</td>\n",
       "      <td>45</td>\n",
       "      <td>750</td>\n",
       "    </tr>\n",
       "    <tr>\n",
       "      <th>SKU11</th>\n",
       "      <td>Robot aspirador Roomba 960</td>\n",
       "      <td>30</td>\n",
       "      <td>450</td>\n",
       "    </tr>\n",
       "    <tr>\n",
       "      <th>SKU26</th>\n",
       "      <td>Kindle Paperwhite</td>\n",
       "      <td>150</td>\n",
       "      <td>200</td>\n",
       "    </tr>\n",
       "  </tbody>\n",
       "</table>\n",
       "</div>"
      ],
      "text/plain": [
       "                                      Producto  Cantidad  Precio\n",
       "ID_Producto                                                     \n",
       "SKU1                             Xbox Series X        65     500\n",
       "SKU4         Teclado mecánico Razer BlackWidow       130     250\n",
       "SKU7                   Monitor Gaming Asus 27\"        45     750\n",
       "SKU11               Robot aspirador Roomba 960        30     450\n",
       "SKU26                        Kindle Paperwhite       150     200"
      ]
     },
     "execution_count": 17,
     "metadata": {},
     "output_type": "execute_result"
    }
   ],
   "source": [
    "df.head(5)"
   ]
  },
  {
   "cell_type": "code",
   "execution_count": 3,
   "metadata": {
    "colab": {
     "base_uri": "https://localhost:8080/",
     "height": 238
    },
    "id": "CzZSeXpS0Q21",
    "outputId": "b79a79cf-30d4-407a-89b5-e33c30600809"
   },
   "outputs": [
    {
     "data": {
      "text/html": [
       "<div>\n",
       "<style scoped>\n",
       "    .dataframe tbody tr th:only-of-type {\n",
       "        vertical-align: middle;\n",
       "    }\n",
       "\n",
       "    .dataframe tbody tr th {\n",
       "        vertical-align: top;\n",
       "    }\n",
       "\n",
       "    .dataframe thead th {\n",
       "        text-align: right;\n",
       "    }\n",
       "</style>\n",
       "<table border=\"1\" class=\"dataframe\">\n",
       "  <thead>\n",
       "    <tr style=\"text-align: right;\">\n",
       "      <th></th>\n",
       "      <th>Producto</th>\n",
       "      <th>Cantidad</th>\n",
       "      <th>Precio</th>\n",
       "    </tr>\n",
       "    <tr>\n",
       "      <th>ID_Producto</th>\n",
       "      <th></th>\n",
       "      <th></th>\n",
       "      <th></th>\n",
       "    </tr>\n",
       "  </thead>\n",
       "  <tbody>\n",
       "    <tr>\n",
       "      <th>SKU171</th>\n",
       "      <td>Drone DJI Mavic Air 2</td>\n",
       "      <td>20</td>\n",
       "      <td>900</td>\n",
       "    </tr>\n",
       "    <tr>\n",
       "      <th>SKU172</th>\n",
       "      <td>iPhone 13</td>\n",
       "      <td>100</td>\n",
       "      <td>990</td>\n",
       "    </tr>\n",
       "    <tr>\n",
       "      <th>SKU176</th>\n",
       "      <td>Bose QuietComfort 35 II</td>\n",
       "      <td>70</td>\n",
       "      <td>350</td>\n",
       "    </tr>\n",
       "    <tr>\n",
       "      <th>SKU178</th>\n",
       "      <td>Bicicleta eléctrica Xiaomi</td>\n",
       "      <td>35</td>\n",
       "      <td>800</td>\n",
       "    </tr>\n",
       "    <tr>\n",
       "      <th>SKU187</th>\n",
       "      <td>Cámara Canon EOS Rebel T7</td>\n",
       "      <td>50</td>\n",
       "      <td>550</td>\n",
       "    </tr>\n",
       "    <tr>\n",
       "      <th>SKU191</th>\n",
       "      <td>Smart TV LG OLED 55\"</td>\n",
       "      <td>40</td>\n",
       "      <td>1500</td>\n",
       "    </tr>\n",
       "    <tr>\n",
       "      <th>SKU196</th>\n",
       "      <td>Consola Retro Sega Genesis</td>\n",
       "      <td>110</td>\n",
       "      <td>120</td>\n",
       "    </tr>\n",
       "  </tbody>\n",
       "</table>\n",
       "</div>"
      ],
      "text/plain": [
       "                               Producto  Cantidad  Precio\n",
       "ID_Producto                                              \n",
       "SKU171            Drone DJI Mavic Air 2        20     900\n",
       "SKU172                        iPhone 13       100     990\n",
       "SKU176          Bose QuietComfort 35 II        70     350\n",
       "SKU178       Bicicleta eléctrica Xiaomi        35     800\n",
       "SKU187        Cámara Canon EOS Rebel T7        50     550\n",
       "SKU191             Smart TV LG OLED 55\"        40    1500\n",
       "SKU196       Consola Retro Sega Genesis       110     120"
      ]
     },
     "execution_count": 3,
     "metadata": {},
     "output_type": "execute_result"
    }
   ],
   "source": [
    "df.tail(7)\n"
   ]
  },
  {
   "cell_type": "markdown",
   "metadata": {
    "id": "nBnS5IOz0i1T"
   },
   "source": [
    "## 4.2. Muestra un resumen de los datos `describe`"
   ]
  },
  {
   "cell_type": "markdown",
   "metadata": {},
   "source": [
    "Con `describe()` puedes obtener rápidamente algunas estadisticas descriptivas (conteo, media, desviación estándar, máximo, mínimo y cuartiles) de las columnas que tienen datos numéricos."
   ]
  },
  {
   "cell_type": "code",
   "execution_count": 4,
   "metadata": {
    "colab": {
     "base_uri": "https://localhost:8080/",
     "height": 300
    },
    "id": "wCtcwM6p0ugR",
    "outputId": "65f6f219-902e-4cc7-ce60-d242068f331f"
   },
   "outputs": [
    {
     "data": {
      "text/html": [
       "<div>\n",
       "<style scoped>\n",
       "    .dataframe tbody tr th:only-of-type {\n",
       "        vertical-align: middle;\n",
       "    }\n",
       "\n",
       "    .dataframe tbody tr th {\n",
       "        vertical-align: top;\n",
       "    }\n",
       "\n",
       "    .dataframe thead th {\n",
       "        text-align: right;\n",
       "    }\n",
       "</style>\n",
       "<table border=\"1\" class=\"dataframe\">\n",
       "  <thead>\n",
       "    <tr style=\"text-align: right;\">\n",
       "      <th></th>\n",
       "      <th>Cantidad</th>\n",
       "      <th>Precio</th>\n",
       "    </tr>\n",
       "  </thead>\n",
       "  <tbody>\n",
       "    <tr>\n",
       "      <th>count</th>\n",
       "      <td>30.000000</td>\n",
       "      <td>30.000000</td>\n",
       "    </tr>\n",
       "    <tr>\n",
       "      <th>mean</th>\n",
       "      <td>73.166667</td>\n",
       "      <td>588.333333</td>\n",
       "    </tr>\n",
       "    <tr>\n",
       "      <th>std</th>\n",
       "      <td>35.073404</td>\n",
       "      <td>430.653740</td>\n",
       "    </tr>\n",
       "    <tr>\n",
       "      <th>min</th>\n",
       "      <td>20.000000</td>\n",
       "      <td>120.000000</td>\n",
       "    </tr>\n",
       "    <tr>\n",
       "      <th>25%</th>\n",
       "      <td>50.000000</td>\n",
       "      <td>285.000000</td>\n",
       "    </tr>\n",
       "    <tr>\n",
       "      <th>50%</th>\n",
       "      <td>67.500000</td>\n",
       "      <td>465.000000</td>\n",
       "    </tr>\n",
       "    <tr>\n",
       "      <th>75%</th>\n",
       "      <td>97.500000</td>\n",
       "      <td>787.500000</td>\n",
       "    </tr>\n",
       "    <tr>\n",
       "      <th>max</th>\n",
       "      <td>150.000000</td>\n",
       "      <td>2000.000000</td>\n",
       "    </tr>\n",
       "  </tbody>\n",
       "</table>\n",
       "</div>"
      ],
      "text/plain": [
       "         Cantidad       Precio\n",
       "count   30.000000    30.000000\n",
       "mean    73.166667   588.333333\n",
       "std     35.073404   430.653740\n",
       "min     20.000000   120.000000\n",
       "25%     50.000000   285.000000\n",
       "50%     67.500000   465.000000\n",
       "75%     97.500000   787.500000\n",
       "max    150.000000  2000.000000"
      ]
     },
     "execution_count": 4,
     "metadata": {},
     "output_type": "execute_result"
    }
   ],
   "source": [
    "df.describe()\n"
   ]
  },
  {
   "cell_type": "markdown",
   "metadata": {
    "id": "u2dZW8uSPsjO"
   },
   "source": [
    "## 4.3. Más funciones de estadistica descriptiva"
   ]
  },
  {
   "cell_type": "markdown",
   "metadata": {},
   "source": [
    "#### - **Promedio** o media aritmética `mean`"
   ]
  },
  {
   "cell_type": "code",
   "execution_count": 5,
   "metadata": {
    "colab": {
     "base_uri": "https://localhost:8080/"
    },
    "id": "ehy76qKAPzpz",
    "outputId": "1708c5e3-a302-4d0f-c408-e7510018452b"
   },
   "outputs": [
    {
     "data": {
      "text/plain": [
       "588.3333333333334"
      ]
     },
     "execution_count": 5,
     "metadata": {},
     "output_type": "execute_result"
    }
   ],
   "source": [
    "# Promedio o media aritmética de la columna \"Precio\"\n",
    "df.Precio.mean()\n",
    "\n",
    "# Tambien funciona asi:\n",
    "df[\"Precio\"].mean()\n"
   ]
  },
  {
   "cell_type": "markdown",
   "metadata": {},
   "source": [
    "#### - **Máximo** `max` y **mínimo** `min` de una columna  "
   ]
  },
  {
   "cell_type": "code",
   "execution_count": 6,
   "metadata": {
    "colab": {
     "base_uri": "https://localhost:8080/"
    },
    "id": "ofTDnXo5P9Dn",
    "outputId": "706fe8e5-2c1d-4490-c110-4e98cfaba62a"
   },
   "outputs": [
    {
     "data": {
      "text/plain": [
       "2000"
      ]
     },
     "execution_count": 6,
     "metadata": {},
     "output_type": "execute_result"
    }
   ],
   "source": [
    "# Valor máximo de la columna Precio\n",
    "df.Precio.max()\n",
    "\n",
    "# Tambien funciona asi:\n",
    "df[\"Precio\"].max()\n"
   ]
  },
  {
   "cell_type": "code",
   "execution_count": 7,
   "metadata": {
    "colab": {
     "base_uri": "https://localhost:8080/"
    },
    "id": "USwcDLZiP4s5",
    "outputId": "e1ac82db-0d39-449f-f633-0dea5f8c7c08"
   },
   "outputs": [
    {
     "data": {
      "text/plain": [
       "120"
      ]
     },
     "execution_count": 7,
     "metadata": {},
     "output_type": "execute_result"
    }
   ],
   "source": [
    "# Valor mínimo de la columna Precio\n",
    "df.Precio.min()\n",
    "\n",
    "# Tambien funciona asi:\n",
    "df[\"Precio\"].min()\n"
   ]
  },
  {
   "cell_type": "markdown",
   "metadata": {},
   "source": [
    "#### - Buscar el **índice de la fila** correspondiente al valor máximo  o mínimo de una columna: `idxmax` o `idxmin` "
   ]
  },
  {
   "cell_type": "code",
   "execution_count": 21,
   "metadata": {},
   "outputs": [
    {
     "name": "stdout",
     "output_type": "stream",
     "text": [
      "SKU126\n"
     ]
    }
   ],
   "source": [
    "# Busca el índice del valor máximo de la columna Precio y lo almacena en la variable id\n",
    "\n",
    "id = df.Precio.idxmax()\n",
    "\n",
    "print(id)\n"
   ]
  },
  {
   "cell_type": "code",
   "execution_count": 9,
   "metadata": {},
   "outputs": [
    {
     "name": "stdout",
     "output_type": "stream",
     "text": [
      "SKU196\n"
     ]
    }
   ],
   "source": [
    "# Índice del valor mínimo de la columna Precio.\n",
    "# Busca el índice del valor mínimo la columna Precio y lo almacena en la variable id\n",
    "\n",
    "id = df.Precio.idxmin()\n",
    "\n",
    "print(id)\n"
   ]
  },
  {
   "cell_type": "markdown",
   "metadata": {},
   "source": [
    "#### - **Sumatorio** de una columna `sum`"
   ]
  },
  {
   "cell_type": "code",
   "execution_count": 22,
   "metadata": {
    "colab": {
     "base_uri": "https://localhost:8080/"
    },
    "id": "EBgbwst8QBsh",
    "outputId": "f68b00dd-3d64-48fd-9823-5c1510fb865c"
   },
   "outputs": [
    {
     "data": {
      "text/plain": [
       "2195"
      ]
     },
     "execution_count": 22,
     "metadata": {},
     "output_type": "execute_result"
    }
   ],
   "source": [
    "# Sumatorio de la columna Cantidad\n",
    "df.Cantidad.sum()\n",
    "\n",
    "# Tambien funciona asi:\n",
    "df[\"Cantidad\"].sum()\n"
   ]
  },
  {
   "cell_type": "code",
   "execution_count": 23,
   "metadata": {},
   "outputs": [
    {
     "data": {
      "text/plain": [
       "17650"
      ]
     },
     "execution_count": 23,
     "metadata": {},
     "output_type": "execute_result"
    }
   ],
   "source": [
    "# Sumatorio de la columna Precio\n",
    "df.Precio.sum()\n",
    "\n",
    "# Tambien funciona asi:\n",
    "df[\"Precio\"].sum()\n",
    "\n"
   ]
  },
  {
   "cell_type": "markdown",
   "metadata": {},
   "source": [
    "#### - Contar número de valores de una columna `count`\n",
    "\n",
    "Este es un método que devuelve el número de valores no nulos en la columna especificada. Si hay algún valor NaN (Not a Number) en la columna, no serán contados."
   ]
  },
  {
   "cell_type": "code",
   "execution_count": 11,
   "metadata": {
    "colab": {
     "base_uri": "https://localhost:8080/"
    },
    "id": "MpOQCEv6Qha-",
    "outputId": "1541ca2b-b1ea-410c-8e8e-f48dd8e0e546"
   },
   "outputs": [
    {
     "data": {
      "text/plain": [
       "30"
      ]
     },
     "execution_count": 11,
     "metadata": {},
     "output_type": "execute_result"
    }
   ],
   "source": [
    "# Contar total columna\n",
    "df.Producto.count()\n",
    "\n",
    "# Tambien funciona asi:\n",
    "df[\"Producto\"].count()\n"
   ]
  },
  {
   "cell_type": "markdown",
   "metadata": {},
   "source": [
    "#### - Contar por tipo `value.counts`"
   ]
  },
  {
   "cell_type": "markdown",
   "metadata": {},
   "source": [
    "Este método devuelve una Serie que contiene el conteo de valores únicos en orden descendente. También proporciona el número de veces que cada entrada única aparece en la columna Producto."
   ]
  },
  {
   "cell_type": "code",
   "execution_count": 12,
   "metadata": {
    "colab": {
     "base_uri": "https://localhost:8080/"
    },
    "id": "mK1ZuL-XQXaN",
    "outputId": "fb1746c3-274d-4db4-e388-c1e6253452c8"
   },
   "outputs": [
    {
     "data": {
      "text/plain": [
       "Producto\n",
       "Xbox Series X                               1\n",
       "Teclado mecánico Razer BlackWidow           1\n",
       "Smart TV LG OLED 55\"                        1\n",
       "Cámara Canon EOS Rebel T7                   1\n",
       "Bicicleta eléctrica Xiaomi                  1\n",
       "Bose QuietComfort 35 II                     1\n",
       "iPhone 13                                   1\n",
       "Drone DJI Mavic Air 2                       1\n",
       "Silla gaming DXRacer                        1\n",
       "Microondas inteligente Panasonic            1\n",
       "Auriculares Sony WH-1000XM4                 1\n",
       "Mochila antirrobo XD Design                 1\n",
       "Smartwatch Samsung Galaxy Watch 3           1\n",
       "iPad Pro 12.9                               1\n",
       "Laptop Dell XPS 15                          1\n",
       "Samsung Galaxy S21                          1\n",
       "Refrigerador Samsung Smart                  1\n",
       "Garmin Fenix 6 Pro                          1\n",
       "Gafas de realidad virtual Oculus Quest 2    1\n",
       "AirPods Pro                                 1\n",
       "GoPro HERO9                                 1\n",
       "Reloj Inteligente Apple Watch Series 6      1\n",
       "PlayStation 5                               1\n",
       "Nintendo Switch                             1\n",
       "Cafetera Nespresso Vertuo                   1\n",
       "Cámara de acción Insta360 One X2            1\n",
       "Kindle Paperwhite                           1\n",
       "Robot aspirador Roomba 960                  1\n",
       "Monitor Gaming Asus 27\"                     1\n",
       "Consola Retro Sega Genesis                  1\n",
       "Name: count, dtype: int64"
      ]
     },
     "execution_count": 12,
     "metadata": {},
     "output_type": "execute_result"
    }
   ],
   "source": [
    "# Contar por tipo\n",
    "df.Producto.value_counts()\n",
    "\n",
    "# Tambien funciona asi:\n",
    "df[\"Producto\"].value_counts()\n"
   ]
  },
  {
   "cell_type": "markdown",
   "metadata": {
    "id": "nWjr23Z1DVKl"
   },
   "source": [
    "## 4.4. Filtrar DataFrames con condiciones \n",
    "\n",
    "Puedes seleccionar un set de datos que cumplen una condición utilizando esta estructura `df[condicion]`. Por ejemplo:"
   ]
  },
  {
   "cell_type": "code",
   "execution_count": null,
   "metadata": {},
   "outputs": [],
   "source": []
  },
  {
   "cell_type": "code",
   "execution_count": 13,
   "metadata": {
    "colab": {
     "base_uri": "https://localhost:8080/",
     "height": 238
    },
    "id": "LmHNKrh8Decr",
    "outputId": "0e177390-2e39-47a7-dfee-2de1d05e55c3"
   },
   "outputs": [
    {
     "data": {
      "text/html": [
       "<div>\n",
       "<style scoped>\n",
       "    .dataframe tbody tr th:only-of-type {\n",
       "        vertical-align: middle;\n",
       "    }\n",
       "\n",
       "    .dataframe tbody tr th {\n",
       "        vertical-align: top;\n",
       "    }\n",
       "\n",
       "    .dataframe thead th {\n",
       "        text-align: right;\n",
       "    }\n",
       "</style>\n",
       "<table border=\"1\" class=\"dataframe\">\n",
       "  <thead>\n",
       "    <tr style=\"text-align: right;\">\n",
       "      <th></th>\n",
       "      <th>Producto</th>\n",
       "      <th>Cantidad</th>\n",
       "      <th>Precio</th>\n",
       "    </tr>\n",
       "    <tr>\n",
       "      <th>ID_Producto</th>\n",
       "      <th></th>\n",
       "      <th></th>\n",
       "      <th></th>\n",
       "    </tr>\n",
       "  </thead>\n",
       "  <tbody>\n",
       "    <tr>\n",
       "      <th>SKU4</th>\n",
       "      <td>Teclado mecánico Razer BlackWidow</td>\n",
       "      <td>130</td>\n",
       "      <td>250</td>\n",
       "    </tr>\n",
       "    <tr>\n",
       "      <th>SKU26</th>\n",
       "      <td>Kindle Paperwhite</td>\n",
       "      <td>150</td>\n",
       "      <td>200</td>\n",
       "    </tr>\n",
       "    <tr>\n",
       "      <th>SKU98</th>\n",
       "      <td>AirPods Pro</td>\n",
       "      <td>120</td>\n",
       "      <td>250</td>\n",
       "    </tr>\n",
       "    <tr>\n",
       "      <th>SKU162</th>\n",
       "      <td>Mochila antirrobo XD Design</td>\n",
       "      <td>150</td>\n",
       "      <td>180</td>\n",
       "    </tr>\n",
       "    <tr>\n",
       "      <th>SKU196</th>\n",
       "      <td>Consola Retro Sega Genesis</td>\n",
       "      <td>110</td>\n",
       "      <td>120</td>\n",
       "    </tr>\n",
       "  </tbody>\n",
       "</table>\n",
       "</div>"
      ],
      "text/plain": [
       "                                      Producto  Cantidad  Precio\n",
       "ID_Producto                                                     \n",
       "SKU4         Teclado mecánico Razer BlackWidow       130     250\n",
       "SKU26                        Kindle Paperwhite       150     200\n",
       "SKU98                              AirPods Pro       120     250\n",
       "SKU162             Mochila antirrobo XD Design       150     180\n",
       "SKU196              Consola Retro Sega Genesis       110     120"
      ]
     },
     "execution_count": 13,
     "metadata": {},
     "output_type": "execute_result"
    }
   ],
   "source": [
    "df[df[\"Cantidad\"] > 100]\n"
   ]
  },
  {
   "cell_type": "markdown",
   "metadata": {
    "id": "Qltt0KcSD4EQ"
   },
   "source": [
    "Estas condiciones pueden ser complejas a través de usar indicadores `&` (AND) y `|` (OR)"
   ]
  },
  {
   "cell_type": "code",
   "execution_count": 14,
   "metadata": {
    "colab": {
     "base_uri": "https://localhost:8080/",
     "height": 143
    },
    "id": "WUwa7rwfDyyE",
    "outputId": "bf82665b-e993-40ee-fa16-a51ad80efc49"
   },
   "outputs": [
    {
     "ename": "NameError",
     "evalue": "name 'df_excel' is not defined",
     "output_type": "error",
     "traceback": [
      "\u001b[1;31m---------------------------------------------------------------------------\u001b[0m",
      "\u001b[1;31mNameError\u001b[0m                                 Traceback (most recent call last)",
      "Cell \u001b[1;32mIn[14], line 2\u001b[0m\n\u001b[0;32m      1\u001b[0m \u001b[38;5;66;03m# Tienen que cumplirse dos condiciones al mismo tiempo\u001b[39;00m\n\u001b[1;32m----> 2\u001b[0m df_excel[(df_excel[\u001b[38;5;124m\"\u001b[39m\u001b[38;5;124mCantidad\u001b[39m\u001b[38;5;124m\"\u001b[39m] \u001b[38;5;241m>\u001b[39m \u001b[38;5;241m100\u001b[39m) \u001b[38;5;241m&\u001b[39m (df_excel[\u001b[38;5;124m\"\u001b[39m\u001b[38;5;124mPrecio\u001b[39m\u001b[38;5;124m\"\u001b[39m] \u001b[38;5;241m<\u001b[39m \u001b[38;5;241m200000\u001b[39m)]\n",
      "\u001b[1;31mNameError\u001b[0m: name 'df_excel' is not defined"
     ]
    }
   ],
   "source": [
    "# Tienen que cumplirse dos condiciones al mismo tiempo\n",
    "df_excel[(df_excel[\"Cantidad\"] > 100) & (df_excel[\"Precio\"] < 200000)]\n"
   ]
  },
  {
   "cell_type": "code",
   "execution_count": null,
   "metadata": {
    "colab": {
     "base_uri": "https://localhost:8080/",
     "height": 269
    },
    "id": "gmpjToZdEi3d",
    "outputId": "cbaa9c3f-1a55-41d1-9fc3-eecd3e59bd18"
   },
   "outputs": [],
   "source": [
    "# Tiene que cumplirse al menos una condición\n",
    "df_excel[(df_excel[\"Cantidad\"] > 100) | (df_excel[\"Precio\"] < 200000)]\n"
   ]
  },
  {
   "cell_type": "markdown",
   "metadata": {
    "id": "SRmWpxNJFJan"
   },
   "source": [
    "Para filtrar por aquellos que contienen un texto determinado, puedes usar `.str.contains()`. Nótese que es sensible a mayúsculas y tildes."
   ]
  },
  {
   "cell_type": "code",
   "execution_count": null,
   "metadata": {
    "colab": {
     "base_uri": "https://localhost:8080/",
     "height": 143
    },
    "id": "jD7FsfZyFPhX",
    "outputId": "93741d24-feed-402e-af25-2d64fccc50e8"
   },
   "outputs": [],
   "source": [
    "# Filtra los productos que contienen la palabra \"Cámara\"\n",
    "df_excel[(df_excel[\"Producto\"].str.contains(\"Cámara\"))]\n"
   ]
  },
  {
   "cell_type": "markdown",
   "metadata": {
    "id": "gd_pUSeeNJ-s"
   },
   "source": [
    "## 4.5. Ordenar DataFrames\n",
    "Para ordenar los datos en tu `DataFrame` puedes usar la siguiente estructura\n",
    "\n",
    "`df.sort_values(by=nombre_columna, ascending=True/False)`\n",
    "\n",
    "`ascending` es `True` cuando los datos van de menor a mayor, y es `False` en el caso contrario.\n",
    "\n",
    "Puedes combinarlo con el método `head()` y así desplegar un top 5, top 10, o similar. Por ejemplo así puedes ver el top 5 productos por precio."
   ]
  },
  {
   "cell_type": "code",
   "execution_count": null,
   "metadata": {
    "colab": {
     "base_uri": "https://localhost:8080/",
     "height": 238
    },
    "id": "X4hh4qoUOc31",
    "outputId": "765213ad-7cb3-4c5f-9cd1-302f4b552a9a"
   },
   "outputs": [],
   "source": [
    "df_excel.sort_values(by=\"Precio\", ascending=False).head(5)\n"
   ]
  },
  {
   "cell_type": "markdown",
   "metadata": {
    "id": "9IpYD0FfGY0H"
   },
   "source": [
    "## 4.6. Gestión de datos vacios\n",
    "Un problema común la hora de gestionar datos es que hay columnas que no tienen todos los datos. Miremos este ejemplo:"
   ]
  },
  {
   "cell_type": "code",
   "execution_count": null,
   "metadata": {
    "colab": {
     "base_uri": "https://localhost:8080/",
     "height": 238
    },
    "id": "xXGdeuY3GvB1",
    "outputId": "22520a97-2c3f-424f-89bf-36ae6cc6234d"
   },
   "outputs": [],
   "source": [
    "df_artistas = pd.read_excel(\"https://docs.google.com/uc?export=download&id=1bqVTtpAF50QSlrtB6DjfeHx1w9UKT7O3\")\n",
    "df_artistas\n"
   ]
  },
  {
   "cell_type": "markdown",
   "metadata": {
    "id": "rQOZSnO7MTZq"
   },
   "source": [
    "### Identificando datos vacíos\n",
    "En un DataFrame pequeño, como el que acabamos de crear, es fácil ver donde y cuántos `NaN` hay. Pero cuando manipulamos grandes volúmenes de datos es mejor llamar el siguiente tipo de código para obtener un resumen de este problema"
   ]
  },
  {
   "cell_type": "code",
   "execution_count": null,
   "metadata": {
    "colab": {
     "base_uri": "https://localhost:8080/"
    },
    "id": "JKsbPNDAMohG",
    "outputId": "654759ba-b008-43e3-ddd2-ad227715fea7"
   },
   "outputs": [],
   "source": [
    "df_artistas.isna().sum()\n"
   ]
  },
  {
   "cell_type": "markdown",
   "metadata": {
    "id": "Hg2cWqPEMuFq"
   },
   "source": [
    "Puedes ver que en la columna `Spotify streams (millones)` tenemos 1 dato con `NaN`, mientras que en las otras columnas no tenemos."
   ]
  },
  {
   "cell_type": "markdown",
   "metadata": {
    "id": "hTLU8KXdGzt3"
   },
   "source": [
    "### Eliminando datos vacíos\n",
    "La fila de Feid no tiene ningún dato, por lo que podría ser recomendable sacarlo del DataFrame, así podemos manipular los otros datos.\n",
    "\n",
    "**Advertencia**: el método `dropna()` elimina toda la fila si es que alguna columna es `NaN`.\n",
    "\n",
    "**Nota**: Tienes que crear otro DataFrame con la información filtrada. Esto es una protección para evitar que elimines fácilmente los datos."
   ]
  },
  {
   "cell_type": "code",
   "execution_count": null,
   "metadata": {
    "colab": {
     "base_uri": "https://localhost:8080/",
     "height": 206
    },
    "id": "eSNdl1gkG-hy",
    "outputId": "697a861e-0154-4f5f-8bf2-e31f7c206d05"
   },
   "outputs": [],
   "source": [
    "df_artistas_filtrado = df_artistas.dropna()\n",
    "df_artistas_filtrado\n"
   ]
  },
  {
   "cell_type": "markdown",
   "metadata": {
    "id": "o0h9BEgVHyBx"
   },
   "source": [
    "### Llenando datos vacios\n",
    "Otra manera de gestionar estos datos es llenando el vacio que dejó. Vamos a reemplazar el `NaN` en este caso por `7900`, que fue el número asociado a Feid para este año, usando `fillna`"
   ]
  },
  {
   "cell_type": "code",
   "execution_count": null,
   "metadata": {
    "colab": {
     "base_uri": "https://localhost:8080/",
     "height": 238
    },
    "id": "e8v_zA4YIEti",
    "outputId": "0b00ae99-2731-4e33-eb12-28e038769ec1"
   },
   "outputs": [],
   "source": [
    "df_artistas_llenado = df_artistas.fillna(7900)\n",
    "df_artistas_llenado\n"
   ]
  },
  {
   "cell_type": "markdown",
   "metadata": {
    "id": "O9bYAkaXIpxt"
   },
   "source": [
    "Si queremos ser super específicos con como vamos a completar los datos, vamos a usar el método `loc` para específicamente localizar ese dato."
   ]
  },
  {
   "cell_type": "code",
   "execution_count": null,
   "metadata": {
    "colab": {
     "base_uri": "https://localhost:8080/",
     "height": 238
    },
    "id": "UmKQdljPI2KT",
    "outputId": "b82836cf-347a-4a2e-db3f-d3027d55abae"
   },
   "outputs": [],
   "source": [
    "df_artistas.loc[5, \"Spotify streams (millones)\"] = 7900\n",
    "df_artistas\n"
   ]
  },
  {
   "cell_type": "markdown",
   "metadata": {
    "id": "wVfBfqh5KDBG"
   },
   "source": [
    "## 4.7. Creando una columna usando una formula\n",
    "Puede añadir una nueva columna en base a cálculos.\n",
    "\n",
    "En el siguiente ejemplo tenemos un `DataFrame` con la cantidad y precio de cada producto."
   ]
  },
  {
   "cell_type": "code",
   "execution_count": null,
   "metadata": {
    "colab": {
     "base_uri": "https://localhost:8080/",
     "height": 174
    },
    "id": "4vmAypU8KGZr",
    "outputId": "cbd47010-0fe0-4cfd-f79d-bbde38565789"
   },
   "outputs": [],
   "source": [
    "df_excel.head(3)\n"
   ]
  },
  {
   "cell_type": "markdown",
   "metadata": {
    "id": "F4IogjikKXZ1"
   },
   "source": [
    "Suponga que quiere saber cuáles son los productos que representan más valor en su inventario. Para ello le pide que cree una nueva columna llamada `\"ValorInventario\"` que contenga el valor de la cantidad multiplicada por el precio de cada producto."
   ]
  },
  {
   "cell_type": "code",
   "execution_count": null,
   "metadata": {
    "colab": {
     "base_uri": "https://localhost:8080/",
     "height": 174
    },
    "id": "wgrYt4ntKeTi",
    "outputId": "9d6c9a35-b422-4944-d6e6-05d870a22b47"
   },
   "outputs": [],
   "source": [
    "# Generamos la columna\n",
    "df_excel[\"ValorInventario\"] = df_excel.Cantidad * df_excel.Precio\n",
    "\n",
    "# Desplegamos el cambio, con solo los 3 primeros productos\n",
    "df_excel.head(3)\n"
   ]
  },
  {
   "cell_type": "markdown",
   "metadata": {
    "id": "b8g8CGPBLIm7"
   },
   "source": [
    "## 4.8. Borrando una columna\n",
    "Para borrar una columna debe usar `drop`, y especificar `axis=1`, que es el indicador de columnas. En pandas `axis=0` referencia a las filas."
   ]
  },
  {
   "cell_type": "code",
   "execution_count": null,
   "metadata": {
    "colab": {
     "base_uri": "https://localhost:8080/",
     "height": 174
    },
    "id": "LTV-ogq7LZxE",
    "outputId": "6bdf56d5-8f23-4c1b-a1da-c85bddc2f50b"
   },
   "outputs": [],
   "source": [
    "df_productos_borrado = df_excel.drop(\"ValorInventario\", axis=1)\n",
    "\n",
    "# Desplegamos el cambio, con solo los 3 primeros productos\n",
    "df_productos_borrado.head(3)\n"
   ]
  },
  {
   "cell_type": "markdown",
   "metadata": {
    "id": "EEhqx0oELyJg"
   },
   "source": [
    "**Nota**: Tienes que crear otro DataFrame con la información borrada. Esto es una protección para evitar que elimines fácilmente los datos y no puedas recuperarlos."
   ]
  }
 ],
 "metadata": {
  "colab": {
   "provenance": []
  },
  "kernelspec": {
   "display_name": "Python 3 (ipykernel)",
   "language": "python",
   "name": "python3"
  },
  "language_info": {
   "codemirror_mode": {
    "name": "ipython",
    "version": 3
   },
   "file_extension": ".py",
   "mimetype": "text/x-python",
   "name": "python",
   "nbconvert_exporter": "python",
   "pygments_lexer": "ipython3",
   "version": "3.12.8"
  }
 },
 "nbformat": 4,
 "nbformat_minor": 4
}
