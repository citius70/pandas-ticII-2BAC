{
 "cells": [
  {
   "cell_type": "markdown",
   "metadata": {
    "id": "gQNZkftezTG5"
   },
   "source": [
    "# 5. Manipulación de DataFrames (2º Parte)"
   ]
  },
  {
   "cell_type": "markdown",
   "metadata": {},
   "source": [
    "Seguimos trabajando la manipulación de DataFrames. Para ello, utilizaremos de nuevo el archivo del apartado 4.\n",
    "\n",
    "Recuerda que creamos un DataFrame a partir de un archivo con datos de artículos electrónicos que el profesor tiene guardado en Google Drive en formato .csv. El link al archivo es el indicado a https://drive.google.com/uc?export=download&id=16SQQX0ly--l9UvNBr5-KGRWb6todE1u6.\n",
    "\n",
    "Vamos a llamar al Dataframe: **`df`** (por ejemplo)"
   ]
  },
  {
   "cell_type": "code",
   "execution_count": 1,
   "metadata": {
    "id": "wS-atP0RScn9"
   },
   "outputs": [
    {
     "data": {
      "text/html": [
       "<div>\n",
       "<style scoped>\n",
       "    .dataframe tbody tr th:only-of-type {\n",
       "        vertical-align: middle;\n",
       "    }\n",
       "\n",
       "    .dataframe tbody tr th {\n",
       "        vertical-align: top;\n",
       "    }\n",
       "\n",
       "    .dataframe thead th {\n",
       "        text-align: right;\n",
       "    }\n",
       "</style>\n",
       "<table border=\"1\" class=\"dataframe\">\n",
       "  <thead>\n",
       "    <tr style=\"text-align: right;\">\n",
       "      <th></th>\n",
       "      <th>Producto</th>\n",
       "      <th>Cantidad</th>\n",
       "      <th>Precio</th>\n",
       "    </tr>\n",
       "    <tr>\n",
       "      <th>ID_Producto</th>\n",
       "      <th></th>\n",
       "      <th></th>\n",
       "      <th></th>\n",
       "    </tr>\n",
       "  </thead>\n",
       "  <tbody>\n",
       "    <tr>\n",
       "      <th>SKU1</th>\n",
       "      <td>Xbox Series X</td>\n",
       "      <td>65</td>\n",
       "      <td>500</td>\n",
       "    </tr>\n",
       "    <tr>\n",
       "      <th>SKU4</th>\n",
       "      <td>Teclado mecánico Razer BlackWidow</td>\n",
       "      <td>130</td>\n",
       "      <td>250</td>\n",
       "    </tr>\n",
       "    <tr>\n",
       "      <th>SKU7</th>\n",
       "      <td>Monitor Gaming Asus 27\"</td>\n",
       "      <td>45</td>\n",
       "      <td>750</td>\n",
       "    </tr>\n",
       "    <tr>\n",
       "      <th>SKU11</th>\n",
       "      <td>Robot aspirador Roomba 960</td>\n",
       "      <td>30</td>\n",
       "      <td>450</td>\n",
       "    </tr>\n",
       "    <tr>\n",
       "      <th>SKU26</th>\n",
       "      <td>Kindle Paperwhite</td>\n",
       "      <td>150</td>\n",
       "      <td>200</td>\n",
       "    </tr>\n",
       "    <tr>\n",
       "      <th>SKU39</th>\n",
       "      <td>Cámara de acción Insta360 One X2</td>\n",
       "      <td>80</td>\n",
       "      <td>380</td>\n",
       "    </tr>\n",
       "    <tr>\n",
       "      <th>SKU44</th>\n",
       "      <td>Cafetera Nespresso Vertuo</td>\n",
       "      <td>80</td>\n",
       "      <td>150</td>\n",
       "    </tr>\n",
       "    <tr>\n",
       "      <th>SKU48</th>\n",
       "      <td>Nintendo Switch</td>\n",
       "      <td>50</td>\n",
       "      <td>280</td>\n",
       "    </tr>\n",
       "    <tr>\n",
       "      <th>SKU62</th>\n",
       "      <td>PlayStation 5</td>\n",
       "      <td>75</td>\n",
       "      <td>480</td>\n",
       "    </tr>\n",
       "    <tr>\n",
       "      <th>SKU63</th>\n",
       "      <td>Reloj Inteligente Apple Watch Series 6</td>\n",
       "      <td>90</td>\n",
       "      <td>600</td>\n",
       "    </tr>\n",
       "    <tr>\n",
       "      <th>SKU97</th>\n",
       "      <td>GoPro HERO9</td>\n",
       "      <td>100</td>\n",
       "      <td>320</td>\n",
       "    </tr>\n",
       "    <tr>\n",
       "      <th>SKU98</th>\n",
       "      <td>AirPods Pro</td>\n",
       "      <td>120</td>\n",
       "      <td>250</td>\n",
       "    </tr>\n",
       "    <tr>\n",
       "      <th>SKU110</th>\n",
       "      <td>Gafas de realidad virtual Oculus Quest 2</td>\n",
       "      <td>50</td>\n",
       "      <td>300</td>\n",
       "    </tr>\n",
       "    <tr>\n",
       "      <th>SKU115</th>\n",
       "      <td>Garmin Fenix 6 Pro</td>\n",
       "      <td>55</td>\n",
       "      <td>700</td>\n",
       "    </tr>\n",
       "    <tr>\n",
       "      <th>SKU126</th>\n",
       "      <td>Refrigerador Samsung Smart</td>\n",
       "      <td>25</td>\n",
       "      <td>2000</td>\n",
       "    </tr>\n",
       "    <tr>\n",
       "      <th>SKU131</th>\n",
       "      <td>Samsung Galaxy S21</td>\n",
       "      <td>80</td>\n",
       "      <td>850</td>\n",
       "    </tr>\n",
       "    <tr>\n",
       "      <th>SKU134</th>\n",
       "      <td>Laptop Dell XPS 15</td>\n",
       "      <td>40</td>\n",
       "      <td>1200</td>\n",
       "    </tr>\n",
       "    <tr>\n",
       "      <th>SKU154</th>\n",
       "      <td>iPad Pro 12.9</td>\n",
       "      <td>60</td>\n",
       "      <td>1050</td>\n",
       "    </tr>\n",
       "    <tr>\n",
       "      <th>SKU158</th>\n",
       "      <td>Smartwatch Samsung Galaxy Watch 3</td>\n",
       "      <td>85</td>\n",
       "      <td>550</td>\n",
       "    </tr>\n",
       "    <tr>\n",
       "      <th>SKU162</th>\n",
       "      <td>Mochila antirrobo XD Design</td>\n",
       "      <td>150</td>\n",
       "      <td>180</td>\n",
       "    </tr>\n",
       "    <tr>\n",
       "      <th>SKU163</th>\n",
       "      <td>Auriculares Sony WH-1000XM4</td>\n",
       "      <td>100</td>\n",
       "      <td>350</td>\n",
       "    </tr>\n",
       "    <tr>\n",
       "      <th>SKU168</th>\n",
       "      <td>Microondas inteligente Panasonic</td>\n",
       "      <td>50</td>\n",
       "      <td>250</td>\n",
       "    </tr>\n",
       "    <tr>\n",
       "      <th>SKU170</th>\n",
       "      <td>Silla gaming DXRacer</td>\n",
       "      <td>60</td>\n",
       "      <td>400</td>\n",
       "    </tr>\n",
       "    <tr>\n",
       "      <th>SKU171</th>\n",
       "      <td>Drone DJI Mavic Air 2</td>\n",
       "      <td>20</td>\n",
       "      <td>900</td>\n",
       "    </tr>\n",
       "    <tr>\n",
       "      <th>SKU172</th>\n",
       "      <td>iPhone 13</td>\n",
       "      <td>100</td>\n",
       "      <td>990</td>\n",
       "    </tr>\n",
       "    <tr>\n",
       "      <th>SKU176</th>\n",
       "      <td>Bose QuietComfort 35 II</td>\n",
       "      <td>70</td>\n",
       "      <td>350</td>\n",
       "    </tr>\n",
       "    <tr>\n",
       "      <th>SKU178</th>\n",
       "      <td>Bicicleta eléctrica Xiaomi</td>\n",
       "      <td>35</td>\n",
       "      <td>800</td>\n",
       "    </tr>\n",
       "    <tr>\n",
       "      <th>SKU187</th>\n",
       "      <td>Cámara Canon EOS Rebel T7</td>\n",
       "      <td>50</td>\n",
       "      <td>550</td>\n",
       "    </tr>\n",
       "    <tr>\n",
       "      <th>SKU191</th>\n",
       "      <td>Smart TV LG OLED 55\"</td>\n",
       "      <td>40</td>\n",
       "      <td>1500</td>\n",
       "    </tr>\n",
       "    <tr>\n",
       "      <th>SKU196</th>\n",
       "      <td>Consola Retro Sega Genesis</td>\n",
       "      <td>110</td>\n",
       "      <td>120</td>\n",
       "    </tr>\n",
       "  </tbody>\n",
       "</table>\n",
       "</div>"
      ],
      "text/plain": [
       "                                             Producto  Cantidad  Precio\n",
       "ID_Producto                                                            \n",
       "SKU1                                    Xbox Series X        65     500\n",
       "SKU4                Teclado mecánico Razer BlackWidow       130     250\n",
       "SKU7                          Monitor Gaming Asus 27\"        45     750\n",
       "SKU11                      Robot aspirador Roomba 960        30     450\n",
       "SKU26                               Kindle Paperwhite       150     200\n",
       "SKU39                Cámara de acción Insta360 One X2        80     380\n",
       "SKU44                       Cafetera Nespresso Vertuo        80     150\n",
       "SKU48                                 Nintendo Switch        50     280\n",
       "SKU62                                   PlayStation 5        75     480\n",
       "SKU63          Reloj Inteligente Apple Watch Series 6        90     600\n",
       "SKU97                                     GoPro HERO9       100     320\n",
       "SKU98                                     AirPods Pro       120     250\n",
       "SKU110       Gafas de realidad virtual Oculus Quest 2        50     300\n",
       "SKU115                             Garmin Fenix 6 Pro        55     700\n",
       "SKU126                     Refrigerador Samsung Smart        25    2000\n",
       "SKU131                             Samsung Galaxy S21        80     850\n",
       "SKU134                             Laptop Dell XPS 15        40    1200\n",
       "SKU154                                  iPad Pro 12.9        60    1050\n",
       "SKU158              Smartwatch Samsung Galaxy Watch 3        85     550\n",
       "SKU162                    Mochila antirrobo XD Design       150     180\n",
       "SKU163                    Auriculares Sony WH-1000XM4       100     350\n",
       "SKU168               Microondas inteligente Panasonic        50     250\n",
       "SKU170                           Silla gaming DXRacer        60     400\n",
       "SKU171                          Drone DJI Mavic Air 2        20     900\n",
       "SKU172                                      iPhone 13       100     990\n",
       "SKU176                        Bose QuietComfort 35 II        70     350\n",
       "SKU178                     Bicicleta eléctrica Xiaomi        35     800\n",
       "SKU187                      Cámara Canon EOS Rebel T7        50     550\n",
       "SKU191                           Smart TV LG OLED 55\"        40    1500\n",
       "SKU196                     Consola Retro Sega Genesis       110     120"
      ]
     },
     "execution_count": 1,
     "metadata": {},
     "output_type": "execute_result"
    }
   ],
   "source": [
    "# Importamos la librería pandas\n",
    "\n",
    "import pandas as pd\n",
    "\n",
    "# Creamos un DataFrame a partir de un archivo de Excel.\n",
    "# Además, establecemos la columna \"ID_Producto\" como índice\n",
    "\n",
    "df = pd.read_csv(\"https://drive.google.com/uc?export=download&id=16SQQX0ly--l9UvNBr5-KGRWb6todE1u6\", index_col=\"ID_Producto\")\n",
    "\n",
    "df"
   ]
  },
  {
   "cell_type": "markdown",
   "metadata": {
    "id": "nWjr23Z1DVKl"
   },
   "source": [
    "## 5.1. Filtrar DataFrames con condiciones \n",
    "\n",
    "Puedes seleccionar un conjunto de datos que **cumplan una condición** utilizando esta estructura `nombreDataframe[condicion]`. Por ejemplo:"
   ]
  },
  {
   "cell_type": "code",
   "execution_count": 2,
   "metadata": {
    "colab": {
     "base_uri": "https://localhost:8080/",
     "height": 238
    },
    "id": "LmHNKrh8Decr",
    "outputId": "0e177390-2e39-47a7-dfee-2de1d05e55c3"
   },
   "outputs": [
    {
     "data": {
      "text/html": [
       "<div>\n",
       "<style scoped>\n",
       "    .dataframe tbody tr th:only-of-type {\n",
       "        vertical-align: middle;\n",
       "    }\n",
       "\n",
       "    .dataframe tbody tr th {\n",
       "        vertical-align: top;\n",
       "    }\n",
       "\n",
       "    .dataframe thead th {\n",
       "        text-align: right;\n",
       "    }\n",
       "</style>\n",
       "<table border=\"1\" class=\"dataframe\">\n",
       "  <thead>\n",
       "    <tr style=\"text-align: right;\">\n",
       "      <th></th>\n",
       "      <th>Producto</th>\n",
       "      <th>Cantidad</th>\n",
       "      <th>Precio</th>\n",
       "    </tr>\n",
       "    <tr>\n",
       "      <th>ID_Producto</th>\n",
       "      <th></th>\n",
       "      <th></th>\n",
       "      <th></th>\n",
       "    </tr>\n",
       "  </thead>\n",
       "  <tbody>\n",
       "    <tr>\n",
       "      <th>SKU4</th>\n",
       "      <td>Teclado mecánico Razer BlackWidow</td>\n",
       "      <td>130</td>\n",
       "      <td>250</td>\n",
       "    </tr>\n",
       "    <tr>\n",
       "      <th>SKU26</th>\n",
       "      <td>Kindle Paperwhite</td>\n",
       "      <td>150</td>\n",
       "      <td>200</td>\n",
       "    </tr>\n",
       "    <tr>\n",
       "      <th>SKU98</th>\n",
       "      <td>AirPods Pro</td>\n",
       "      <td>120</td>\n",
       "      <td>250</td>\n",
       "    </tr>\n",
       "    <tr>\n",
       "      <th>SKU162</th>\n",
       "      <td>Mochila antirrobo XD Design</td>\n",
       "      <td>150</td>\n",
       "      <td>180</td>\n",
       "    </tr>\n",
       "    <tr>\n",
       "      <th>SKU196</th>\n",
       "      <td>Consola Retro Sega Genesis</td>\n",
       "      <td>110</td>\n",
       "      <td>120</td>\n",
       "    </tr>\n",
       "  </tbody>\n",
       "</table>\n",
       "</div>"
      ],
      "text/plain": [
       "                                      Producto  Cantidad  Precio\n",
       "ID_Producto                                                     \n",
       "SKU4         Teclado mecánico Razer BlackWidow       130     250\n",
       "SKU26                        Kindle Paperwhite       150     200\n",
       "SKU98                              AirPods Pro       120     250\n",
       "SKU162             Mochila antirrobo XD Design       150     180\n",
       "SKU196              Consola Retro Sega Genesis       110     120"
      ]
     },
     "execution_count": 2,
     "metadata": {},
     "output_type": "execute_result"
    }
   ],
   "source": [
    "df[df[\"Cantidad\"] > 100]"
   ]
  },
  {
   "cell_type": "code",
   "execution_count": 3,
   "metadata": {
    "colab": {
     "base_uri": "https://localhost:8080/",
     "height": 238
    },
    "id": "LmHNKrh8Decr",
    "outputId": "0e177390-2e39-47a7-dfee-2de1d05e55c3"
   },
   "outputs": [
    {
     "data": {
      "text/html": [
       "<div>\n",
       "<style scoped>\n",
       "    .dataframe tbody tr th:only-of-type {\n",
       "        vertical-align: middle;\n",
       "    }\n",
       "\n",
       "    .dataframe tbody tr th {\n",
       "        vertical-align: top;\n",
       "    }\n",
       "\n",
       "    .dataframe thead th {\n",
       "        text-align: right;\n",
       "    }\n",
       "</style>\n",
       "<table border=\"1\" class=\"dataframe\">\n",
       "  <thead>\n",
       "    <tr style=\"text-align: right;\">\n",
       "      <th></th>\n",
       "      <th>Producto</th>\n",
       "      <th>Cantidad</th>\n",
       "      <th>Precio</th>\n",
       "    </tr>\n",
       "    <tr>\n",
       "      <th>ID_Producto</th>\n",
       "      <th></th>\n",
       "      <th></th>\n",
       "      <th></th>\n",
       "    </tr>\n",
       "  </thead>\n",
       "  <tbody>\n",
       "    <tr>\n",
       "      <th>SKU4</th>\n",
       "      <td>Teclado mecánico Razer BlackWidow</td>\n",
       "      <td>130</td>\n",
       "      <td>250</td>\n",
       "    </tr>\n",
       "    <tr>\n",
       "      <th>SKU26</th>\n",
       "      <td>Kindle Paperwhite</td>\n",
       "      <td>150</td>\n",
       "      <td>200</td>\n",
       "    </tr>\n",
       "    <tr>\n",
       "      <th>SKU98</th>\n",
       "      <td>AirPods Pro</td>\n",
       "      <td>120</td>\n",
       "      <td>250</td>\n",
       "    </tr>\n",
       "    <tr>\n",
       "      <th>SKU162</th>\n",
       "      <td>Mochila antirrobo XD Design</td>\n",
       "      <td>150</td>\n",
       "      <td>180</td>\n",
       "    </tr>\n",
       "    <tr>\n",
       "      <th>SKU196</th>\n",
       "      <td>Consola Retro Sega Genesis</td>\n",
       "      <td>110</td>\n",
       "      <td>120</td>\n",
       "    </tr>\n",
       "  </tbody>\n",
       "</table>\n",
       "</div>"
      ],
      "text/plain": [
       "                                      Producto  Cantidad  Precio\n",
       "ID_Producto                                                     \n",
       "SKU4         Teclado mecánico Razer BlackWidow       130     250\n",
       "SKU26                        Kindle Paperwhite       150     200\n",
       "SKU98                              AirPods Pro       120     250\n",
       "SKU162             Mochila antirrobo XD Design       150     180\n",
       "SKU196              Consola Retro Sega Genesis       110     120"
      ]
     },
     "execution_count": 3,
     "metadata": {},
     "output_type": "execute_result"
    }
   ],
   "source": [
    "# Si quieres crear un nuevo DataFrame filtrado.\n",
    "# De esta forma tendrás dos dataframe: el original (df) y el filtrado (df_filtrado)\n",
    "df_filtrado = df[df[\"Cantidad\"] > 100]\n",
    "df_filtrado"
   ]
  },
  {
   "cell_type": "markdown",
   "metadata": {
    "id": "Qltt0KcSD4EQ"
   },
   "source": [
    "### 5.1.1. Indicadores `&` (AND) y `|` (OR)"
   ]
  },
  {
   "cell_type": "markdown",
   "metadata": {
    "id": "Qltt0KcSD4EQ"
   },
   "source": [
    "Estas condiciones pueden ser complejas a través de usar indicadores `&` (AND) y `|` (OR)."
   ]
  },
  {
   "cell_type": "markdown",
   "metadata": {},
   "source": [
    "* **`&`** (AND): las dos condiciones tiene que cumplirse: Por ejemplo:"
   ]
  },
  {
   "cell_type": "code",
   "execution_count": 4,
   "metadata": {
    "colab": {
     "base_uri": "https://localhost:8080/",
     "height": 143
    },
    "id": "WUwa7rwfDyyE",
    "outputId": "bf82665b-e993-40ee-fa16-a51ad80efc49"
   },
   "outputs": [
    {
     "data": {
      "text/html": [
       "<div>\n",
       "<style scoped>\n",
       "    .dataframe tbody tr th:only-of-type {\n",
       "        vertical-align: middle;\n",
       "    }\n",
       "\n",
       "    .dataframe tbody tr th {\n",
       "        vertical-align: top;\n",
       "    }\n",
       "\n",
       "    .dataframe thead th {\n",
       "        text-align: right;\n",
       "    }\n",
       "</style>\n",
       "<table border=\"1\" class=\"dataframe\">\n",
       "  <thead>\n",
       "    <tr style=\"text-align: right;\">\n",
       "      <th></th>\n",
       "      <th>Producto</th>\n",
       "      <th>Cantidad</th>\n",
       "      <th>Precio</th>\n",
       "    </tr>\n",
       "    <tr>\n",
       "      <th>ID_Producto</th>\n",
       "      <th></th>\n",
       "      <th></th>\n",
       "      <th></th>\n",
       "    </tr>\n",
       "  </thead>\n",
       "  <tbody>\n",
       "    <tr>\n",
       "      <th>SKU162</th>\n",
       "      <td>Mochila antirrobo XD Design</td>\n",
       "      <td>150</td>\n",
       "      <td>180</td>\n",
       "    </tr>\n",
       "    <tr>\n",
       "      <th>SKU196</th>\n",
       "      <td>Consola Retro Sega Genesis</td>\n",
       "      <td>110</td>\n",
       "      <td>120</td>\n",
       "    </tr>\n",
       "  </tbody>\n",
       "</table>\n",
       "</div>"
      ],
      "text/plain": [
       "                                Producto  Cantidad  Precio\n",
       "ID_Producto                                               \n",
       "SKU162       Mochila antirrobo XD Design       150     180\n",
       "SKU196        Consola Retro Sega Genesis       110     120"
      ]
     },
     "execution_count": 4,
     "metadata": {},
     "output_type": "execute_result"
    }
   ],
   "source": [
    "# Tienen que cumplirse dos condiciones al mismo tiempo\n",
    "df_filtrado_1 = df[(df[\"Cantidad\"] > 100) & (df[\"Precio\"] < 200)]\n",
    "df_filtrado_1"
   ]
  },
  {
   "cell_type": "markdown",
   "metadata": {},
   "source": [
    "* **`|`** (OR): las dos condiciones tiene que cumplirse: Por ejemplo:"
   ]
  },
  {
   "cell_type": "code",
   "execution_count": 5,
   "metadata": {
    "colab": {
     "base_uri": "https://localhost:8080/",
     "height": 269
    },
    "id": "gmpjToZdEi3d",
    "outputId": "cbaa9c3f-1a55-41d1-9fc3-eecd3e59bd18"
   },
   "outputs": [
    {
     "data": {
      "text/html": [
       "<div>\n",
       "<style scoped>\n",
       "    .dataframe tbody tr th:only-of-type {\n",
       "        vertical-align: middle;\n",
       "    }\n",
       "\n",
       "    .dataframe tbody tr th {\n",
       "        vertical-align: top;\n",
       "    }\n",
       "\n",
       "    .dataframe thead th {\n",
       "        text-align: right;\n",
       "    }\n",
       "</style>\n",
       "<table border=\"1\" class=\"dataframe\">\n",
       "  <thead>\n",
       "    <tr style=\"text-align: right;\">\n",
       "      <th></th>\n",
       "      <th>Producto</th>\n",
       "      <th>Cantidad</th>\n",
       "      <th>Precio</th>\n",
       "    </tr>\n",
       "    <tr>\n",
       "      <th>ID_Producto</th>\n",
       "      <th></th>\n",
       "      <th></th>\n",
       "      <th></th>\n",
       "    </tr>\n",
       "  </thead>\n",
       "  <tbody>\n",
       "    <tr>\n",
       "      <th>SKU4</th>\n",
       "      <td>Teclado mecánico Razer BlackWidow</td>\n",
       "      <td>130</td>\n",
       "      <td>250</td>\n",
       "    </tr>\n",
       "    <tr>\n",
       "      <th>SKU26</th>\n",
       "      <td>Kindle Paperwhite</td>\n",
       "      <td>150</td>\n",
       "      <td>200</td>\n",
       "    </tr>\n",
       "    <tr>\n",
       "      <th>SKU44</th>\n",
       "      <td>Cafetera Nespresso Vertuo</td>\n",
       "      <td>80</td>\n",
       "      <td>150</td>\n",
       "    </tr>\n",
       "    <tr>\n",
       "      <th>SKU98</th>\n",
       "      <td>AirPods Pro</td>\n",
       "      <td>120</td>\n",
       "      <td>250</td>\n",
       "    </tr>\n",
       "    <tr>\n",
       "      <th>SKU162</th>\n",
       "      <td>Mochila antirrobo XD Design</td>\n",
       "      <td>150</td>\n",
       "      <td>180</td>\n",
       "    </tr>\n",
       "    <tr>\n",
       "      <th>SKU196</th>\n",
       "      <td>Consola Retro Sega Genesis</td>\n",
       "      <td>110</td>\n",
       "      <td>120</td>\n",
       "    </tr>\n",
       "  </tbody>\n",
       "</table>\n",
       "</div>"
      ],
      "text/plain": [
       "                                      Producto  Cantidad  Precio\n",
       "ID_Producto                                                     \n",
       "SKU4         Teclado mecánico Razer BlackWidow       130     250\n",
       "SKU26                        Kindle Paperwhite       150     200\n",
       "SKU44                Cafetera Nespresso Vertuo        80     150\n",
       "SKU98                              AirPods Pro       120     250\n",
       "SKU162             Mochila antirrobo XD Design       150     180\n",
       "SKU196              Consola Retro Sega Genesis       110     120"
      ]
     },
     "execution_count": 5,
     "metadata": {},
     "output_type": "execute_result"
    }
   ],
   "source": [
    "# Tienen que cumplirse una de las dos condiciones\n",
    "df_filtrado_2 = df[(df[\"Cantidad\"] > 100) | (df[\"Precio\"] < 200)]\n",
    "df_filtrado_2"
   ]
  },
  {
   "cell_type": "markdown",
   "metadata": {
    "id": "SRmWpxNJFJan"
   },
   "source": [
    "Para filtrar por aquellos que contienen un texto determinado, puedes usar `.str.contains()`. Nótese que es sensible a mayúsculas y tildes."
   ]
  },
  {
   "cell_type": "code",
   "execution_count": 6,
   "metadata": {
    "colab": {
     "base_uri": "https://localhost:8080/",
     "height": 143
    },
    "id": "jD7FsfZyFPhX",
    "outputId": "93741d24-feed-402e-af25-2d64fccc50e8"
   },
   "outputs": [
    {
     "data": {
      "text/html": [
       "<div>\n",
       "<style scoped>\n",
       "    .dataframe tbody tr th:only-of-type {\n",
       "        vertical-align: middle;\n",
       "    }\n",
       "\n",
       "    .dataframe tbody tr th {\n",
       "        vertical-align: top;\n",
       "    }\n",
       "\n",
       "    .dataframe thead th {\n",
       "        text-align: right;\n",
       "    }\n",
       "</style>\n",
       "<table border=\"1\" class=\"dataframe\">\n",
       "  <thead>\n",
       "    <tr style=\"text-align: right;\">\n",
       "      <th></th>\n",
       "      <th>Producto</th>\n",
       "      <th>Cantidad</th>\n",
       "      <th>Precio</th>\n",
       "    </tr>\n",
       "    <tr>\n",
       "      <th>ID_Producto</th>\n",
       "      <th></th>\n",
       "      <th></th>\n",
       "      <th></th>\n",
       "    </tr>\n",
       "  </thead>\n",
       "  <tbody>\n",
       "    <tr>\n",
       "      <th>SKU39</th>\n",
       "      <td>Cámara de acción Insta360 One X2</td>\n",
       "      <td>80</td>\n",
       "      <td>380</td>\n",
       "    </tr>\n",
       "    <tr>\n",
       "      <th>SKU187</th>\n",
       "      <td>Cámara Canon EOS Rebel T7</td>\n",
       "      <td>50</td>\n",
       "      <td>550</td>\n",
       "    </tr>\n",
       "  </tbody>\n",
       "</table>\n",
       "</div>"
      ],
      "text/plain": [
       "                                     Producto  Cantidad  Precio\n",
       "ID_Producto                                                    \n",
       "SKU39        Cámara de acción Insta360 One X2        80     380\n",
       "SKU187              Cámara Canon EOS Rebel T7        50     550"
      ]
     },
     "execution_count": 6,
     "metadata": {},
     "output_type": "execute_result"
    }
   ],
   "source": [
    "# Filtra los productos que contienen la palabra \"Cámara\" en la columna Producto\n",
    "df_filtrado_3 = df[(df[\"Producto\"].str.contains(\"Cámara\"))]\n",
    "df_filtrado_3"
   ]
  },
  {
   "cell_type": "markdown",
   "metadata": {
    "id": "gd_pUSeeNJ-s"
   },
   "source": [
    "## 5.2. Ordenar DataFrames"
   ]
  },
  {
   "cell_type": "markdown",
   "metadata": {
    "id": "gd_pUSeeNJ-s"
   },
   "source": [
    "Para ordenar los datos en tu `DataFrame` puedes usar el comando: `sort_values`\n",
    "\n",
    "`nombreDataFrame.sort_values(by=nombre_columna, ascending=True/False)`\n",
    "\n",
    "`ascending` es `True` cuando los datos van de menor a mayor, y es `False` en el caso contrario.\n",
    "\n",
    "Puedes combinarlo con el método `head()` y así desplegar un top 5, top 10, o similar. Por ejemplo así puedes ver el top 5 productos por precio."
   ]
  },
  {
   "cell_type": "code",
   "execution_count": 7,
   "metadata": {
    "colab": {
     "base_uri": "https://localhost:8080/",
     "height": 238
    },
    "id": "X4hh4qoUOc31",
    "outputId": "765213ad-7cb3-4c5f-9cd1-302f4b552a9a"
   },
   "outputs": [
    {
     "data": {
      "text/html": [
       "<div>\n",
       "<style scoped>\n",
       "    .dataframe tbody tr th:only-of-type {\n",
       "        vertical-align: middle;\n",
       "    }\n",
       "\n",
       "    .dataframe tbody tr th {\n",
       "        vertical-align: top;\n",
       "    }\n",
       "\n",
       "    .dataframe thead th {\n",
       "        text-align: right;\n",
       "    }\n",
       "</style>\n",
       "<table border=\"1\" class=\"dataframe\">\n",
       "  <thead>\n",
       "    <tr style=\"text-align: right;\">\n",
       "      <th></th>\n",
       "      <th>Producto</th>\n",
       "      <th>Cantidad</th>\n",
       "      <th>Precio</th>\n",
       "    </tr>\n",
       "    <tr>\n",
       "      <th>ID_Producto</th>\n",
       "      <th></th>\n",
       "      <th></th>\n",
       "      <th></th>\n",
       "    </tr>\n",
       "  </thead>\n",
       "  <tbody>\n",
       "    <tr>\n",
       "      <th>SKU126</th>\n",
       "      <td>Refrigerador Samsung Smart</td>\n",
       "      <td>25</td>\n",
       "      <td>2000</td>\n",
       "    </tr>\n",
       "    <tr>\n",
       "      <th>SKU191</th>\n",
       "      <td>Smart TV LG OLED 55\"</td>\n",
       "      <td>40</td>\n",
       "      <td>1500</td>\n",
       "    </tr>\n",
       "    <tr>\n",
       "      <th>SKU134</th>\n",
       "      <td>Laptop Dell XPS 15</td>\n",
       "      <td>40</td>\n",
       "      <td>1200</td>\n",
       "    </tr>\n",
       "    <tr>\n",
       "      <th>SKU154</th>\n",
       "      <td>iPad Pro 12.9</td>\n",
       "      <td>60</td>\n",
       "      <td>1050</td>\n",
       "    </tr>\n",
       "    <tr>\n",
       "      <th>SKU172</th>\n",
       "      <td>iPhone 13</td>\n",
       "      <td>100</td>\n",
       "      <td>990</td>\n",
       "    </tr>\n",
       "  </tbody>\n",
       "</table>\n",
       "</div>"
      ],
      "text/plain": [
       "                               Producto  Cantidad  Precio\n",
       "ID_Producto                                              \n",
       "SKU126       Refrigerador Samsung Smart        25    2000\n",
       "SKU191             Smart TV LG OLED 55\"        40    1500\n",
       "SKU134               Laptop Dell XPS 15        40    1200\n",
       "SKU154                    iPad Pro 12.9        60    1050\n",
       "SKU172                        iPhone 13       100     990"
      ]
     },
     "execution_count": 7,
     "metadata": {},
     "output_type": "execute_result"
    }
   ],
   "source": [
    "df_ordenado = df.sort_values(by=\"Precio\", ascending=False).head(5)\n",
    "df_ordenado"
   ]
  },
  {
   "cell_type": "markdown",
   "metadata": {
    "id": "9IpYD0FfGY0H"
   },
   "source": [
    "## 5.3. Gestionar de datos vacios\n",
    "Un problema común la hora de gestionar datos es que puede haber columnas que no tienen todos los datos. Miremos este ejemplo:"
   ]
  },
  {
   "cell_type": "code",
   "execution_count": 8,
   "metadata": {
    "colab": {
     "base_uri": "https://localhost:8080/",
     "height": 238
    },
    "id": "xXGdeuY3GvB1",
    "outputId": "22520a97-2c3f-424f-89bf-36ae6cc6234d"
   },
   "outputs": [
    {
     "data": {
      "text/html": [
       "<div>\n",
       "<style scoped>\n",
       "    .dataframe tbody tr th:only-of-type {\n",
       "        vertical-align: middle;\n",
       "    }\n",
       "\n",
       "    .dataframe tbody tr th {\n",
       "        vertical-align: top;\n",
       "    }\n",
       "\n",
       "    .dataframe thead th {\n",
       "        text-align: right;\n",
       "    }\n",
       "</style>\n",
       "<table border=\"1\" class=\"dataframe\">\n",
       "  <thead>\n",
       "    <tr style=\"text-align: right;\">\n",
       "      <th></th>\n",
       "      <th>Artista</th>\n",
       "      <th>Spotify streams (millones)</th>\n",
       "    </tr>\n",
       "  </thead>\n",
       "  <tbody>\n",
       "    <tr>\n",
       "      <th>0</th>\n",
       "      <td>Taylor Swift</td>\n",
       "      <td>29100.0</td>\n",
       "    </tr>\n",
       "    <tr>\n",
       "      <th>1</th>\n",
       "      <td>Bad Bunny</td>\n",
       "      <td>16370.0</td>\n",
       "    </tr>\n",
       "    <tr>\n",
       "      <th>2</th>\n",
       "      <td>The Weeknd</td>\n",
       "      <td>14140.0</td>\n",
       "    </tr>\n",
       "    <tr>\n",
       "      <th>3</th>\n",
       "      <td>Drake</td>\n",
       "      <td>14030.0</td>\n",
       "    </tr>\n",
       "    <tr>\n",
       "      <th>4</th>\n",
       "      <td>Peso Pluma</td>\n",
       "      <td>10540.0</td>\n",
       "    </tr>\n",
       "    <tr>\n",
       "      <th>5</th>\n",
       "      <td>Feid</td>\n",
       "      <td>NaN</td>\n",
       "    </tr>\n",
       "  </tbody>\n",
       "</table>\n",
       "</div>"
      ],
      "text/plain": [
       "        Artista  Spotify streams (millones)\n",
       "0  Taylor Swift                     29100.0\n",
       "1     Bad Bunny                     16370.0\n",
       "2    The Weeknd                     14140.0\n",
       "3         Drake                     14030.0\n",
       "4    Peso Pluma                     10540.0\n",
       "5          Feid                         NaN"
      ]
     },
     "execution_count": 8,
     "metadata": {},
     "output_type": "execute_result"
    }
   ],
   "source": [
    "df_artistas = pd.read_excel(\"https://docs.google.com/uc?export=download&id=1bqVTtpAF50QSlrtB6DjfeHx1w9UKT7O3\")\n",
    "df_artistas"
   ]
  },
  {
   "cell_type": "markdown",
   "metadata": {},
   "source": [
    "```{admonition} Significado de NaN\n",
    "\n",
    "`NaN` significa \"**Not a Number**\" (en inglés: “no es un número”) y se usa en Pandas para representar valores faltantes o nulos en los datos.\n",
    "\n",
    "```\n"
   ]
  },
  {
   "cell_type": "markdown",
   "metadata": {
    "id": "rQOZSnO7MTZq"
   },
   "source": [
    "### 5.3.1. Identificar datos vacíos"
   ]
  },
  {
   "cell_type": "markdown",
   "metadata": {
    "id": "rQOZSnO7MTZq"
   },
   "source": [
    "En un DataFrame pequeño, como el que acabamos de crear, es fácil ver donde y cuántos `NaN` hay. Pero cuando manipulamos grandes volúmenes de datos es mejor llamar el siguiente tipo de código para obtener un resumen de este problema\n",
    "\n",
    "Los valores `NaN` aparecen cuando hay datos faltantes.{margin}`Esto es común en encuestas o archivos CSV con celdas vacías.`\n",
    "\n",
    "Para ver cuántos y en cuáles columnas faltan daros, usamos:"
   ]
  },
  {
   "cell_type": "code",
   "execution_count": 9,
   "metadata": {
    "colab": {
     "base_uri": "https://localhost:8080/"
    },
    "id": "JKsbPNDAMohG",
    "outputId": "654759ba-b008-43e3-ddd2-ad227715fea7"
   },
   "outputs": [
    {
     "data": {
      "text/plain": [
       "Artista                       0\n",
       "Spotify streams (millones)    1\n",
       "dtype: int64"
      ]
     },
     "execution_count": 9,
     "metadata": {},
     "output_type": "execute_result"
    }
   ],
   "source": [
    "df_artistas.isna().sum()\n"
   ]
  },
  {
   "cell_type": "markdown",
   "metadata": {
    "id": "Hg2cWqPEMuFq"
   },
   "source": [
    "Puedes ver que en la columna `Spotify streams (millones)` tenemos 1 dato con `NaN`, mientras que en las otras columnas no tenemos."
   ]
  },
  {
   "cell_type": "markdown",
   "metadata": {
    "id": "hTLU8KXdGzt3"
   },
   "source": [
    "### 5.3.2. Eliminar datos vacíos\n",
    "La fila del artista Feid no tiene ningún dato, por lo que podría ser recomendable sacarlo del DataFrame, así podemos manipular los otros datos.\n",
    "\n",
    "**Advertencia**: el método `dropna()` elimina toda la fila si es que alguna columna es `NaN`.\n",
    "\n",
    "**Nota**: Tienes que crear otro DataFrame con la información filtrada. Esto es una protección para evitar que elimines fácilmente los datos."
   ]
  },
  {
   "cell_type": "code",
   "execution_count": 10,
   "metadata": {
    "colab": {
     "base_uri": "https://localhost:8080/",
     "height": 206
    },
    "id": "eSNdl1gkG-hy",
    "outputId": "697a861e-0154-4f5f-8bf2-e31f7c206d05"
   },
   "outputs": [
    {
     "data": {
      "text/html": [
       "<div>\n",
       "<style scoped>\n",
       "    .dataframe tbody tr th:only-of-type {\n",
       "        vertical-align: middle;\n",
       "    }\n",
       "\n",
       "    .dataframe tbody tr th {\n",
       "        vertical-align: top;\n",
       "    }\n",
       "\n",
       "    .dataframe thead th {\n",
       "        text-align: right;\n",
       "    }\n",
       "</style>\n",
       "<table border=\"1\" class=\"dataframe\">\n",
       "  <thead>\n",
       "    <tr style=\"text-align: right;\">\n",
       "      <th></th>\n",
       "      <th>Artista</th>\n",
       "      <th>Spotify streams (millones)</th>\n",
       "    </tr>\n",
       "  </thead>\n",
       "  <tbody>\n",
       "    <tr>\n",
       "      <th>0</th>\n",
       "      <td>Taylor Swift</td>\n",
       "      <td>29100.0</td>\n",
       "    </tr>\n",
       "    <tr>\n",
       "      <th>1</th>\n",
       "      <td>Bad Bunny</td>\n",
       "      <td>16370.0</td>\n",
       "    </tr>\n",
       "    <tr>\n",
       "      <th>2</th>\n",
       "      <td>The Weeknd</td>\n",
       "      <td>14140.0</td>\n",
       "    </tr>\n",
       "    <tr>\n",
       "      <th>3</th>\n",
       "      <td>Drake</td>\n",
       "      <td>14030.0</td>\n",
       "    </tr>\n",
       "    <tr>\n",
       "      <th>4</th>\n",
       "      <td>Peso Pluma</td>\n",
       "      <td>10540.0</td>\n",
       "    </tr>\n",
       "  </tbody>\n",
       "</table>\n",
       "</div>"
      ],
      "text/plain": [
       "        Artista  Spotify streams (millones)\n",
       "0  Taylor Swift                     29100.0\n",
       "1     Bad Bunny                     16370.0\n",
       "2    The Weeknd                     14140.0\n",
       "3         Drake                     14030.0\n",
       "4    Peso Pluma                     10540.0"
      ]
     },
     "execution_count": 10,
     "metadata": {},
     "output_type": "execute_result"
    }
   ],
   "source": [
    "df_artistas_filtrado = df_artistas.dropna()\n",
    "df_artistas_filtrado\n"
   ]
  },
  {
   "cell_type": "markdown",
   "metadata": {
    "id": "o0h9BEgVHyBx"
   },
   "source": [
    "### 5.3.3. Llenar datos vacios\n",
    "Otra manera de gestionar estos datos es llenando el vacio que dejó. Vamos a reemplazar el `NaN` en este caso por `7900`, que fue el número asociado a Feid para este año, usando `fillna`"
   ]
  },
  {
   "cell_type": "code",
   "execution_count": 11,
   "metadata": {
    "colab": {
     "base_uri": "https://localhost:8080/",
     "height": 238
    },
    "id": "e8v_zA4YIEti",
    "outputId": "0b00ae99-2731-4e33-eb12-28e038769ec1"
   },
   "outputs": [
    {
     "data": {
      "text/html": [
       "<div>\n",
       "<style scoped>\n",
       "    .dataframe tbody tr th:only-of-type {\n",
       "        vertical-align: middle;\n",
       "    }\n",
       "\n",
       "    .dataframe tbody tr th {\n",
       "        vertical-align: top;\n",
       "    }\n",
       "\n",
       "    .dataframe thead th {\n",
       "        text-align: right;\n",
       "    }\n",
       "</style>\n",
       "<table border=\"1\" class=\"dataframe\">\n",
       "  <thead>\n",
       "    <tr style=\"text-align: right;\">\n",
       "      <th></th>\n",
       "      <th>Artista</th>\n",
       "      <th>Spotify streams (millones)</th>\n",
       "    </tr>\n",
       "  </thead>\n",
       "  <tbody>\n",
       "    <tr>\n",
       "      <th>0</th>\n",
       "      <td>Taylor Swift</td>\n",
       "      <td>29100.0</td>\n",
       "    </tr>\n",
       "    <tr>\n",
       "      <th>1</th>\n",
       "      <td>Bad Bunny</td>\n",
       "      <td>16370.0</td>\n",
       "    </tr>\n",
       "    <tr>\n",
       "      <th>2</th>\n",
       "      <td>The Weeknd</td>\n",
       "      <td>14140.0</td>\n",
       "    </tr>\n",
       "    <tr>\n",
       "      <th>3</th>\n",
       "      <td>Drake</td>\n",
       "      <td>14030.0</td>\n",
       "    </tr>\n",
       "    <tr>\n",
       "      <th>4</th>\n",
       "      <td>Peso Pluma</td>\n",
       "      <td>10540.0</td>\n",
       "    </tr>\n",
       "    <tr>\n",
       "      <th>5</th>\n",
       "      <td>Feid</td>\n",
       "      <td>7900.0</td>\n",
       "    </tr>\n",
       "  </tbody>\n",
       "</table>\n",
       "</div>"
      ],
      "text/plain": [
       "        Artista  Spotify streams (millones)\n",
       "0  Taylor Swift                     29100.0\n",
       "1     Bad Bunny                     16370.0\n",
       "2    The Weeknd                     14140.0\n",
       "3         Drake                     14030.0\n",
       "4    Peso Pluma                     10540.0\n",
       "5          Feid                      7900.0"
      ]
     },
     "execution_count": 11,
     "metadata": {},
     "output_type": "execute_result"
    }
   ],
   "source": [
    "df_artistas_llenado = df_artistas.fillna(7900)\n",
    "df_artistas_llenado\n"
   ]
  },
  {
   "cell_type": "markdown",
   "metadata": {
    "id": "O9bYAkaXIpxt"
   },
   "source": [
    "Si queremos ser específicos con como vamos a completar los datos, vamos a usar el método `loc` para localizar esa fila, en este caso la 5."
   ]
  },
  {
   "cell_type": "code",
   "execution_count": 12,
   "metadata": {
    "colab": {
     "base_uri": "https://localhost:8080/",
     "height": 238
    },
    "id": "UmKQdljPI2KT",
    "outputId": "b82836cf-347a-4a2e-db3f-d3027d55abae"
   },
   "outputs": [
    {
     "data": {
      "text/html": [
       "<div>\n",
       "<style scoped>\n",
       "    .dataframe tbody tr th:only-of-type {\n",
       "        vertical-align: middle;\n",
       "    }\n",
       "\n",
       "    .dataframe tbody tr th {\n",
       "        vertical-align: top;\n",
       "    }\n",
       "\n",
       "    .dataframe thead th {\n",
       "        text-align: right;\n",
       "    }\n",
       "</style>\n",
       "<table border=\"1\" class=\"dataframe\">\n",
       "  <thead>\n",
       "    <tr style=\"text-align: right;\">\n",
       "      <th></th>\n",
       "      <th>Artista</th>\n",
       "      <th>Spotify streams (millones)</th>\n",
       "    </tr>\n",
       "  </thead>\n",
       "  <tbody>\n",
       "    <tr>\n",
       "      <th>0</th>\n",
       "      <td>Taylor Swift</td>\n",
       "      <td>29100.0</td>\n",
       "    </tr>\n",
       "    <tr>\n",
       "      <th>1</th>\n",
       "      <td>Bad Bunny</td>\n",
       "      <td>16370.0</td>\n",
       "    </tr>\n",
       "    <tr>\n",
       "      <th>2</th>\n",
       "      <td>The Weeknd</td>\n",
       "      <td>14140.0</td>\n",
       "    </tr>\n",
       "    <tr>\n",
       "      <th>3</th>\n",
       "      <td>Drake</td>\n",
       "      <td>14030.0</td>\n",
       "    </tr>\n",
       "    <tr>\n",
       "      <th>4</th>\n",
       "      <td>Peso Pluma</td>\n",
       "      <td>10540.0</td>\n",
       "    </tr>\n",
       "    <tr>\n",
       "      <th>5</th>\n",
       "      <td>Feid</td>\n",
       "      <td>7900.0</td>\n",
       "    </tr>\n",
       "  </tbody>\n",
       "</table>\n",
       "</div>"
      ],
      "text/plain": [
       "        Artista  Spotify streams (millones)\n",
       "0  Taylor Swift                     29100.0\n",
       "1     Bad Bunny                     16370.0\n",
       "2    The Weeknd                     14140.0\n",
       "3         Drake                     14030.0\n",
       "4    Peso Pluma                     10540.0\n",
       "5          Feid                      7900.0"
      ]
     },
     "execution_count": 12,
     "metadata": {},
     "output_type": "execute_result"
    }
   ],
   "source": [
    "df_artistas.loc[5, \"Spotify streams (millones)\"] = 7900\n",
    "df_artistas\n"
   ]
  },
  {
   "cell_type": "markdown",
   "metadata": {
    "id": "wVfBfqh5KDBG"
   },
   "source": [
    "## 5.4. Crear una columna usando una formula\n",
    "Puede añadir una nueva columna en base a cálculos.\n",
    "\n",
    "En el siguiente ejemplo tenemos un `DataFrame` con la cantidad y precio de cada producto."
   ]
  },
  {
   "cell_type": "code",
   "execution_count": 13,
   "metadata": {
    "colab": {
     "base_uri": "https://localhost:8080/",
     "height": 174
    },
    "id": "4vmAypU8KGZr",
    "outputId": "cbd47010-0fe0-4cfd-f79d-bbde38565789"
   },
   "outputs": [
    {
     "data": {
      "text/html": [
       "<div>\n",
       "<style scoped>\n",
       "    .dataframe tbody tr th:only-of-type {\n",
       "        vertical-align: middle;\n",
       "    }\n",
       "\n",
       "    .dataframe tbody tr th {\n",
       "        vertical-align: top;\n",
       "    }\n",
       "\n",
       "    .dataframe thead th {\n",
       "        text-align: right;\n",
       "    }\n",
       "</style>\n",
       "<table border=\"1\" class=\"dataframe\">\n",
       "  <thead>\n",
       "    <tr style=\"text-align: right;\">\n",
       "      <th></th>\n",
       "      <th>Producto</th>\n",
       "      <th>Cantidad</th>\n",
       "      <th>Precio</th>\n",
       "    </tr>\n",
       "    <tr>\n",
       "      <th>ID_Producto</th>\n",
       "      <th></th>\n",
       "      <th></th>\n",
       "      <th></th>\n",
       "    </tr>\n",
       "  </thead>\n",
       "  <tbody>\n",
       "    <tr>\n",
       "      <th>SKU1</th>\n",
       "      <td>Xbox Series X</td>\n",
       "      <td>65</td>\n",
       "      <td>500</td>\n",
       "    </tr>\n",
       "    <tr>\n",
       "      <th>SKU4</th>\n",
       "      <td>Teclado mecánico Razer BlackWidow</td>\n",
       "      <td>130</td>\n",
       "      <td>250</td>\n",
       "    </tr>\n",
       "    <tr>\n",
       "      <th>SKU7</th>\n",
       "      <td>Monitor Gaming Asus 27\"</td>\n",
       "      <td>45</td>\n",
       "      <td>750</td>\n",
       "    </tr>\n",
       "  </tbody>\n",
       "</table>\n",
       "</div>"
      ],
      "text/plain": [
       "                                      Producto  Cantidad  Precio\n",
       "ID_Producto                                                     \n",
       "SKU1                             Xbox Series X        65     500\n",
       "SKU4         Teclado mecánico Razer BlackWidow       130     250\n",
       "SKU7                   Monitor Gaming Asus 27\"        45     750"
      ]
     },
     "execution_count": 13,
     "metadata": {},
     "output_type": "execute_result"
    }
   ],
   "source": [
    "# Vamos a visualizar los tres primeros datos.\n",
    "df.head(3)\n"
   ]
  },
  {
   "cell_type": "markdown",
   "metadata": {
    "id": "F4IogjikKXZ1"
   },
   "source": [
    "Suponga que quiere saber cuáles son los productos que representan más valor en su inventario. Para ello le pide que cree una nueva columna llamada `\"ValorInventario\"` que contenga el valor de la **cantidad multiplicada por el precio** de cada producto."
   ]
  },
  {
   "cell_type": "code",
   "execution_count": 14,
   "metadata": {
    "colab": {
     "base_uri": "https://localhost:8080/",
     "height": 174
    },
    "id": "wgrYt4ntKeTi",
    "outputId": "9d6c9a35-b422-4944-d6e6-05d870a22b47"
   },
   "outputs": [
    {
     "data": {
      "text/html": [
       "<div>\n",
       "<style scoped>\n",
       "    .dataframe tbody tr th:only-of-type {\n",
       "        vertical-align: middle;\n",
       "    }\n",
       "\n",
       "    .dataframe tbody tr th {\n",
       "        vertical-align: top;\n",
       "    }\n",
       "\n",
       "    .dataframe thead th {\n",
       "        text-align: right;\n",
       "    }\n",
       "</style>\n",
       "<table border=\"1\" class=\"dataframe\">\n",
       "  <thead>\n",
       "    <tr style=\"text-align: right;\">\n",
       "      <th></th>\n",
       "      <th>Producto</th>\n",
       "      <th>Cantidad</th>\n",
       "      <th>Precio</th>\n",
       "      <th>ValorInventario</th>\n",
       "    </tr>\n",
       "    <tr>\n",
       "      <th>ID_Producto</th>\n",
       "      <th></th>\n",
       "      <th></th>\n",
       "      <th></th>\n",
       "      <th></th>\n",
       "    </tr>\n",
       "  </thead>\n",
       "  <tbody>\n",
       "    <tr>\n",
       "      <th>SKU1</th>\n",
       "      <td>Xbox Series X</td>\n",
       "      <td>65</td>\n",
       "      <td>500</td>\n",
       "      <td>32500</td>\n",
       "    </tr>\n",
       "    <tr>\n",
       "      <th>SKU4</th>\n",
       "      <td>Teclado mecánico Razer BlackWidow</td>\n",
       "      <td>130</td>\n",
       "      <td>250</td>\n",
       "      <td>32500</td>\n",
       "    </tr>\n",
       "    <tr>\n",
       "      <th>SKU7</th>\n",
       "      <td>Monitor Gaming Asus 27\"</td>\n",
       "      <td>45</td>\n",
       "      <td>750</td>\n",
       "      <td>33750</td>\n",
       "    </tr>\n",
       "    <tr>\n",
       "      <th>SKU11</th>\n",
       "      <td>Robot aspirador Roomba 960</td>\n",
       "      <td>30</td>\n",
       "      <td>450</td>\n",
       "      <td>13500</td>\n",
       "    </tr>\n",
       "    <tr>\n",
       "      <th>SKU26</th>\n",
       "      <td>Kindle Paperwhite</td>\n",
       "      <td>150</td>\n",
       "      <td>200</td>\n",
       "      <td>30000</td>\n",
       "    </tr>\n",
       "    <tr>\n",
       "      <th>SKU39</th>\n",
       "      <td>Cámara de acción Insta360 One X2</td>\n",
       "      <td>80</td>\n",
       "      <td>380</td>\n",
       "      <td>30400</td>\n",
       "    </tr>\n",
       "    <tr>\n",
       "      <th>SKU44</th>\n",
       "      <td>Cafetera Nespresso Vertuo</td>\n",
       "      <td>80</td>\n",
       "      <td>150</td>\n",
       "      <td>12000</td>\n",
       "    </tr>\n",
       "    <tr>\n",
       "      <th>SKU48</th>\n",
       "      <td>Nintendo Switch</td>\n",
       "      <td>50</td>\n",
       "      <td>280</td>\n",
       "      <td>14000</td>\n",
       "    </tr>\n",
       "    <tr>\n",
       "      <th>SKU62</th>\n",
       "      <td>PlayStation 5</td>\n",
       "      <td>75</td>\n",
       "      <td>480</td>\n",
       "      <td>36000</td>\n",
       "    </tr>\n",
       "    <tr>\n",
       "      <th>SKU63</th>\n",
       "      <td>Reloj Inteligente Apple Watch Series 6</td>\n",
       "      <td>90</td>\n",
       "      <td>600</td>\n",
       "      <td>54000</td>\n",
       "    </tr>\n",
       "  </tbody>\n",
       "</table>\n",
       "</div>"
      ],
      "text/plain": [
       "                                           Producto  Cantidad  Precio  \\\n",
       "ID_Producto                                                             \n",
       "SKU1                                  Xbox Series X        65     500   \n",
       "SKU4              Teclado mecánico Razer BlackWidow       130     250   \n",
       "SKU7                        Monitor Gaming Asus 27\"        45     750   \n",
       "SKU11                    Robot aspirador Roomba 960        30     450   \n",
       "SKU26                             Kindle Paperwhite       150     200   \n",
       "SKU39              Cámara de acción Insta360 One X2        80     380   \n",
       "SKU44                     Cafetera Nespresso Vertuo        80     150   \n",
       "SKU48                               Nintendo Switch        50     280   \n",
       "SKU62                                 PlayStation 5        75     480   \n",
       "SKU63        Reloj Inteligente Apple Watch Series 6        90     600   \n",
       "\n",
       "             ValorInventario  \n",
       "ID_Producto                   \n",
       "SKU1                   32500  \n",
       "SKU4                   32500  \n",
       "SKU7                   33750  \n",
       "SKU11                  13500  \n",
       "SKU26                  30000  \n",
       "SKU39                  30400  \n",
       "SKU44                  12000  \n",
       "SKU48                  14000  \n",
       "SKU62                  36000  \n",
       "SKU63                  54000  "
      ]
     },
     "execution_count": 14,
     "metadata": {},
     "output_type": "execute_result"
    }
   ],
   "source": [
    "# Generamos la columna\n",
    "df[\"ValorInventario\"] = df.Cantidad * df.Precio\n",
    "\n",
    "# Desplegamos el cambio, con solo los 10 primeros productos\n",
    "df.head(10)\n"
   ]
  },
  {
   "cell_type": "markdown",
   "metadata": {
    "id": "b8g8CGPBLIm7"
   },
   "source": [
    "## 5.5. Borrar una columna\n",
    "Para borrar una columna debe usar `drop`, y especificar `axis = 1`, que es el indicador de columnas. En pandas `axis = 0` referencia a las filas."
   ]
  },
  {
   "cell_type": "code",
   "execution_count": 15,
   "metadata": {
    "colab": {
     "base_uri": "https://localhost:8080/",
     "height": 174
    },
    "id": "LTV-ogq7LZxE",
    "outputId": "6bdf56d5-8f23-4c1b-a1da-c85bddc2f50b"
   },
   "outputs": [
    {
     "data": {
      "text/html": [
       "<div>\n",
       "<style scoped>\n",
       "    .dataframe tbody tr th:only-of-type {\n",
       "        vertical-align: middle;\n",
       "    }\n",
       "\n",
       "    .dataframe tbody tr th {\n",
       "        vertical-align: top;\n",
       "    }\n",
       "\n",
       "    .dataframe thead th {\n",
       "        text-align: right;\n",
       "    }\n",
       "</style>\n",
       "<table border=\"1\" class=\"dataframe\">\n",
       "  <thead>\n",
       "    <tr style=\"text-align: right;\">\n",
       "      <th></th>\n",
       "      <th>Producto</th>\n",
       "      <th>Cantidad</th>\n",
       "      <th>Precio</th>\n",
       "    </tr>\n",
       "    <tr>\n",
       "      <th>ID_Producto</th>\n",
       "      <th></th>\n",
       "      <th></th>\n",
       "      <th></th>\n",
       "    </tr>\n",
       "  </thead>\n",
       "  <tbody>\n",
       "    <tr>\n",
       "      <th>SKU1</th>\n",
       "      <td>Xbox Series X</td>\n",
       "      <td>65</td>\n",
       "      <td>500</td>\n",
       "    </tr>\n",
       "    <tr>\n",
       "      <th>SKU4</th>\n",
       "      <td>Teclado mecánico Razer BlackWidow</td>\n",
       "      <td>130</td>\n",
       "      <td>250</td>\n",
       "    </tr>\n",
       "    <tr>\n",
       "      <th>SKU7</th>\n",
       "      <td>Monitor Gaming Asus 27\"</td>\n",
       "      <td>45</td>\n",
       "      <td>750</td>\n",
       "    </tr>\n",
       "    <tr>\n",
       "      <th>SKU11</th>\n",
       "      <td>Robot aspirador Roomba 960</td>\n",
       "      <td>30</td>\n",
       "      <td>450</td>\n",
       "    </tr>\n",
       "    <tr>\n",
       "      <th>SKU26</th>\n",
       "      <td>Kindle Paperwhite</td>\n",
       "      <td>150</td>\n",
       "      <td>200</td>\n",
       "    </tr>\n",
       "  </tbody>\n",
       "</table>\n",
       "</div>"
      ],
      "text/plain": [
       "                                      Producto  Cantidad  Precio\n",
       "ID_Producto                                                     \n",
       "SKU1                             Xbox Series X        65     500\n",
       "SKU4         Teclado mecánico Razer BlackWidow       130     250\n",
       "SKU7                   Monitor Gaming Asus 27\"        45     750\n",
       "SKU11               Robot aspirador Roomba 960        30     450\n",
       "SKU26                        Kindle Paperwhite       150     200"
      ]
     },
     "execution_count": 15,
     "metadata": {},
     "output_type": "execute_result"
    }
   ],
   "source": [
    "df_productos_borrado = df.drop(\"ValorInventario\", axis=1)\n",
    "\n",
    "# Desplegamos el cambio, con solo los 5 primeros productos\n",
    "df_productos_borrado.head(5)\n"
   ]
  },
  {
   "cell_type": "markdown",
   "metadata": {
    "id": "EEhqx0oELyJg"
   },
   "source": [
    "**Nota**: Tienes que crear otro DataFrame con la información borrada. Esto es una protección para evitar que elimines fácilmente los datos y no puedas recuperarlos."
   ]
  }
 ],
 "metadata": {
  "colab": {
   "provenance": []
  },
  "kernelspec": {
   "display_name": "Python 3 (ipykernel)",
   "language": "python",
   "name": "python3"
  },
  "language_info": {
   "codemirror_mode": {
    "name": "ipython",
    "version": 3
   },
   "file_extension": ".py",
   "mimetype": "text/x-python",
   "name": "python",
   "nbconvert_exporter": "python",
   "pygments_lexer": "ipython3",
   "version": "3.12.8"
  }
 },
 "nbformat": 4,
 "nbformat_minor": 4
}
