{
 "cells": [
  {
   "cell_type": "markdown",
   "id": "e30bb2e5-67a7-4877-9cd2-17dd11265c5d",
   "metadata": {},
   "source": [
    "# 📑 Ejercicio sobre **obtención de información** de una Dataframe"
   ]
  },
  {
   "cell_type": "markdown",
   "id": "02268e24-bc64-49a4-9767-833528befa07",
   "metadata": {},
   "source": [
    "Vamos a trabajar sobre un archivo CSV con datos de mujeres con **síndrome de ovario poliquístico** (SOP)"
   ]
  },
  {
   "cell_type": "markdown",
   "id": "c095edd3-3462-47f3-bcd8-037a4463bdae",
   "metadata": {},
   "source": [
    "Acerca del conjunto de datos:\n",
    "Se trata de un conjunto de datos sobre mujeres con síndrome de ovario poliquístico (SOP), generado según los criterios de Róterdam. Los Criterios de Róterdam, establecidos en 2003 por un consenso internacional de expertos, definen que, **para que una mujer sea diagnosticada con el síndrome**, debe cumplir al menos **dos de los tres criterios**:\n",
    "\n",
    "1. **Menstruación irregular**: Sí (1) No(0)\n",
    "2.**Nivel de testosterona*: Más de 50 ng/dL\n",
    "3. Folículos por ovario (detectados por ecografía pelviana): Más de 10\n",
    "\n",
    "Las columnas numéricas categóricas (Menstruación irregular y diagnóstico de SOP) se codifican en formato binario, donde [0] representa \"no\" y [1] representa \"sí\"."
   ]
  },
  {
   "cell_type": "markdown",
   "id": "10876a68-fc87-4eb6-855e-501ca1c70bdf",
   "metadata": {},
   "source": [
    "El archivo CSV se encuentra en la web Kaggle.com especializada en análisis de datos. Exactamente lo encontrás en **https://www.kaggle.com/datasets/lucass0s0/polycystic-ovary-syndrome-pcos**\n",
    "1. Descarga el archivo .zip y descomprímelo.\n",
    "2. Súbelo a tu Google Drive y consigue el link al archivo.\n",
    "3. **¡Muy importante!** El archivo tiene una columna que se llama **Testosterone_Level(ng/dL)**. Este nombre tiene caracteres (**los paréntesis**) que van a dar problemas a la hora de utilizar esta columna. Por ello, cambia su nombre por **Testosterone_Level** ."
   ]
  },
  {
   "cell_type": "markdown",
   "id": "8a044604-76a5-42c0-84c2-b8c83fd4c0d4",
   "metadata": {},
   "source": [
    "## 🔍 Ejercicio 1\n",
    "Importa la librería Pandas y ponle el alias `pd`."
   ]
  },
  {
   "cell_type": "code",
   "execution_count": 1,
   "id": "a37a66af-7486-4691-bd15-712afddb3a0b",
   "metadata": {},
   "outputs": [],
   "source": [
    "# Ejercicio 1\n",
    "import pandas as pd"
   ]
  },
  {
   "cell_type": "markdown",
   "id": "902c40d1-6fc8-44c1-be23-6cbe44f14be9",
   "metadata": {},
   "source": [
    "## 🔍 Ejercicio 2\n",
    "Carga el archivo `pcos_rotterdam_balanceado.csv`, que has guardado en tu Google Drive, utilizando su link.\n",
    "A su vez crea el Dataframe con el nombre `data`."
   ]
  },
  {
   "cell_type": "code",
   "execution_count": 2,
   "id": "7c39acf0-57e9-4630-99f4-a75ad8a4f205",
   "metadata": {},
   "outputs": [],
   "source": [
    "# Ejercicio 2\n",
    "data = pd.read_csv(\"datasets/pcos_rotterdam_balanceado_v1.csv\")"
   ]
  },
  {
   "cell_type": "markdown",
   "id": "56ea61e8-3326-4030-8ca2-6f14fe3f6297",
   "metadata": {},
   "source": [
    "## 🔍 Ejercicio 3\n",
    "Utiliza el atributo `shape` para ver la **forma** (nº columnas x nº filas). Verás que el archivo tiene 6 columnas y ¡¡¡3000 filas!!!."
   ]
  },
  {
   "cell_type": "code",
   "execution_count": 3,
   "id": "b7617aef-2cbb-4741-9ac6-68f19aaf7cd1",
   "metadata": {},
   "outputs": [
    {
     "data": {
      "text/plain": [
       "(3000, 6)"
      ]
     },
     "execution_count": 3,
     "metadata": {},
     "output_type": "execute_result"
    }
   ],
   "source": [
    "# Ejercicio 3\n",
    "data.shape"
   ]
  },
  {
   "cell_type": "markdown",
   "id": "21d22a7f-6f42-4ec3-8913-d94b0cdf1242",
   "metadata": {},
   "source": [
    "## 🔍 Ejercicio 4\n",
    "Utiliza el atributo `columns` para ver el **nombre de las columnas**. Verás que las columnas se llaman: Age, BMI, ..."
   ]
  },
  {
   "cell_type": "code",
   "execution_count": 4,
   "id": "5119812a-5051-43ac-ab5c-b589c519193c",
   "metadata": {},
   "outputs": [
    {
     "data": {
      "text/plain": [
       "Index(['Age', 'BMI', 'Menstrual_Irregularity', 'Testosterone_Level',\n",
       "       'Antral_Follicle_Count', 'PCOS_Diagnosis'],\n",
       "      dtype='object')"
      ]
     },
     "execution_count": 4,
     "metadata": {},
     "output_type": "execute_result"
    }
   ],
   "source": [
    "# Ejercicio 4\n",
    "data.columns"
   ]
  },
  {
   "cell_type": "markdown",
   "id": "7a4eb5f2-59d5-4ecf-8f15-84d32c4adeb7",
   "metadata": {},
   "source": [
    "## 🔍 Ejercicio 5"
   ]
  },
  {
   "cell_type": "markdown",
   "id": "74ef25dd-b7b6-4d0f-b3fd-33869abe3420",
   "metadata": {},
   "source": [
    "Utiliza el atributo `dtypes`para ver el **tipo de columnas**. Verás que hay 4 columnas de tipo número **entero** y 2 de tipo número **decimal**."
   ]
  },
  {
   "cell_type": "code",
   "execution_count": 10,
   "id": "2379b73b-2b54-49b3-a292-3f04d05e1756",
   "metadata": {},
   "outputs": [
    {
     "data": {
      "text/plain": [
       "Age                         int64\n",
       "BMI                       float64\n",
       "Menstrual_Irregularity      int64\n",
       "Testosterone_Level        float64\n",
       "Antral_Follicle_Count       int64\n",
       "PCOS_Diagnosis              int64\n",
       "dtype: object"
      ]
     },
     "execution_count": 10,
     "metadata": {},
     "output_type": "execute_result"
    }
   ],
   "source": [
    "# Ejercicio 5\n",
    "data.dtypes"
   ]
  },
  {
   "cell_type": "markdown",
   "id": "18ba0d4b-ca8d-4ab8-907a-d54b431ea31b",
   "metadata": {},
   "source": [
    "## 🔍 Ejercicio 6"
   ]
  },
  {
   "cell_type": "markdown",
   "id": "7f5135d8-7726-4e63-bae0-a01fcb067738",
   "metadata": {},
   "source": [
    "Obtén todos los datos (filas) de la columna `Testosterone_Level`.\n",
    "\n",
    "No te preocupes si solo ves los cinco primeros datos y los cinco últimos datos. Recuerda uq tiene 3000 filas. En el siguiente capítulo resolveremos cómo podemos ver todos los datos de archivos muy largos."
   ]
  },
  {
   "cell_type": "code",
   "execution_count": 6,
   "id": "ebf4b4ea-40c2-4b0f-a9d7-1197b2120ab5",
   "metadata": {},
   "outputs": [
    {
     "data": {
      "text/plain": [
       "0       46.1\n",
       "1       59.4\n",
       "2       69.3\n",
       "3       77.7\n",
       "4       49.4\n",
       "        ... \n",
       "2995    38.5\n",
       "2996    40.6\n",
       "2997    79.2\n",
       "2998    40.9\n",
       "2999    49.6\n",
       "Name: Testosterone_Level, Length: 3000, dtype: float64"
      ]
     },
     "execution_count": 6,
     "metadata": {},
     "output_type": "execute_result"
    }
   ],
   "source": [
    "# Ejercicio 6\n",
    "data.Testosterone_Level"
   ]
  },
  {
   "cell_type": "markdown",
   "id": "fb09e277-99a2-4659-a922-f3d6384569c8",
   "metadata": {},
   "source": [
    "## 🔍 Ejercicio 7"
   ]
  },
  {
   "cell_type": "markdown",
   "id": "de712a3b-155b-460d-aff3-1a343b6f6533",
   "metadata": {},
   "source": [
    "Obtén todos los datos (filas) de las columnas `Age`y`Testosterone_Level`."
   ]
  },
  {
   "cell_type": "code",
   "execution_count": 7,
   "id": "c0c29baa-b63e-4591-ab09-e382805ff1c8",
   "metadata": {},
   "outputs": [
    {
     "data": {
      "text/html": [
       "<div>\n",
       "<style scoped>\n",
       "    .dataframe tbody tr th:only-of-type {\n",
       "        vertical-align: middle;\n",
       "    }\n",
       "\n",
       "    .dataframe tbody tr th {\n",
       "        vertical-align: top;\n",
       "    }\n",
       "\n",
       "    .dataframe thead th {\n",
       "        text-align: right;\n",
       "    }\n",
       "</style>\n",
       "<table border=\"1\" class=\"dataframe\">\n",
       "  <thead>\n",
       "    <tr style=\"text-align: right;\">\n",
       "      <th></th>\n",
       "      <th>Age</th>\n",
       "      <th>Testosterone_Level</th>\n",
       "    </tr>\n",
       "  </thead>\n",
       "  <tbody>\n",
       "    <tr>\n",
       "      <th>0</th>\n",
       "      <td>29</td>\n",
       "      <td>46.1</td>\n",
       "    </tr>\n",
       "    <tr>\n",
       "      <th>1</th>\n",
       "      <td>20</td>\n",
       "      <td>59.4</td>\n",
       "    </tr>\n",
       "    <tr>\n",
       "      <th>2</th>\n",
       "      <td>23</td>\n",
       "      <td>69.3</td>\n",
       "    </tr>\n",
       "    <tr>\n",
       "      <th>3</th>\n",
       "      <td>19</td>\n",
       "      <td>77.7</td>\n",
       "    </tr>\n",
       "    <tr>\n",
       "      <th>4</th>\n",
       "      <td>19</td>\n",
       "      <td>49.4</td>\n",
       "    </tr>\n",
       "    <tr>\n",
       "      <th>...</th>\n",
       "      <td>...</td>\n",
       "      <td>...</td>\n",
       "    </tr>\n",
       "    <tr>\n",
       "      <th>2995</th>\n",
       "      <td>26</td>\n",
       "      <td>38.5</td>\n",
       "    </tr>\n",
       "    <tr>\n",
       "      <th>2996</th>\n",
       "      <td>42</td>\n",
       "      <td>40.6</td>\n",
       "    </tr>\n",
       "    <tr>\n",
       "      <th>2997</th>\n",
       "      <td>24</td>\n",
       "      <td>79.2</td>\n",
       "    </tr>\n",
       "    <tr>\n",
       "      <th>2998</th>\n",
       "      <td>35</td>\n",
       "      <td>40.9</td>\n",
       "    </tr>\n",
       "    <tr>\n",
       "      <th>2999</th>\n",
       "      <td>28</td>\n",
       "      <td>49.6</td>\n",
       "    </tr>\n",
       "  </tbody>\n",
       "</table>\n",
       "<p>3000 rows × 2 columns</p>\n",
       "</div>"
      ],
      "text/plain": [
       "      Age  Testosterone_Level\n",
       "0      29                46.1\n",
       "1      20                59.4\n",
       "2      23                69.3\n",
       "3      19                77.7\n",
       "4      19                49.4\n",
       "...   ...                 ...\n",
       "2995   26                38.5\n",
       "2996   42                40.6\n",
       "2997   24                79.2\n",
       "2998   35                40.9\n",
       "2999   28                49.6\n",
       "\n",
       "[3000 rows x 2 columns]"
      ]
     },
     "execution_count": 7,
     "metadata": {},
     "output_type": "execute_result"
    }
   ],
   "source": [
    "## Ejercicio 7\n",
    "data[[\"Age\", \"Testosterone_Level\"]]"
   ]
  },
  {
   "cell_type": "markdown",
   "id": "649eb96b-0b47-4a2e-8979-2e0c1b80891c",
   "metadata": {},
   "source": [
    "## 🔍 Ejercicio 8"
   ]
  },
  {
   "cell_type": "markdown",
   "id": "bbde1d14-af55-4855-a68e-630818eb933d",
   "metadata": {},
   "source": [
    "Obtén los datos de las mujeres de las filas: 6, 27, 654, 1321 y 2567"
   ]
  },
  {
   "cell_type": "code",
   "execution_count": 8,
   "id": "68f29d78-abf1-4f3b-88d4-eb33e5091fe5",
   "metadata": {},
   "outputs": [
    {
     "data": {
      "text/html": [
       "<div>\n",
       "<style scoped>\n",
       "    .dataframe tbody tr th:only-of-type {\n",
       "        vertical-align: middle;\n",
       "    }\n",
       "\n",
       "    .dataframe tbody tr th {\n",
       "        vertical-align: top;\n",
       "    }\n",
       "\n",
       "    .dataframe thead th {\n",
       "        text-align: right;\n",
       "    }\n",
       "</style>\n",
       "<table border=\"1\" class=\"dataframe\">\n",
       "  <thead>\n",
       "    <tr style=\"text-align: right;\">\n",
       "      <th></th>\n",
       "      <th>Age</th>\n",
       "      <th>BMI</th>\n",
       "      <th>Menstrual_Irregularity</th>\n",
       "      <th>Testosterone_Level</th>\n",
       "      <th>Antral_Follicle_Count</th>\n",
       "      <th>PCOS_Diagnosis</th>\n",
       "    </tr>\n",
       "  </thead>\n",
       "  <tbody>\n",
       "    <tr>\n",
       "      <th>6</th>\n",
       "      <td>21</td>\n",
       "      <td>25.3</td>\n",
       "      <td>0</td>\n",
       "      <td>44.2</td>\n",
       "      <td>4</td>\n",
       "      <td>0</td>\n",
       "    </tr>\n",
       "    <tr>\n",
       "      <th>27</th>\n",
       "      <td>28</td>\n",
       "      <td>26.0</td>\n",
       "      <td>0</td>\n",
       "      <td>55.7</td>\n",
       "      <td>3</td>\n",
       "      <td>0</td>\n",
       "    </tr>\n",
       "    <tr>\n",
       "      <th>65</th>\n",
       "      <td>42</td>\n",
       "      <td>26.9</td>\n",
       "      <td>0</td>\n",
       "      <td>38.9</td>\n",
       "      <td>9</td>\n",
       "      <td>0</td>\n",
       "    </tr>\n",
       "    <tr>\n",
       "      <th>1321</th>\n",
       "      <td>38</td>\n",
       "      <td>17.7</td>\n",
       "      <td>0</td>\n",
       "      <td>39.8</td>\n",
       "      <td>6</td>\n",
       "      <td>0</td>\n",
       "    </tr>\n",
       "    <tr>\n",
       "      <th>2567</th>\n",
       "      <td>21</td>\n",
       "      <td>26.9</td>\n",
       "      <td>0</td>\n",
       "      <td>45.0</td>\n",
       "      <td>10</td>\n",
       "      <td>0</td>\n",
       "    </tr>\n",
       "  </tbody>\n",
       "</table>\n",
       "</div>"
      ],
      "text/plain": [
       "      Age   BMI  Menstrual_Irregularity  Testosterone_Level  \\\n",
       "6      21  25.3                       0                44.2   \n",
       "27     28  26.0                       0                55.7   \n",
       "65     42  26.9                       0                38.9   \n",
       "1321   38  17.7                       0                39.8   \n",
       "2567   21  26.9                       0                45.0   \n",
       "\n",
       "      Antral_Follicle_Count  PCOS_Diagnosis  \n",
       "6                         4               0  \n",
       "27                        3               0  \n",
       "65                        9               0  \n",
       "1321                      6               0  \n",
       "2567                     10               0  "
      ]
     },
     "execution_count": 8,
     "metadata": {},
     "output_type": "execute_result"
    }
   ],
   "source": [
    "# Ejercicio 8\n",
    "data.iloc[[6, 27, 65, 1321, 2567]]"
   ]
  },
  {
   "cell_type": "markdown",
   "id": "b4d661f9-a489-483e-93ab-d564b062a58e",
   "metadata": {},
   "source": [
    "## 🔍 Ejercicio 9"
   ]
  },
  {
   "cell_type": "markdown",
   "id": "63124a1f-d731-487e-ae03-1c0b80c05469",
   "metadata": {},
   "source": [
    "Obtén los datos de la mujer de la fila: 1970"
   ]
  },
  {
   "cell_type": "code",
   "execution_count": 9,
   "id": "917ebc53-c65b-453a-996d-dff02922e748",
   "metadata": {},
   "outputs": [
    {
     "data": {
      "text/plain": [
       "Age                        28.0\n",
       "BMI                        27.3\n",
       "Menstrual_Irregularity      1.0\n",
       "Testosterone_Level        101.9\n",
       "Antral_Follicle_Count      17.0\n",
       "PCOS_Diagnosis              1.0\n",
       "Name: 1970, dtype: float64"
      ]
     },
     "execution_count": 9,
     "metadata": {},
     "output_type": "execute_result"
    }
   ],
   "source": [
    "# Ejercicio 6\n",
    "data.loc[1970]"
   ]
  }
 ],
 "metadata": {
  "kernelspec": {
   "display_name": "Python 3 (ipykernel)",
   "language": "python",
   "name": "python3"
  },
  "language_info": {
   "codemirror_mode": {
    "name": "ipython",
    "version": 3
   },
   "file_extension": ".py",
   "mimetype": "text/x-python",
   "name": "python",
   "nbconvert_exporter": "python",
   "pygments_lexer": "ipython3",
   "version": "3.12.8"
  }
 },
 "nbformat": 4,
 "nbformat_minor": 5
}
