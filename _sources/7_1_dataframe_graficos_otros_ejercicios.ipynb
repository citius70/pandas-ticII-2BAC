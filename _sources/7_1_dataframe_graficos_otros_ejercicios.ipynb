{
 "cells": [
  {
   "cell_type": "markdown",
   "id": "d7488d2c-ec3b-4f1f-af13-e609bc6629cf",
   "metadata": {
    "editable": true,
    "slideshow": {
     "slide_type": ""
    },
    "tags": []
   },
   "source": [
    "# 📑 Ejercicios de visualización de datos: Otros gráficos"
   ]
  },
  {
   "cell_type": "markdown",
   "id": "a8ab863a-9992-4a53-b83c-c617eabcdce2",
   "metadata": {
    "editable": true,
    "raw_mimetype": "",
    "slideshow": {
     "slide_type": ""
    },
    "tags": []
   },
   "source": [
    "```{margin} Placebo\n",
    "Un placebo es un tratamiento falso (como una pastilla de azúcar o una inyección sin medicamento) que no tiene efecto médico real, pero se usa para:\n",
    "\n",
    "* Comparar si un medicamento verdadero funciona.\n",
    "\n",
    "* Medir el poder de la mente: si el paciente mejora solo por creer que recibió tratamiento (esto se llama efecto placebo).\n",
    "\n",
    "Ejemplo: En un estudio, a unos pacientes se les da el medicamento nuevo y a otros un placebo. Si ambos grupos mejoran igual, el fármaco podría no ser efectivo.\n",
    "\n",
    "¡Es como un \"engaño controlado\" para descubrir la verdad! 😊\n",
    "```"
   ]
  },
  {
   "cell_type": "markdown",
   "id": "d59a4e2f-5c04-4df0-add1-1f3ee48cfcbd",
   "metadata": {
    "editable": true,
    "slideshow": {
     "slide_type": ""
    },
    "tags": []
   },
   "source": [
    "🧪 **Estudio clínico**: Efectividad de un tratamiento real frente a un placebo."
   ]
  },
  {
   "cell_type": "markdown",
   "id": "3724bbc7-bc79-49bc-9847-dea784b49b0e",
   "metadata": {
    "editable": true,
    "slideshow": {
     "slide_type": ""
    },
    "tags": []
   },
   "source": [
    "Este cuaderno explora cómo representar datos médicos de un ensayo clínico utilizando gráficos básicos con `pandas`.\n",
    "\n",
    "El objetivo es analizar si un nuevo medicamento tiene mayor efectividad que un placebo, usando tres tipos de gráficos: **scatter plot**, **box plot** e **histograma**.\n",
    "\n",
    "Pare ello se han recogido los siguientes datos:\n",
    "* Grupo: Si el paciente ha tomado el tratamiento o el placebo.\n",
    "* Edad\n",
    "* Días_mejora: Los días desde el principio de las tomas hasta que siente las primeras mejoras.\n",
    "* Intensidad_síntomas: De 0 a 10 el paciente valora la intensidad de la enfermedad al principio del tratamiento.\n",
    "* Reducción_síntoma: De 0 a 10 el paciente valora la intensidad de la enfermedad cuando comienza la mejoría.\n",
    "\n",
    "Los datos se encuntran en un archivo csv en: https://drive.google.com/uc?export=download&id=19rhtMihR-gEZUdFlPfzRBqgBFWBdcxik"
   ]
  },
  {
   "cell_type": "code",
   "execution_count": 1,
   "id": "0513f7c8-930f-482c-9e52-0bafebe62496",
   "metadata": {
    "editable": true,
    "slideshow": {
     "slide_type": ""
    },
    "tags": []
   },
   "outputs": [],
   "source": [
    "# 1. Importa pandas\n",
    "\n",
    "# 2. Crea un Dataframe llamado \"pacientes\"\n"
   ]
  },
  {
   "cell_type": "code",
   "execution_count": 2,
   "id": "2c20e86b-5e60-4f75-a2d5-8494f07d77ec",
   "metadata": {
    "editable": true,
    "slideshow": {
     "slide_type": ""
    },
    "tags": []
   },
   "outputs": [],
   "source": [
    "# 3. Visualiza los 10 primeros datos con head()\n"
   ]
  },
  {
   "cell_type": "code",
   "execution_count": 3,
   "id": "65e34e2c-7a90-458e-87d2-30a4651cf806",
   "metadata": {
    "editable": true,
    "slideshow": {
     "slide_type": ""
    },
    "tags": []
   },
   "outputs": [],
   "source": [
    "# 4. Haz un análisis estadístico con describe()\n"
   ]
  },
  {
   "cell_type": "markdown",
   "id": "1a113251",
   "metadata": {
    "editable": true,
    "slideshow": {
     "slide_type": ""
    },
    "tags": []
   },
   "source": [
    "## 🔍 Ejercicio 1: Edad (de todos los pacientes) vs Días hasta la mejoría con Scatter plot"
   ]
  },
  {
   "cell_type": "markdown",
   "id": "25729fcc-7d40-447d-afa0-58f460b2044b",
   "metadata": {
    "editable": true,
    "slideshow": {
     "slide_type": ""
    },
    "tags": []
   },
   "source": [
    "Elabora un diagrama de dispersión (scatter plot) en el que en el `eje x` se muestren la **edad** de TODOS los pacientes y en el `eje y` los **días hasta la mejoría**."
   ]
  },
  {
   "cell_type": "code",
   "execution_count": 4,
   "id": "9ee73f33-28ed-4091-b850-c75cfd8c9eff",
   "metadata": {
    "editable": true,
    "slideshow": {
     "slide_type": ""
    },
    "tags": []
   },
   "outputs": [],
   "source": [
    "# Tu código"
   ]
  },
  {
   "cell_type": "markdown",
   "id": "37563493-525c-49e3-9fd7-ed43e615aa7a",
   "metadata": {
    "editable": true,
    "slideshow": {
     "slide_type": ""
    },
    "tags": []
   },
   "source": [
    "**Análisis del diagrama**: (Responde a las preguntas)\n",
    "\n",
    "1. ¿Hay alguna relación evidente entre la edad de los pacientes y los días que tardan en mejorar? ¿Crees que la edad influye en la velocidad de recuperación?\n",
    "    * **Respuesta:**\n",
    "2. En este gráfico se muestran los datos de TODOS los pacientes. ¿Crees que sería mejor diferenciar los pacientes por alguna característica del tratamiento?\n",
    "    * **Respuesta**:"
   ]
  },
  {
   "cell_type": "markdown",
   "id": "ab8f203e-257a-4bf9-95ac-10b34366e5bc",
   "metadata": {
    "editable": true,
    "slideshow": {
     "slide_type": ""
    },
    "tags": []
   },
   "source": [
    "### 🔍 Ejercicio 1.1: Edad (de los pacientes con tratamiento) vs Días hasta la mejoría con Scatter plot"
   ]
  },
  {
   "cell_type": "markdown",
   "id": "dd693a0d-d815-4be3-9289-3bb3030fd21f",
   "metadata": {
    "editable": true,
    "slideshow": {
     "slide_type": ""
    },
    "tags": []
   },
   "source": [
    "Elabora un diagrama de dispersión (scatter plot) en el que en el **eje `x` se muestren la edad** de los pacientes con TRATAMIENTO y en el **eje `y` los días hasta la mejoría**.\n",
    "\n",
    "Pista: `pacientes[pacientes['Grupo'] == 'Tratamiento'].plot.scatter()`\n",
    "\n",
    "Consejo: Haz que los puntos sean de color verde."
   ]
  },
  {
   "cell_type": "code",
   "execution_count": 5,
   "id": "a13cca54-e040-4b46-ba25-926654a9f2d5",
   "metadata": {
    "editable": true,
    "slideshow": {
     "slide_type": ""
    },
    "tags": []
   },
   "outputs": [],
   "source": [
    "# Tu código"
   ]
  },
  {
   "cell_type": "markdown",
   "id": "c8dfe1f1-c653-4144-a91d-8fed2855c949",
   "metadata": {
    "editable": true,
    "slideshow": {
     "slide_type": ""
    },
    "tags": []
   },
   "source": [
    "**Análisis del diagrama**: (Responde a las preguntas)\n",
    "\n",
    "1. ¿Hay alguna relación evidente entre la edad de los pacientes con tratamiento y los días que tardan en mejorar? ¿Crees que la edad influye en la velocidad de recuperación?\n",
    "    * **Respuesta:**"
   ]
  },
  {
   "cell_type": "markdown",
   "id": "c3c65f99-7833-4a66-b010-67442362105f",
   "metadata": {
    "editable": true,
    "slideshow": {
     "slide_type": ""
    },
    "tags": []
   },
   "source": [
    "### 🔍 Ejercicio 1.2: Edad (de los pacientes con placebo) vs Días hasta la mejoría con Scatter plot"
   ]
  },
  {
   "cell_type": "markdown",
   "id": "0e5e3118-09f8-48df-9894-1e8f54799d73",
   "metadata": {
    "editable": true,
    "slideshow": {
     "slide_type": ""
    },
    "tags": []
   },
   "source": [
    "Elabora un diagrama de dispersión (scatter plot) en el que en el **eje `x` se muestren la edad** de los pacientes con PLACEBO y en el **eje `y` los días hasta la mejoría**.\n",
    "\n",
    "Pista: `pacientes[pacientes['Grupo'] == 'Placebo'].plot.scatter()`\n",
    "\n",
    "Consejo: Haz que los putos sean de color rojo."
   ]
  },
  {
   "cell_type": "code",
   "execution_count": 6,
   "id": "bad542fe-d9e0-41cf-ab71-0ca1cdeab3b8",
   "metadata": {
    "editable": true,
    "slideshow": {
     "slide_type": ""
    },
    "tags": []
   },
   "outputs": [],
   "source": [
    "# Tu código"
   ]
  },
  {
   "cell_type": "markdown",
   "id": "c4d8e0ee-2ce9-4918-9d6d-8e2a933b2238",
   "metadata": {
    "editable": true,
    "slideshow": {
     "slide_type": ""
    },
    "tags": []
   },
   "source": [
    "**Análisis del diagrama**: (Responde a las preguntas)\n",
    "1. ¿Hay alguna relación evidente entre la edad de los pacientes con placebo y los días que tardan en mejorar? ¿Crees que la edad influye en la velocidad de recuperación?\n",
    "    * **Respuesta:**"
   ]
  },
  {
   "cell_type": "markdown",
   "id": "4b8a0fb9",
   "metadata": {
    "editable": true,
    "slideshow": {
     "slide_type": ""
    },
    "tags": []
   },
   "source": [
    "## 🔍 Ejercicio 2: Comparación entre tratamiento y placebo con Box plot"
   ]
  },
  {
   "cell_type": "markdown",
   "id": "f12f682a-5363-4647-acf2-899e891107c4",
   "metadata": {
    "editable": true,
    "slideshow": {
     "slide_type": ""
    },
    "tags": []
   },
   "source": [
    "Esta gráfico sí que nos va a aclarar mucho acerca del tratamiento.\n",
    "\n",
    "Escribe el código necesario para un gráfico de caja o box plot en el que se muestren distintas distribuciones en función del **tratamiento**. Para analizarlo mejor deben aparecer dos gráficos paralelos con los pacientes con tratamiento y con placebo. \n",
    "\n",
    "Pista: Escribe el código como sabes, añadiendo  `by =\"Grupo\"` en las opciones del gráfico."
   ]
  },
  {
   "cell_type": "code",
   "execution_count": 7,
   "id": "703e164b-0eb3-4eb5-bdd6-5e9b099d5cb6",
   "metadata": {
    "editable": true,
    "slideshow": {
     "slide_type": ""
    },
    "tags": []
   },
   "outputs": [],
   "source": [
    "# Tu código"
   ]
  },
  {
   "cell_type": "markdown",
   "id": "79d95eaa-e899-4afa-a6e5-25876435a1c4",
   "metadata": {
    "editable": true,
    "slideshow": {
     "slide_type": ""
    },
    "tags": []
   },
   "source": [
    "**Análisis del diagrama**: (Responde a las preguntas)\n",
    "1. ¿Qué grupo (Tratamiento o Placebo) muestra mayor reducción de síntomas en promedio?\n",
    "    * **Respuesta:**\n",
    "2. En qué grupo observas mayor variabilidad o amplitud en la reducción de síntomas?\n",
    "    * **Respuesta:**\n",
    "3. ¿Hay algún valor atípico (outlier) visible en los boxplots?\n",
    "    * **Respuesta:**"
   ]
  },
  {
   "cell_type": "markdown",
   "id": "87a4094d",
   "metadata": {
    "editable": true,
    "slideshow": {
     "slide_type": ""
    },
    "tags": []
   },
   "source": [
    "## 🔍 Ejercicio 3: Intensidad inicial de síntomas con Histograma"
   ]
  },
  {
   "cell_type": "markdown",
   "id": "e60de575-4553-412a-81be-0f944cc6e6f4",
   "metadata": {
    "editable": true,
    "slideshow": {
     "slide_type": ""
    },
    "tags": []
   },
   "source": [
    "Escribe el código para un histograma en el que aparezca la distribución de la Intensidad de síntoma para TODOS los pacientes."
   ]
  },
  {
   "cell_type": "code",
   "execution_count": 8,
   "id": "2cb07526-bfe1-48aa-add7-c75a3fae77cf",
   "metadata": {
    "editable": true,
    "slideshow": {
     "slide_type": ""
    },
    "tags": []
   },
   "outputs": [],
   "source": [
    "# Tu código"
   ]
  },
  {
   "cell_type": "markdown",
   "id": "77614234-d5aa-49cf-9950-b8ddbf28adcd",
   "metadata": {
    "editable": true,
    "slideshow": {
     "slide_type": ""
    },
    "tags": []
   },
   "source": [
    "**Análisis del diagrama**: (Responde a las preguntas)\n",
    "1. ¿Cuáles son los dos valores de intensidad que presentan mayor frecuencia en la distribución y cuántos pacientes se encuentran en cada uno de estos valores?\n",
    "    * **Respuesta:**\n",
    "2. ¿A qué crees que es debido ese falta de datos que hace que la gráfica se parta en dos?\n",
    "    * **Respuesta:**\n",
    "3. ¿Qué lado de la gráfica crees que definen mejor los pacientes con placebo?\n",
    "    * **Respuesta:**"
   ]
  }
 ],
 "metadata": {
  "kernelspec": {
   "display_name": "Python 3 (ipykernel)",
   "language": "python",
   "name": "python3"
  },
  "language_info": {
   "codemirror_mode": {
    "name": "ipython",
    "version": 3
   },
   "file_extension": ".py",
   "mimetype": "text/x-python",
   "name": "python",
   "nbconvert_exporter": "python",
   "pygments_lexer": "ipython3",
   "version": "3.12.8"
  }
 },
 "nbformat": 4,
 "nbformat_minor": 5
}
