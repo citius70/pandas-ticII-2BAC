{
 "cells": [
  {
   "cell_type": "markdown",
   "metadata": {
    "id": "vq08bGzcjVCU"
   },
   "source": [
    "# 1. ¿Qué es Pandas?"
   ]
  },
  {
   "cell_type": "markdown",
   "metadata": {
    "id": "vq08bGzcjVCU"
   },
   "source": [
    "[![Jupyter Book Badge](https://jupyterbook.org/badge.svg)](<YOUR URL HERE>) \n",
    "![Static Badge](https://img.shields.io/badge/Elaborado%20por-Alberto%20Dur%C3%A1n%20P%C3%A9rez-blue)"
   ]
  },
  {
   "cell_type": "markdown",
   "metadata": {
    "id": "vq08bGzcjVCU"
   },
   "source": [
    "<img src=\"pandas_logo.svg\" alt=\"Pandas\" width=\"300px\" align=\"right\" style=\"margin: 0 0 10px 10px;\">\n",
    "\n",
    "`Pandas` 🐼 es una potente **librería** de código abierto para Python, la cual nos permite **manipular diversos tipos de datos estructurados**, incluyendo funciones para leer y escribir datos en varios formatos como Excel, CSV, SQL, JSON y más.\n",
    "\n",
    "Una de sus principales características son los `DataFrame`, los cuales son muy *similares a las hojas de Excel*, pero permiten utilizar Python para manipularlos, lo que da mayor flexibilidad en la manipulación de datos, abre más posibilidades manipulación y permite la manipulación de un volumen de datos mucho mayor que en hojas de cálculo.\n",
    "\n",
    "```{admonition} Definiciones\n",
    "\n",
    "* **Pandas**: es una biblioteca de Python para manipulación y análisis de datos, que proporciona estructuras eficientes como **DataFrame** y **Series** para trabajar con datos tabulares y series temporales de manera flexible y optimizada. \n",
    "\n",
    "    * **DataFrame**: es una estructura de datos bidimensional similar a una tabla, que organiza información en filas y columnas con etiquetas, permitiendo manipulación y análisis eficiente de datos.\n",
    "```"
   ]
  },
  {
   "cell_type": "markdown",
   "metadata": {},
   "source": [
    "## 1.1. 📌 ¿Para qué se usa Pandas en proyectos reales?**\n",
    "- **Ciencia de datos**: Preprocesamiento para machine learning.  \n",
    "- **Finanzas**: Análisis de series temporales.  \n",
    "- **Web scraping**: Organizar datos extraídos de sitios webs.  \n",
    "- **Automoción**: Procesamiento de datos provenientes de sensores.  "
   ]
  },
  {
   "cell_type": "markdown",
   "metadata": {},
   "source": [
    "## 1.2. 📖 ¿Qué es una librería de Python?\n",
    "\n",
    "Una `librería` 📖 en programación es un conjunto de **funciones y métodos que se agrupan en un solo paquete para facilitar el desarrollo de software**. Las librerías permiten a los programadores reutilizar código, lo que ahorra tiempo y esfuerzo al evitar la necesidad de escribir código desde cero para tareas comunes. El número total de bibliotecas de Python es de más de 137000.\n",
    "\n",
    "```{admonition} Algunas de las librerías más importantes de Python\n",
    "* **NumPy**: Para cálculos numéricos y manipulación de matrices y arreglos. \n",
    "\n",
    "* **Pandas**: Para manipulación y análisis de datos estructurados en forma de tablas.\n",
    "\n",
    "* **Matplotlib, Bokeh y Seaborn**: Para visualización de datos y creación de gráficos.\n",
    "\n",
    "* **OpenCV**: Para tareas de procesamiento de imágenes y visión por computadora. \n",
    "\n",
    "* **Requests**: Para realizar solicitudes HTTP y trabajar con APIs web.\n",
    "\n",
    "* **Flask y Django**: Para crear aplicaciones web y sitios web.\n",
    "\n",
    "* **Scikit-Learn, TensorFlow y PyTorch**: Para la implementación de aprendizaje profundo y machine learning.\n",
    "\n",
    "* **SQLite3 y SQLAlchemy**: Para trabajar con bases de datos.\n",
    "```\n",
    "\n",
    "Una de estas librerías es `Pandas`, la cual se utiliza para el **análisis y manipulación de datos**."
   ]
  },
  {
   "cell_type": "markdown",
   "metadata": {},
   "source": [
    "## 1.3. Características de una librería"
   ]
  },
  {
   "cell_type": "markdown",
   "metadata": {},
   "source": [
    "**Reutilización de Código**: Las librerías contienen código que puede ser utilizado en múltiples programas, lo que promueve la eficiencia y la consistencia.\n",
    "\n",
    "**Abstracción**: Proporcionan una interfaz de alto nivel que oculta la complejidad de las implementaciones subyacentes, permitiendo a los desarrolladores centrarse en la lógica de su aplicación en lugar de en los detalles técnicos.\n",
    "\n",
    "**Modularidad**: Las librerías suelen estar organizadas en módulos, lo que permite a los desarrolladores importar solo las partes que necesitan, manteniendo el código más limpio y manejable.\n",
    "\n",
    "**Facilidad de Uso**: Muchas librerías están diseñadas para ser fáciles de usar, con documentación y ejemplos que ayudan a los desarrolladores a integrarlas en sus proyectos."
   ]
  },
  {
   "cell_type": "markdown",
   "metadata": {},
   "source": [
    "## 1.4.  Importar la librería Pandas"
   ]
  },
  {
   "cell_type": "markdown",
   "metadata": {},
   "source": [
    "Para utilizarla, debemos importarla de la siguiente manera `import pandas` , aunque la manera usual de hacerlo es con la instrucción `import pandas as pd`. Esto  permite acceder a las funciones y estructuras de datos de Pandas usando el *alias* `pd`, haciendo tu código más limpio y conciso.\n",
    "```python\n",
    "import pandas as pd\n",
    "```"
   ]
  }
 ],
 "metadata": {
  "colab": {
   "provenance": []
  },
  "kernelspec": {
   "display_name": "Python 3 (ipykernel)",
   "language": "python",
   "name": "python3"
  },
  "language_info": {
   "codemirror_mode": {
    "name": "ipython",
    "version": 3
   },
   "file_extension": ".py",
   "mimetype": "text/x-python",
   "name": "python",
   "nbconvert_exporter": "python",
   "pygments_lexer": "ipython3",
   "version": "3.12.8"
  }
 },
 "nbformat": 4,
 "nbformat_minor": 4
}
