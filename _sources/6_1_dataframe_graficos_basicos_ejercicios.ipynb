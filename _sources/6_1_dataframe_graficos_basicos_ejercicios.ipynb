{
 "cells": [
  {
   "cell_type": "markdown",
   "id": "2f3f7ce2",
   "metadata": {},
   "source": [
    "# 📑 Ejercicios de visualización de datos: Gráficos básicos"
   ]
  },
  {
   "cell_type": "markdown",
   "id": "a53f7cab-ca97-4f17-a450-7a8ca966045e",
   "metadata": {},
   "source": [
    "En este cuaderno pondrás en práctica lo aprendido sobre **gráficos básicos en Pandas**."
   ]
  },
  {
   "cell_type": "markdown",
   "id": "f3d78268-40f9-4fb5-9ba3-4dcc4c9fdfba",
   "metadata": {},
   "source": [
    "**Objetivo**: Eres el/la responsable de analizar los datos del equipo de baloncesto \"Los Búfalos de Milwaukee\". El entrenador te ha pedido que le muestres las gráficas del jugador \"**Kevin Noveoaro**\" durante 20 jornadas."
   ]
  },
  {
   "cell_type": "markdown",
   "id": "4d1570c6-f9f4-4f7f-b8cb-128ba4a68148",
   "metadata": {},
   "source": [
    "```{figure} ../pandas_tic_2/imagenes/bufalo.png\n",
    "---\n",
    "name: dataframe\n",
    "width: 25%\n",
    "---\n",
    "Búfalos de Milwaukee\n"
   ]
  },
  {
   "cell_type": "markdown",
   "id": "0996082e-bf29-4e59-9e01-932232c056ef",
   "metadata": {},
   "source": [
    "***"
   ]
  },
  {
   "cell_type": "markdown",
   "id": "c3695ad7",
   "metadata": {},
   "source": [
    "## Ejercicio 1: Carga de datos"
   ]
  },
  {
   "cell_type": "markdown",
   "id": "0de75357",
   "metadata": {},
   "source": [
    "\n",
    "La dirección URL del archivo .csv es: https://drive.google.com/uc?export=download&id=1wR12OxL1N5dI4Zv-wAcyhcgQf3s7L1no\n"
   ]
  },
  {
   "cell_type": "code",
   "execution_count": null,
   "id": "969428fe",
   "metadata": {},
   "outputs": [],
   "source": [
    "# Importa Pandas\n",
    "\n",
    "# Crea el DataFrame y llámalo df_kevin\n",
    "\n",
    "# Visualiza las 10 primeras filas con .head()\n"
   ]
  },
  {
   "cell_type": "markdown",
   "id": "300d3597-0838-4dd4-a169-d4aaa719c1e5",
   "metadata": {},
   "source": [
    "***"
   ]
  },
  {
   "cell_type": "markdown",
   "id": "8ff8c120-bd53-4124-89b4-a06cc04bac82",
   "metadata": {},
   "source": [
    "## Ejercicio 2: Gráfico de barras vertical"
   ]
  },
  {
   "cell_type": "markdown",
   "id": "7b2c4442",
   "metadata": {},
   "source": [
    "\n",
    "Utilizando el DataFrame `df_kevin`, crea un **gráfico de barras** vertical donde:\n",
    "- Eje X: `Jornada`\n",
    "- Eje Y: `Puntos`\n",
    "\n",
    "Además, añade y completa estas características al gráfico:\n",
    "\n",
    "color=\"\",  # Color de las barras  [ver colores](https://matplotlib.org/stable/gallery/color/named_colors.html) \n",
    "    \n",
    "figsize=( , ),  # Tamaño del gráfico (ancho, alto) Por ejemplo (10,5)\n",
    "   \n",
    "title=\"Puntos de Kevin por Jornada\",  # Título del gráfico\n",
    "   \n",
    "xlabel=\"\",  # Etiqueta del eje X\n",
    "   \n",
    "ylabel=\"\",  # Etiqueta del eje Y\n",
    "   "
   ]
  },
  {
   "cell_type": "code",
   "execution_count": null,
   "id": "fb5f4986-a7f5-4ee6-991d-6ef8cb9fa203",
   "metadata": {},
   "outputs": [],
   "source": [
    "# Tu código aquí\n"
   ]
  },
  {
   "cell_type": "markdown",
   "id": "1d0e5dfc-6ffc-4262-a52f-dbc0a7e27b50",
   "metadata": {},
   "source": [
    "#### Pregunta: \n",
    "1. ¿En qué jornada anotó más puntos?:\n",
    "2. ¿Y menos?:"
   ]
  },
  {
   "cell_type": "markdown",
   "id": "13751002-f57d-4362-b922-ccf5c579a964",
   "metadata": {},
   "source": [
    "***"
   ]
  },
  {
   "cell_type": "markdown",
   "id": "5696d85c",
   "metadata": {},
   "source": [
    "## Ejercicio 3: Gráfico de barras horizontal"
   ]
  },
  {
   "cell_type": "markdown",
   "id": "44c84ce3-e098-4ca3-9c45-93421d5b416a",
   "metadata": {},
   "source": [
    "\n",
    "Utilizando el DataFrame `df_kevin`, crea un **gráfico de barras** horizontal donde:\n",
    "- Eje X: `Jornada`\n",
    "- Eje Y: `Minutos jugados`\n",
    "\n",
    "Además, añade y completa estas características al gráfico:\n",
    "\n",
    "color=\"\",  # Color de las barras  [ver colores](https://matplotlib.org/stable/gallery/color/named_colors.html) \n",
    "\n",
    "edgecolor=\"\", # Color del borde de las barras\n",
    "    \n",
    "figsize=( , ),  # Tamaño del gráfico (ancho, alto) Por ejemplo (10,5)\n",
    "   \n",
    "title=\"Minutos jugados por Kevin por Jornada\",  # Título del gráfico\n",
    "   \n",
    "xlabel=\"\",  # Etiqueta del eje X\n",
    "   \n",
    "ylabel=\"\",   # Etiqueta del eje Y\n",
    "   \n",
    "legend= ,      # Oculta la leyenda si no es necesaria: True/False\n",
    "   \n",
    "\n"
   ]
  },
  {
   "cell_type": "code",
   "execution_count": null,
   "id": "79110ece",
   "metadata": {},
   "outputs": [],
   "source": [
    "# Tu código aquí\n"
   ]
  },
  {
   "cell_type": "markdown",
   "id": "9bfdd8f7-cbc2-4fae-9994-b83dc835d367",
   "metadata": {},
   "source": [
    "#### Pregunta: \n",
    "1. ¿Durante qué parte de la temporada jugó más? (Principio, mitad o final):"
   ]
  },
  {
   "cell_type": "markdown",
   "id": "da7bd4d6-1f1b-43ed-9b05-10635631a8b7",
   "metadata": {},
   "source": [
    "***"
   ]
  },
  {
   "cell_type": "markdown",
   "id": "8b7d94b6",
   "metadata": {},
   "source": [
    "## Ejercicio 4: Gráfico de líneas"
   ]
  },
  {
   "cell_type": "markdown",
   "id": "5d79335f",
   "metadata": {},
   "source": [
    "\n",
    "Utilizando el mismo DataFrame, crea un **gráfico de líneas** mostrando:\n",
    "- Eje X: `Jornada`\n",
    "- Eje Y: `Rebotes`\n",
    "\n",
    "Además, añade y completa estas características al gráfico:\n",
    "\n",
    "color=\"\",  # Color de la línea  [ver colores](https://matplotlib.org/stable/gallery/color/named_colors.html) \n",
    "\n",
    "marker=\"\"  , Forma de los marcadores (o, x, *)\n",
    "\n",
    "figsize=( , ),  # Tamaño del gráfico (ancho, alto) Por ejemplo (8,5)\n",
    "   \n",
    "title=\"Minutos jugados por Kevin por Jornada\",  # Título del gráfico\n",
    "   \n",
    "xlabel=\"\",  # Etiqueta del eje X\n",
    "   \n",
    "ylabel=\"\",   # Etiqueta del eje Y"
   ]
  },
  {
   "cell_type": "code",
   "execution_count": null,
   "id": "85bb0137",
   "metadata": {
    "scrolled": true
   },
   "outputs": [],
   "source": [
    "# Tu código aquí\n"
   ]
  },
  {
   "cell_type": "markdown",
   "id": "7a182e19-74b1-4e8c-a411-c61806f9a51b",
   "metadata": {},
   "source": [
    "#### Pregunta:\n",
    "\n",
    "1. ¿Qué es lo más importante que puedes inferir de este gráfico?:"
   ]
  },
  {
   "cell_type": "markdown",
   "id": "b8c96e4c-f1b6-4935-9263-a412ac835cbc",
   "metadata": {},
   "source": [
    "***"
   ]
  },
  {
   "cell_type": "markdown",
   "id": "bb77021d",
   "metadata": {},
   "source": [
    "## Ejercicio 4: Gráfico de pastel (o circular)"
   ]
  },
  {
   "cell_type": "markdown",
   "id": "d10a3b25",
   "metadata": {},
   "source": [
    "\n",
    "Realiza un **gráfico de pastel** (`pie`) mostrando la proporción % que representa las **Asistencias** por jornada.\n",
    "\n",
    "Además, añade y completa estas características al gráfico:\n",
    "\n",
    "   \n",
    "title=\"Porcentaje de minutos por jornada\",  # Título del gráfico\n",
    "   \n",
    "labels=\"df_kevin.Jornada\",  # Etiquetas\n",
    "   \n",
    "autopct='%1.1f%%', # muestra porcentajes con un decimal   \n",
    "\n",
    "legend= ,      # Oculta la leyenda si no es necesaria: True/False\n"
   ]
  },
  {
   "cell_type": "code",
   "execution_count": null,
   "id": "7a3ddadc-8940-4e40-b407-a1777c53c1e7",
   "metadata": {},
   "outputs": [],
   "source": [
    "# Tu código aquí\n"
   ]
  },
  {
   "cell_type": "markdown",
   "id": "90aaafbf-9ae9-47c0-bea4-ee0fb39167bf",
   "metadata": {},
   "source": [
    "#### Pregunta:\n",
    "\n",
    "1. ¿Cuál es la jornada en la que el número de asistencias representa el 6,9 % del total de todas las asistencias?"
   ]
  },
  {
   "cell_type": "markdown",
   "id": "9ac25915",
   "metadata": {},
   "source": [
    "\n",
    "---\n",
    "¡Buen trabajo! Recuerda que puedes personalizar tus gráficos ajustando colores, etiquetas y estilos.\n"
   ]
  }
 ],
 "metadata": {
  "kernelspec": {
   "display_name": "Python 3 (ipykernel)",
   "language": "python",
   "name": "python3"
  },
  "language_info": {
   "codemirror_mode": {
    "name": "ipython",
    "version": 3
   },
   "file_extension": ".py",
   "mimetype": "text/x-python",
   "name": "python",
   "nbconvert_exporter": "python",
   "pygments_lexer": "ipython3",
   "version": "3.12.8"
  }
 },
 "nbformat": 4,
 "nbformat_minor": 5
}
