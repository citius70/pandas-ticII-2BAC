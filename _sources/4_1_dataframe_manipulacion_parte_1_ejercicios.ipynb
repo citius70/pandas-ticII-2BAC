{
 "cells": [
  {
   "cell_type": "markdown",
   "id": "8b6f5db5-ff06-4e05-b006-140d672476a1",
   "metadata": {},
   "source": [
    "# 📑 Ejercicios sobre **manipulación de datos** en Pandas (Parte 1)"
   ]
  },
  {
   "cell_type": "markdown",
   "id": "bb32fef5-b4e1-44eb-942a-a75a3b3cb6cd",
   "metadata": {},
   "source": [
    "## 🚚📦 Análisis de entregas logísticas"
   ]
  },
  {
   "cell_type": "markdown",
   "id": "115d3545-4630-4c8a-b407-914fd7db548c",
   "metadata": {},
   "source": [
    "En este ejercicio trabajaremos con un conjunto de datos que representa **entregas de productos de la empresa de transportes \"Flashcargo S.A.\"** .\n",
    "Analizaremos los tiempos de entrega, costes y otros aspectos usando Pandas."
   ]
  },
  {
   "attachments": {},
   "cell_type": "markdown",
   "id": "c876d63c-04d6-4ed5-9bae-1c26b3ed9b79",
   "metadata": {},
   "source": [
    "```{figure} ../pandas_tic_2/imagenes/flashcargo.png\n",
    "---\n",
    "name: dataframe\n",
    "width: 50%\n",
    "---\n",
    "Flashcargo"
   ]
  },
  {
   "cell_type": "markdown",
   "id": "15a4db51-42d0-487c-8482-f9ea9480d113",
   "metadata": {},
   "source": [
    "El archivo se encuentra en Google Drive con el link: \n",
    "\n",
    "https://drive.google.com/uc?export=download&id=1pb1oPRpcZJvf3ORJI3nt8xmU33HNLl7k\n"
   ]
  },
  {
   "cell_type": "markdown",
   "id": "c76d2e2a-57df-46a1-b8d3-425af560cd5f",
   "metadata": {},
   "source": [
    "## Actividades previas"
   ]
  },
  {
   "cell_type": "code",
   "execution_count": 1,
   "id": "a2ab182f-8ebc-46af-9d74-7ced1077154d",
   "metadata": {},
   "outputs": [],
   "source": [
    "# 1. Importa la librería Pandas\n",
    "\n"
   ]
  },
  {
   "cell_type": "code",
   "execution_count": 2,
   "id": "6e25f17e-0e72-4a55-b8e9-89491ad6a109",
   "metadata": {},
   "outputs": [],
   "source": [
    "# 2. Crea el Dataframe (df) a partir del archivo que se encuentra en: https://drive.google.com/uc?export=download&id=1pb1oPRpcZJvf3ORJI3nt8xmU33HNLl7k\n",
    "#    Aprovecha para configurar la columna \"ID_Entrega\" con índice del dataframe. Todos los datos de la columna son únicos.abs\n",
    "\n",
    "\n",
    "# 3. Visualiza el DataFrame\n",
    "\n"
   ]
  },
  {
   "cell_type": "markdown",
   "id": "32e5e798-adbe-4825-b350-4e6f7c3c46ce",
   "metadata": {},
   "source": [
    "*********************"
   ]
  },
  {
   "cell_type": "markdown",
   "id": "8fcef4d8-65c5-4468-b75c-50c8bbac2755",
   "metadata": {},
   "source": [
    "## 🔍 Ejercicio 1: Forma (nº filas x nº columnas) del Dataframe"
   ]
  },
  {
   "cell_type": "markdown",
   "id": "97129e9d-9623-43c3-a450-dbe89ab35c34",
   "metadata": {},
   "source": [
    "Descubre el número de filas y columnas de los datos.\n",
    "(Salida esperada: 95 filas. 10 columnas)"
   ]
  },
  {
   "cell_type": "code",
   "execution_count": 3,
   "id": "5c23740f-e374-4bde-8d25-f86218a95614",
   "metadata": {},
   "outputs": [],
   "source": [
    "# Ejercicio 1. Haz el ejercicio aquí\n"
   ]
  },
  {
   "cell_type": "markdown",
   "id": "4979147e-99c1-44c2-85da-fa3cf3bb505f",
   "metadata": {},
   "source": [
    "*********************"
   ]
  },
  {
   "cell_type": "markdown",
   "id": "681759c5-7221-4442-a32b-c7ea757a04f5",
   "metadata": {},
   "source": [
    "## 🔍 Ejercicio 2. Primeros y últimos registros"
   ]
  },
  {
   "cell_type": "markdown",
   "id": "a80c1bca-3725-494b-b35f-ce63d1caaf51",
   "metadata": {},
   "source": [
    "Muestra los primeros 6 registros del DataFrame usando `head()`.\n",
    "\n",
    "Muestra los últimos 11 registros del DataFrame usando `tail()`."
   ]
  },
  {
   "cell_type": "code",
   "execution_count": 4,
   "id": "3a52926f",
   "metadata": {},
   "outputs": [],
   "source": [
    "# Ejercicio 2.1. Muestra los primeros 6 registros del DataFrame usando `head()`.\n",
    "\n"
   ]
  },
  {
   "cell_type": "code",
   "execution_count": 5,
   "id": "c798f191-e582-44f7-98e1-8edc318f0d24",
   "metadata": {},
   "outputs": [],
   "source": [
    "# Ejercicio 2.2. Muestra los últimos 11 registros del DataFrame usando `tail()`.\n",
    "\n",
    "\n"
   ]
  },
  {
   "cell_type": "markdown",
   "id": "80bca4d4-c11b-4701-b25e-769321339d9e",
   "metadata": {},
   "source": [
    "*********************"
   ]
  },
  {
   "cell_type": "markdown",
   "id": "7985f93c-7c6e-4113-9298-8d074cdc254d",
   "metadata": {},
   "source": [
    "## 🔍 Ejercicio 3: Tiempo de entrega: media, mínimo y máximo"
   ]
  },
  {
   "cell_type": "markdown",
   "id": "43f643d6-9693-463d-b773-d405b926720f",
   "metadata": {},
   "source": [
    "Calcula el tiempo **medio**, **máximo** y **mínimo** de días entrega."
   ]
  },
  {
   "cell_type": "code",
   "execution_count": 6,
   "id": "50cad16b",
   "metadata": {},
   "outputs": [],
   "source": [
    "# Ejercicio 3.1. Calcula el tiempo **medio** de entrega. Salida esperada: 4.06 días\n",
    "\n",
    "\n"
   ]
  },
  {
   "cell_type": "code",
   "execution_count": 7,
   "id": "810715fc-7bfa-403b-9d08-cb1e42f3cdd1",
   "metadata": {},
   "outputs": [],
   "source": [
    "# Ejercicio 3.2. Calcula el tiempo **máximo**. Salida esperada: 9 días\n",
    "\n",
    "\n"
   ]
  },
  {
   "cell_type": "code",
   "execution_count": 8,
   "id": "0305d6cb-f89c-4105-b1a5-71c1c9a8ebf8",
   "metadata": {},
   "outputs": [],
   "source": [
    "# Ejercicio 3.3. Calcula el tiempo **mínimo** de entrega. Salida esperada: 1 día\n",
    "\n",
    "\n"
   ]
  },
  {
   "cell_type": "markdown",
   "id": "c91548ef-fe1a-4f83-855e-624811dde0e2",
   "metadata": {},
   "source": [
    "*********************"
   ]
  },
  {
   "cell_type": "markdown",
   "id": "7c4d9940-7e40-443c-b724-c771b86ee954",
   "metadata": {},
   "source": [
    "## 🔍 Ejercicio 4. Coste de entregas"
   ]
  },
  {
   "cell_type": "markdown",
   "id": "991c88ad-36b4-4151-b9c0-a7c01b169487",
   "metadata": {},
   "source": [
    "Calcula el **coste total** de las entregas realizadas."
   ]
  },
  {
   "cell_type": "code",
   "execution_count": 9,
   "id": "c9bc53b3",
   "metadata": {},
   "outputs": [],
   "source": [
    "# Ejercicio 4. Calcula el **coste total** de las entregas realizadas. Salida esperada: 24337,82 €.\n",
    "\n",
    "\n"
   ]
  },
  {
   "cell_type": "markdown",
   "id": "0dbac011-8ab7-421f-ab50-c23f34876cb6",
   "metadata": {},
   "source": [
    "*********************"
   ]
  },
  {
   "cell_type": "markdown",
   "id": "8619b7ea-2517-451f-82f5-8f893be787ba",
   "metadata": {},
   "source": [
    "## 🔍 Ejercicio 5. Entrega más rápida y más lenta"
   ]
  },
  {
   "cell_type": "markdown",
   "id": "dbae3daa-7669-49c2-b89a-e123aef61cf7",
   "metadata": {},
   "source": [
    "Usa `idxmin()` e `idxmax()` para encontrar las entregas con el menor y mayor tiempo."
   ]
  },
  {
   "cell_type": "code",
   "execution_count": 10,
   "id": "8fc4657a",
   "metadata": {},
   "outputs": [],
   "source": [
    "# Ejercicio 5.1. Usa `idxmin()`  para identificar las entregas realizadas en el menor tiempo. \n",
    "# Salida esperada: ENTOO2\n",
    "\n"
   ]
  },
  {
   "cell_type": "code",
   "execution_count": 11,
   "id": "e5ca7ed6-e8fb-45de-8dee-38d1f70fd6a9",
   "metadata": {},
   "outputs": [],
   "source": [
    "# Ejercicio 5.2. Usa `idxmax()` para identificar las entregas realizadas en el mayor tiempo.\n",
    "# Salida esperada: ENT0021\n",
    "\n",
    "\n"
   ]
  },
  {
   "cell_type": "markdown",
   "id": "474a0d54-bb0a-4fd5-ab9e-50385cf85235",
   "metadata": {},
   "source": [
    "*********************"
   ]
  },
  {
   "cell_type": "markdown",
   "id": "97db10e7-813e-4d0c-923a-0d99538e53d6",
   "metadata": {},
   "source": [
    "## 🔍 Ejercicio 6. Entregas por ciudad y medio de transporte"
   ]
  },
  {
   "cell_type": "markdown",
   "id": "61ccfe63-62d2-4ebd-8187-a86d5c4b5c77",
   "metadata": {},
   "source": [
    "Averigua cuántas entregas se hicieron en cada ciudad con `value_counts()`. Haz lo mismo con los medios de transporte."
   ]
  },
  {
   "cell_type": "code",
   "execution_count": 12,
   "id": "4b9c8df8",
   "metadata": {},
   "outputs": [],
   "source": [
    "# Ejercicio 6.1. Averigua cuántas entregas se hicieron en cada ciudad con `value_counts()`.\n",
    "# Salida esperada: Barcelona 14 entregas, Sevilla 13 entregas...\n",
    "\n",
    "\n"
   ]
  },
  {
   "cell_type": "code",
   "execution_count": 13,
   "id": "a71765de-0295-4c0e-b1a8-71adfec9d55c",
   "metadata": {},
   "outputs": [],
   "source": [
    "# Ejercicio 6.2. Averigua cuántas entregas se hicieron en cada medio de entrega con `value_counts()`.\n",
    "# Salida esperada: Motocicleta 23 entregas, Camión 25 entregas,...\n",
    "\n",
    "\n"
   ]
  },
  {
   "cell_type": "markdown",
   "id": "312db592-484c-4bd8-9397-6047db578add",
   "metadata": {},
   "source": [
    "*********************"
   ]
  },
  {
   "cell_type": "markdown",
   "id": "698b43a8-5f11-49f4-b0dd-857357802eaa",
   "metadata": {},
   "source": [
    "## 🔍 Ejercicio 7. Resumen estadístico"
   ]
  },
  {
   "cell_type": "markdown",
   "id": "fe8dd82a-2d91-46be-a5d6-6d205a57046f",
   "metadata": {},
   "source": [
    "Obtén un resumen estadístico con `describe()` de todos los campos numéricos."
   ]
  },
  {
   "cell_type": "code",
   "execution_count": 14,
   "id": "b91060fa",
   "metadata": {},
   "outputs": [],
   "source": [
    "# Ejercicio 7. Obtén un resumen estadístico con `describe()` de todos los campos numéricos.\n",
    "\n",
    "\n"
   ]
  },
  {
   "cell_type": "markdown",
   "id": "35801f6a-a6c0-42be-969e-2f0d8da4fe7d",
   "metadata": {},
   "source": [
    "*********************"
   ]
  },
  {
   "cell_type": "markdown",
   "id": "6bb5b03f-7be9-4f4b-9110-356d5c7722ae",
   "metadata": {},
   "source": [
    "## 🔍 Ejercicio 8. Análisis estadístico"
   ]
  },
  {
   "cell_type": "markdown",
   "id": "8ffcfaa2-6a56-4069-9e2b-1d94afa6210d",
   "metadata": {},
   "source": [
    "Viendo los resultados, responde a  estas preguntas:\n",
    "\n",
    "**Peso** de las entregas:\n",
    "\n",
    "1. El 25% de las entregas pesaron menos de ___ kg.\n",
    "2. La mitad (50%) de las entregas pesaron menos de ____ kg.\n",
    "3. El 75% de las entregas pesaron menos de ____ kg.\n",
    "4. Ninguna de las entregas superó un peso de ___ kg.\n",
    "\n",
    "\n",
    "**Tiempo de entrega** en días:\n",
    "\n",
    "1. El 25% de las entregas se hicieron en un período inferior a  ____ días.\n",
    "3. La mitad (50%)  de las entregas se hicieron en un período inferior a ____ días.\n",
    "4. El 75% de las entregas se hicieron en un período inferior a ____ días.\n",
    "5. Las entregas (100%) se hicieron en un período inferior a ____ días.\n",
    "\n",
    "\n",
    "   "
   ]
  },
  {
   "cell_type": "code",
   "execution_count": null,
   "id": "fb7a3cb8-7783-48c1-aea1-14e4709d6d33",
   "metadata": {},
   "outputs": [],
   "source": []
  }
 ],
 "metadata": {
  "kernelspec": {
   "display_name": "Python 3 (ipykernel)",
   "language": "python",
   "name": "python3"
  },
  "language_info": {
   "codemirror_mode": {
    "name": "ipython",
    "version": 3
   },
   "file_extension": ".py",
   "mimetype": "text/x-python",
   "name": "python",
   "nbconvert_exporter": "python",
   "pygments_lexer": "ipython3",
   "version": "3.12.8"
  }
 },
 "nbformat": 4,
 "nbformat_minor": 5
}
