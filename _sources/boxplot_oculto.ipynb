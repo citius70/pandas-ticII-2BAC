{
 "cells": [
  {
   "cell_type": "markdown",
   "id": "d561c54f",
   "metadata": {},
   "source": [
    "## Ejemplo de boxplot con personalización y celda oculta en Jupyter Book"
   ]
  },
  {
   "cell_type": "code",
   "execution_count": null,
   "id": "ab62b372",
   "metadata": {},
   "outputs": [],
   "source": [
    "# + tags=[\"remove-input\"]\n",
    "df[['Defectos']].plot.box(\n",
    "    title='Distribución de defectos en el mes',\n",
    "    figsize=(6, 5),\n",
    "    grid=True,\n",
    "    color=dict(boxes='blue', whiskers='black', medians='red', caps='green')\n",
    ")\n"
   ]
  }
 ],
 "metadata": {},
 "nbformat": 4,
 "nbformat_minor": 5
}
