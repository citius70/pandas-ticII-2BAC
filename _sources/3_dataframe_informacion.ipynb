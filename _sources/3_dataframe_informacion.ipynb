{
 "cells": [
  {
   "cell_type": "markdown",
   "metadata": {},
   "source": [
    "# 3. Información sobre el DataFrame"
   ]
  },
  {
   "cell_type": "markdown",
   "metadata": {},
   "source": [
    "Puedes obtener información sobre la estructura del **DataFrame**, tales como sus columnas, dimensiones (nº filas x  nº columnas), datos de filas..."
   ]
  },
  {
   "cell_type": "markdown",
   "metadata": {},
   "source": [
    "Creamos un Dataframe a partir de un archivo con datos de artículos electrónicos que el profesor tiene guardado en Google Drive en formato .csv. El link al archivo es el indicado a  **https://drive.google.com/uc?export=download&id=16SQQX0ly--l9UvNBr5-KGRWb6todE1u6**.\n",
    "\n",
    "Vamos a llamar al Dataframe: **df** (por ejemplo)"
   ]
  },
  {
   "cell_type": "code",
   "execution_count": 23,
   "metadata": {
    "colab": {
     "base_uri": "https://localhost:8080/",
     "height": 990
    },
    "id": "m24vie01yo2J",
    "outputId": "bf8f5dd6-5612-4a48-e163-cf383ee91b78",
    "scrolled": true
   },
   "outputs": [
    {
     "data": {
      "text/html": [
       "<div>\n",
       "<style scoped>\n",
       "    .dataframe tbody tr th:only-of-type {\n",
       "        vertical-align: middle;\n",
       "    }\n",
       "\n",
       "    .dataframe tbody tr th {\n",
       "        vertical-align: top;\n",
       "    }\n",
       "\n",
       "    .dataframe thead th {\n",
       "        text-align: right;\n",
       "    }\n",
       "</style>\n",
       "<table border=\"1\" class=\"dataframe\">\n",
       "  <thead>\n",
       "    <tr style=\"text-align: right;\">\n",
       "      <th></th>\n",
       "      <th>ID_Producto</th>\n",
       "      <th>Producto</th>\n",
       "      <th>Cantidad</th>\n",
       "      <th>Precio</th>\n",
       "    </tr>\n",
       "  </thead>\n",
       "  <tbody>\n",
       "    <tr>\n",
       "      <th>0</th>\n",
       "      <td>SKU1</td>\n",
       "      <td>Xbox Series X</td>\n",
       "      <td>65</td>\n",
       "      <td>500</td>\n",
       "    </tr>\n",
       "    <tr>\n",
       "      <th>1</th>\n",
       "      <td>SKU4</td>\n",
       "      <td>Teclado mecánico Razer BlackWidow</td>\n",
       "      <td>130</td>\n",
       "      <td>250</td>\n",
       "    </tr>\n",
       "    <tr>\n",
       "      <th>2</th>\n",
       "      <td>SKU7</td>\n",
       "      <td>Monitor Gaming Asus 27\"</td>\n",
       "      <td>45</td>\n",
       "      <td>750</td>\n",
       "    </tr>\n",
       "    <tr>\n",
       "      <th>3</th>\n",
       "      <td>SKU11</td>\n",
       "      <td>Robot aspirador Roomba 960</td>\n",
       "      <td>30</td>\n",
       "      <td>450</td>\n",
       "    </tr>\n",
       "    <tr>\n",
       "      <th>4</th>\n",
       "      <td>SKU26</td>\n",
       "      <td>Kindle Paperwhite</td>\n",
       "      <td>150</td>\n",
       "      <td>200</td>\n",
       "    </tr>\n",
       "    <tr>\n",
       "      <th>5</th>\n",
       "      <td>SKU39</td>\n",
       "      <td>Cámara de acción Insta360 One X2</td>\n",
       "      <td>80</td>\n",
       "      <td>380</td>\n",
       "    </tr>\n",
       "    <tr>\n",
       "      <th>6</th>\n",
       "      <td>SKU44</td>\n",
       "      <td>Cafetera Nespresso Vertuo</td>\n",
       "      <td>80</td>\n",
       "      <td>150</td>\n",
       "    </tr>\n",
       "    <tr>\n",
       "      <th>7</th>\n",
       "      <td>SKU48</td>\n",
       "      <td>Nintendo Switch</td>\n",
       "      <td>50</td>\n",
       "      <td>280</td>\n",
       "    </tr>\n",
       "    <tr>\n",
       "      <th>8</th>\n",
       "      <td>SKU62</td>\n",
       "      <td>PlayStation 5</td>\n",
       "      <td>75</td>\n",
       "      <td>480</td>\n",
       "    </tr>\n",
       "    <tr>\n",
       "      <th>9</th>\n",
       "      <td>SKU63</td>\n",
       "      <td>Reloj Inteligente Apple Watch Series 6</td>\n",
       "      <td>90</td>\n",
       "      <td>600</td>\n",
       "    </tr>\n",
       "    <tr>\n",
       "      <th>10</th>\n",
       "      <td>SKU97</td>\n",
       "      <td>GoPro HERO9</td>\n",
       "      <td>100</td>\n",
       "      <td>320</td>\n",
       "    </tr>\n",
       "    <tr>\n",
       "      <th>11</th>\n",
       "      <td>SKU98</td>\n",
       "      <td>AirPods Pro</td>\n",
       "      <td>120</td>\n",
       "      <td>250</td>\n",
       "    </tr>\n",
       "    <tr>\n",
       "      <th>12</th>\n",
       "      <td>SKU110</td>\n",
       "      <td>Gafas de realidad virtual Oculus Quest 2</td>\n",
       "      <td>50</td>\n",
       "      <td>300</td>\n",
       "    </tr>\n",
       "    <tr>\n",
       "      <th>13</th>\n",
       "      <td>SKU115</td>\n",
       "      <td>Garmin Fenix 6 Pro</td>\n",
       "      <td>55</td>\n",
       "      <td>700</td>\n",
       "    </tr>\n",
       "    <tr>\n",
       "      <th>14</th>\n",
       "      <td>SKU126</td>\n",
       "      <td>Refrigerador Samsung Smart</td>\n",
       "      <td>25</td>\n",
       "      <td>2000</td>\n",
       "    </tr>\n",
       "    <tr>\n",
       "      <th>15</th>\n",
       "      <td>SKU131</td>\n",
       "      <td>Samsung Galaxy S21</td>\n",
       "      <td>80</td>\n",
       "      <td>850</td>\n",
       "    </tr>\n",
       "    <tr>\n",
       "      <th>16</th>\n",
       "      <td>SKU134</td>\n",
       "      <td>Laptop Dell XPS 15</td>\n",
       "      <td>40</td>\n",
       "      <td>1200</td>\n",
       "    </tr>\n",
       "    <tr>\n",
       "      <th>17</th>\n",
       "      <td>SKU154</td>\n",
       "      <td>iPad Pro 12.9</td>\n",
       "      <td>60</td>\n",
       "      <td>1050</td>\n",
       "    </tr>\n",
       "    <tr>\n",
       "      <th>18</th>\n",
       "      <td>SKU158</td>\n",
       "      <td>Smartwatch Samsung Galaxy Watch 3</td>\n",
       "      <td>85</td>\n",
       "      <td>550</td>\n",
       "    </tr>\n",
       "    <tr>\n",
       "      <th>19</th>\n",
       "      <td>SKU162</td>\n",
       "      <td>Mochila antirrobo XD Design</td>\n",
       "      <td>150</td>\n",
       "      <td>180</td>\n",
       "    </tr>\n",
       "    <tr>\n",
       "      <th>20</th>\n",
       "      <td>SKU163</td>\n",
       "      <td>Auriculares Sony WH-1000XM4</td>\n",
       "      <td>100</td>\n",
       "      <td>350</td>\n",
       "    </tr>\n",
       "    <tr>\n",
       "      <th>21</th>\n",
       "      <td>SKU168</td>\n",
       "      <td>Microondas inteligente Panasonic</td>\n",
       "      <td>50</td>\n",
       "      <td>250</td>\n",
       "    </tr>\n",
       "    <tr>\n",
       "      <th>22</th>\n",
       "      <td>SKU170</td>\n",
       "      <td>Silla gaming DXRacer</td>\n",
       "      <td>60</td>\n",
       "      <td>400</td>\n",
       "    </tr>\n",
       "    <tr>\n",
       "      <th>23</th>\n",
       "      <td>SKU171</td>\n",
       "      <td>Drone DJI Mavic Air 2</td>\n",
       "      <td>20</td>\n",
       "      <td>900</td>\n",
       "    </tr>\n",
       "    <tr>\n",
       "      <th>24</th>\n",
       "      <td>SKU172</td>\n",
       "      <td>iPhone 13</td>\n",
       "      <td>100</td>\n",
       "      <td>990</td>\n",
       "    </tr>\n",
       "    <tr>\n",
       "      <th>25</th>\n",
       "      <td>SKU176</td>\n",
       "      <td>Bose QuietComfort 35 II</td>\n",
       "      <td>70</td>\n",
       "      <td>350</td>\n",
       "    </tr>\n",
       "    <tr>\n",
       "      <th>26</th>\n",
       "      <td>SKU178</td>\n",
       "      <td>Bicicleta eléctrica Xiaomi</td>\n",
       "      <td>35</td>\n",
       "      <td>800</td>\n",
       "    </tr>\n",
       "    <tr>\n",
       "      <th>27</th>\n",
       "      <td>SKU187</td>\n",
       "      <td>Cámara Canon EOS Rebel T7</td>\n",
       "      <td>50</td>\n",
       "      <td>550</td>\n",
       "    </tr>\n",
       "    <tr>\n",
       "      <th>28</th>\n",
       "      <td>SKU191</td>\n",
       "      <td>Smart TV LG OLED 55\"</td>\n",
       "      <td>40</td>\n",
       "      <td>1500</td>\n",
       "    </tr>\n",
       "    <tr>\n",
       "      <th>29</th>\n",
       "      <td>SKU196</td>\n",
       "      <td>Consola Retro Sega Genesis</td>\n",
       "      <td>110</td>\n",
       "      <td>120</td>\n",
       "    </tr>\n",
       "  </tbody>\n",
       "</table>\n",
       "</div>"
      ],
      "text/plain": [
       "   ID_Producto                                  Producto  Cantidad  Precio\n",
       "0         SKU1                             Xbox Series X        65     500\n",
       "1         SKU4         Teclado mecánico Razer BlackWidow       130     250\n",
       "2         SKU7                   Monitor Gaming Asus 27\"        45     750\n",
       "3        SKU11                Robot aspirador Roomba 960        30     450\n",
       "4        SKU26                         Kindle Paperwhite       150     200\n",
       "5        SKU39          Cámara de acción Insta360 One X2        80     380\n",
       "6        SKU44                 Cafetera Nespresso Vertuo        80     150\n",
       "7        SKU48                           Nintendo Switch        50     280\n",
       "8        SKU62                             PlayStation 5        75     480\n",
       "9        SKU63    Reloj Inteligente Apple Watch Series 6        90     600\n",
       "10       SKU97                               GoPro HERO9       100     320\n",
       "11       SKU98                               AirPods Pro       120     250\n",
       "12      SKU110  Gafas de realidad virtual Oculus Quest 2        50     300\n",
       "13      SKU115                        Garmin Fenix 6 Pro        55     700\n",
       "14      SKU126                Refrigerador Samsung Smart        25    2000\n",
       "15      SKU131                        Samsung Galaxy S21        80     850\n",
       "16      SKU134                        Laptop Dell XPS 15        40    1200\n",
       "17      SKU154                             iPad Pro 12.9        60    1050\n",
       "18      SKU158         Smartwatch Samsung Galaxy Watch 3        85     550\n",
       "19      SKU162               Mochila antirrobo XD Design       150     180\n",
       "20      SKU163               Auriculares Sony WH-1000XM4       100     350\n",
       "21      SKU168          Microondas inteligente Panasonic        50     250\n",
       "22      SKU170                      Silla gaming DXRacer        60     400\n",
       "23      SKU171                     Drone DJI Mavic Air 2        20     900\n",
       "24      SKU172                                 iPhone 13       100     990\n",
       "25      SKU176                   Bose QuietComfort 35 II        70     350\n",
       "26      SKU178                Bicicleta eléctrica Xiaomi        35     800\n",
       "27      SKU187                 Cámara Canon EOS Rebel T7        50     550\n",
       "28      SKU191                      Smart TV LG OLED 55\"        40    1500\n",
       "29      SKU196                Consola Retro Sega Genesis       110     120"
      ]
     },
     "execution_count": 23,
     "metadata": {},
     "output_type": "execute_result"
    }
   ],
   "source": [
    "import pandas as pd\n",
    "df = pd.read_csv(\"https://drive.google.com/uc?export=download&id=16SQQX0ly--l9UvNBr5-KGRWb6todE1u6\")\n",
    "df"
   ]
  },
  {
   "cell_type": "markdown",
   "metadata": {},
   "source": [
    "## 3.1. Atributos para obtener información de un DataFrame"
   ]
  },
  {
   "cell_type": "markdown",
   "metadata": {},
   "source": [
    "Existen varios comandos que nos permiten conocer cómo es el Dataframe cargado."
   ]
  },
  {
   "cell_type": "markdown",
   "metadata": {},
   "source": [
    "### - Atributo: **shape**"
   ]
  },
  {
   "cell_type": "markdown",
   "metadata": {},
   "source": [
    "El atributo `shape` en un DataFrame de pandas es una propiedad muy útil que te permite conocer las **dimensiones** (nº filas, nº columnas) del DataFrame. Específicamente, shape devuelve una tupla que contiene dos elementos: `(filas, columnas)`"
   ]
  },
  {
   "cell_type": "code",
   "execution_count": 21,
   "metadata": {
    "colab": {
     "base_uri": "https://localhost:8080/"
    },
    "editable": true,
    "id": "gx6lVCCKcRS_",
    "outputId": "f857a1ac-4e69-4717-fb54-b56d4fc74e0e",
    "slideshow": {
     "slide_type": ""
    },
    "tags": []
   },
   "outputs": [
    {
     "data": {
      "text/plain": [
       "(30, 4)"
      ]
     },
     "execution_count": 21,
     "metadata": {},
     "output_type": "execute_result"
    }
   ],
   "source": [
    "df.shape\n",
    "# Tiene 30 filas y 3 columnas\n"
   ]
  },
  {
   "cell_type": "markdown",
   "metadata": {},
   "source": [
    "### - Atributo: **columns**"
   ]
  },
  {
   "cell_type": "markdown",
   "metadata": {
    "editable": true,
    "slideshow": {
     "slide_type": ""
    },
    "tags": []
   },
   "source": [
    "El atributo`columns` devuelve un objeto Index() que contiene los **nombres de las columnas**, lo que te permite ver rápidamente qué columnas están disponibles en tu DataFrame."
   ]
  },
  {
   "cell_type": "code",
   "execution_count": 3,
   "metadata": {
    "colab": {
     "base_uri": "https://localhost:8080/"
    },
    "id": "x6BlBdj0cTAU",
    "outputId": "4568e145-ef1a-42b7-9366-1ab5a988827c"
   },
   "outputs": [
    {
     "data": {
      "text/plain": [
       "Index(['ID_Producto', 'Producto', 'Cantidad', 'Precio'], dtype='object')"
      ]
     },
     "execution_count": 3,
     "metadata": {},
     "output_type": "execute_result"
    }
   ],
   "source": [
    "df.columns\n"
   ]
  },
  {
   "cell_type": "markdown",
   "metadata": {},
   "source": [
    "### - Atributo: **dtypes**"
   ]
  },
  {
   "cell_type": "markdown",
   "metadata": {
    "id": "v1xtoU52coSS"
   },
   "source": [
    "Con `dtypes` puedes acceder a los **tipos** de columnas de tu `DataFrame`. Los tipos con los que trabaja Pandas son:\n",
    "\n",
    "* **object**: generalmente texto (strings)\n",
    "\n",
    "* **int64**: números enteros\n",
    "\n",
    "* **float64**: números decimales\n",
    "\n",
    "* **bool**: valores booleanos (True/False)\n",
    "\n",
    "* **datetime64**: fechas y horas"
   ]
  },
  {
   "cell_type": "code",
   "execution_count": 4,
   "metadata": {
    "colab": {
     "base_uri": "https://localhost:8080/"
    },
    "id": "qXJ7TF3zcnEi",
    "outputId": "73ae6841-7133-43c3-9f30-480951a32eff"
   },
   "outputs": [
    {
     "data": {
      "text/plain": [
       "ID_Producto    object\n",
       "Producto       object\n",
       "Cantidad        int64\n",
       "Precio          int64\n",
       "dtype: object"
      ]
     },
     "execution_count": 4,
     "metadata": {},
     "output_type": "execute_result"
    }
   ],
   "source": [
    "df.dtypes\n",
    "# Nuestro Dataframe dará los siguientes resultados:"
   ]
  },
  {
   "cell_type": "markdown",
   "metadata": {},
   "source": [
    "### - Atributo: **column.dtypes**"
   ]
  },
  {
   "cell_type": "markdown",
   "metadata": {
    "id": "-xhu1jj4cox-"
   },
   "source": [
    "También puedes usarlo en columnas especificas de dos formas equivalentes `NombreColumna.dtypes`o `[\"NombreColumna\"].dtypes`"
   ]
  },
  {
   "cell_type": "code",
   "execution_count": 5,
   "metadata": {
    "colab": {
     "base_uri": "https://localhost:8080/"
    },
    "id": "BSJUw2DVcpKa",
    "outputId": "c067e39c-d1b5-4905-fb0a-41a839777d01"
   },
   "outputs": [
    {
     "data": {
      "text/plain": [
       "dtype('int64')"
      ]
     },
     "execution_count": 5,
     "metadata": {},
     "output_type": "execute_result"
    }
   ],
   "source": [
    "# Para conocer el tipo de columna \"Precio\"\n",
    "df.Precio.dtypes\n"
   ]
  },
  {
   "cell_type": "code",
   "execution_count": 6,
   "metadata": {
    "colab": {
     "base_uri": "https://localhost:8080/"
    },
    "id": "h8_sEAEWI0Ct",
    "outputId": "8b7c25b1-a05a-4e11-d27e-0f0cb2b3d973"
   },
   "outputs": [
    {
     "data": {
      "text/plain": [
       "dtype('int64')"
      ]
     },
     "execution_count": 6,
     "metadata": {},
     "output_type": "execute_result"
    }
   ],
   "source": [
    "# Equivalente a la celda anterior\n",
    "df[\"Precio\"].dtypes\n"
   ]
  },
  {
   "cell_type": "markdown",
   "metadata": {
    "id": "UgRF1Ehp3d2C"
   },
   "source": [
    "## 3.2. Accediendo al DataFrame"
   ]
  },
  {
   "cell_type": "markdown",
   "metadata": {
    "editable": true,
    "id": "yWFYhB2O3hVD",
    "slideshow": {
     "slide_type": ""
    },
    "tags": []
   },
   "source": [
    "### - Accediendo a todos los datos de una columna\n",
    "Puedes obterner rápidamente los datos de una columna usando `NombreDataframe.NombreColumna` o `NombreDataframe[\"NombreColumna\"]`. Recuerda que nuestro Dataframe se llama **df**."
   ]
  },
  {
   "cell_type": "code",
   "execution_count": 7,
   "metadata": {
    "colab": {
     "base_uri": "https://localhost:8080/"
    },
    "editable": true,
    "id": "4zFun_um38Uo",
    "outputId": "b62bca91-06b1-4a69-8b7a-a19bfe2e0126",
    "slideshow": {
     "slide_type": ""
    },
    "tags": []
   },
   "outputs": [
    {
     "data": {
      "text/plain": [
       "0      65\n",
       "1     130\n",
       "2      45\n",
       "3      30\n",
       "4     150\n",
       "5      80\n",
       "6      80\n",
       "7      50\n",
       "8      75\n",
       "9      90\n",
       "10    100\n",
       "11    120\n",
       "12     50\n",
       "13     55\n",
       "14     25\n",
       "15     80\n",
       "16     40\n",
       "17     60\n",
       "18     85\n",
       "19    150\n",
       "20    100\n",
       "21     50\n",
       "22     60\n",
       "23     20\n",
       "24    100\n",
       "25     70\n",
       "26     35\n",
       "27     50\n",
       "28     40\n",
       "29    110\n",
       "Name: Cantidad, dtype: int64"
      ]
     },
     "execution_count": 7,
     "metadata": {},
     "output_type": "execute_result"
    }
   ],
   "source": [
    "df.Cantidad\n"
   ]
  },
  {
   "cell_type": "code",
   "execution_count": 8,
   "metadata": {
    "colab": {
     "base_uri": "https://localhost:8080/"
    },
    "id": "sphcqwxZ3rK1",
    "outputId": "3150ff18-58ef-4388-f094-3f09007e0f99"
   },
   "outputs": [
    {
     "data": {
      "text/plain": [
       "0      65\n",
       "1     130\n",
       "2      45\n",
       "3      30\n",
       "4     150\n",
       "5      80\n",
       "6      80\n",
       "7      50\n",
       "8      75\n",
       "9      90\n",
       "10    100\n",
       "11    120\n",
       "12     50\n",
       "13     55\n",
       "14     25\n",
       "15     80\n",
       "16     40\n",
       "17     60\n",
       "18     85\n",
       "19    150\n",
       "20    100\n",
       "21     50\n",
       "22     60\n",
       "23     20\n",
       "24    100\n",
       "25     70\n",
       "26     35\n",
       "27     50\n",
       "28     40\n",
       "29    110\n",
       "Name: Cantidad, dtype: int64"
      ]
     },
     "execution_count": 8,
     "metadata": {},
     "output_type": "execute_result"
    }
   ],
   "source": [
    "df[\"Cantidad\"]\n"
   ]
  },
  {
   "cell_type": "markdown",
   "metadata": {
    "editable": true,
    "id": "M1pEuKmj4AZy",
    "slideshow": {
     "slide_type": ""
    },
    "tags": []
   },
   "source": [
    "### - Accediendo a todos los datos de varias columnas\n",
    "También puedes llamar a varias columnas usando la siguiente estructura `NombreDataframe[lista con nombre de las columnas]`\n",
    "Recuerda que las listas en Python se escriben, a su vez, entre corchetes `[]`."
   ]
  },
  {
   "cell_type": "code",
   "execution_count": 9,
   "metadata": {
    "colab": {
     "base_uri": "https://localhost:8080/",
     "height": 1000
    },
    "editable": true,
    "id": "85IzXUDC4Ati",
    "outputId": "c33ff641-cf36-44f1-d388-4705735fc157",
    "slideshow": {
     "slide_type": ""
    },
    "tags": []
   },
   "outputs": [
    {
     "data": {
      "text/html": [
       "<div>\n",
       "<style scoped>\n",
       "    .dataframe tbody tr th:only-of-type {\n",
       "        vertical-align: middle;\n",
       "    }\n",
       "\n",
       "    .dataframe tbody tr th {\n",
       "        vertical-align: top;\n",
       "    }\n",
       "\n",
       "    .dataframe thead th {\n",
       "        text-align: right;\n",
       "    }\n",
       "</style>\n",
       "<table border=\"1\" class=\"dataframe\">\n",
       "  <thead>\n",
       "    <tr style=\"text-align: right;\">\n",
       "      <th></th>\n",
       "      <th>Producto</th>\n",
       "      <th>Cantidad</th>\n",
       "    </tr>\n",
       "  </thead>\n",
       "  <tbody>\n",
       "    <tr>\n",
       "      <th>0</th>\n",
       "      <td>Xbox Series X</td>\n",
       "      <td>65</td>\n",
       "    </tr>\n",
       "    <tr>\n",
       "      <th>1</th>\n",
       "      <td>Teclado mecánico Razer BlackWidow</td>\n",
       "      <td>130</td>\n",
       "    </tr>\n",
       "    <tr>\n",
       "      <th>2</th>\n",
       "      <td>Monitor Gaming Asus 27\"</td>\n",
       "      <td>45</td>\n",
       "    </tr>\n",
       "    <tr>\n",
       "      <th>3</th>\n",
       "      <td>Robot aspirador Roomba 960</td>\n",
       "      <td>30</td>\n",
       "    </tr>\n",
       "    <tr>\n",
       "      <th>4</th>\n",
       "      <td>Kindle Paperwhite</td>\n",
       "      <td>150</td>\n",
       "    </tr>\n",
       "    <tr>\n",
       "      <th>5</th>\n",
       "      <td>Cámara de acción Insta360 One X2</td>\n",
       "      <td>80</td>\n",
       "    </tr>\n",
       "    <tr>\n",
       "      <th>6</th>\n",
       "      <td>Cafetera Nespresso Vertuo</td>\n",
       "      <td>80</td>\n",
       "    </tr>\n",
       "    <tr>\n",
       "      <th>7</th>\n",
       "      <td>Nintendo Switch</td>\n",
       "      <td>50</td>\n",
       "    </tr>\n",
       "    <tr>\n",
       "      <th>8</th>\n",
       "      <td>PlayStation 5</td>\n",
       "      <td>75</td>\n",
       "    </tr>\n",
       "    <tr>\n",
       "      <th>9</th>\n",
       "      <td>Reloj Inteligente Apple Watch Series 6</td>\n",
       "      <td>90</td>\n",
       "    </tr>\n",
       "    <tr>\n",
       "      <th>10</th>\n",
       "      <td>GoPro HERO9</td>\n",
       "      <td>100</td>\n",
       "    </tr>\n",
       "    <tr>\n",
       "      <th>11</th>\n",
       "      <td>AirPods Pro</td>\n",
       "      <td>120</td>\n",
       "    </tr>\n",
       "    <tr>\n",
       "      <th>12</th>\n",
       "      <td>Gafas de realidad virtual Oculus Quest 2</td>\n",
       "      <td>50</td>\n",
       "    </tr>\n",
       "    <tr>\n",
       "      <th>13</th>\n",
       "      <td>Garmin Fenix 6 Pro</td>\n",
       "      <td>55</td>\n",
       "    </tr>\n",
       "    <tr>\n",
       "      <th>14</th>\n",
       "      <td>Refrigerador Samsung Smart</td>\n",
       "      <td>25</td>\n",
       "    </tr>\n",
       "    <tr>\n",
       "      <th>15</th>\n",
       "      <td>Samsung Galaxy S21</td>\n",
       "      <td>80</td>\n",
       "    </tr>\n",
       "    <tr>\n",
       "      <th>16</th>\n",
       "      <td>Laptop Dell XPS 15</td>\n",
       "      <td>40</td>\n",
       "    </tr>\n",
       "    <tr>\n",
       "      <th>17</th>\n",
       "      <td>iPad Pro 12.9</td>\n",
       "      <td>60</td>\n",
       "    </tr>\n",
       "    <tr>\n",
       "      <th>18</th>\n",
       "      <td>Smartwatch Samsung Galaxy Watch 3</td>\n",
       "      <td>85</td>\n",
       "    </tr>\n",
       "    <tr>\n",
       "      <th>19</th>\n",
       "      <td>Mochila antirrobo XD Design</td>\n",
       "      <td>150</td>\n",
       "    </tr>\n",
       "    <tr>\n",
       "      <th>20</th>\n",
       "      <td>Auriculares Sony WH-1000XM4</td>\n",
       "      <td>100</td>\n",
       "    </tr>\n",
       "    <tr>\n",
       "      <th>21</th>\n",
       "      <td>Microondas inteligente Panasonic</td>\n",
       "      <td>50</td>\n",
       "    </tr>\n",
       "    <tr>\n",
       "      <th>22</th>\n",
       "      <td>Silla gaming DXRacer</td>\n",
       "      <td>60</td>\n",
       "    </tr>\n",
       "    <tr>\n",
       "      <th>23</th>\n",
       "      <td>Drone DJI Mavic Air 2</td>\n",
       "      <td>20</td>\n",
       "    </tr>\n",
       "    <tr>\n",
       "      <th>24</th>\n",
       "      <td>iPhone 13</td>\n",
       "      <td>100</td>\n",
       "    </tr>\n",
       "    <tr>\n",
       "      <th>25</th>\n",
       "      <td>Bose QuietComfort 35 II</td>\n",
       "      <td>70</td>\n",
       "    </tr>\n",
       "    <tr>\n",
       "      <th>26</th>\n",
       "      <td>Bicicleta eléctrica Xiaomi</td>\n",
       "      <td>35</td>\n",
       "    </tr>\n",
       "    <tr>\n",
       "      <th>27</th>\n",
       "      <td>Cámara Canon EOS Rebel T7</td>\n",
       "      <td>50</td>\n",
       "    </tr>\n",
       "    <tr>\n",
       "      <th>28</th>\n",
       "      <td>Smart TV LG OLED 55\"</td>\n",
       "      <td>40</td>\n",
       "    </tr>\n",
       "    <tr>\n",
       "      <th>29</th>\n",
       "      <td>Consola Retro Sega Genesis</td>\n",
       "      <td>110</td>\n",
       "    </tr>\n",
       "  </tbody>\n",
       "</table>\n",
       "</div>"
      ],
      "text/plain": [
       "                                    Producto  Cantidad\n",
       "0                              Xbox Series X        65\n",
       "1          Teclado mecánico Razer BlackWidow       130\n",
       "2                    Monitor Gaming Asus 27\"        45\n",
       "3                 Robot aspirador Roomba 960        30\n",
       "4                          Kindle Paperwhite       150\n",
       "5           Cámara de acción Insta360 One X2        80\n",
       "6                  Cafetera Nespresso Vertuo        80\n",
       "7                            Nintendo Switch        50\n",
       "8                              PlayStation 5        75\n",
       "9     Reloj Inteligente Apple Watch Series 6        90\n",
       "10                               GoPro HERO9       100\n",
       "11                               AirPods Pro       120\n",
       "12  Gafas de realidad virtual Oculus Quest 2        50\n",
       "13                        Garmin Fenix 6 Pro        55\n",
       "14                Refrigerador Samsung Smart        25\n",
       "15                        Samsung Galaxy S21        80\n",
       "16                        Laptop Dell XPS 15        40\n",
       "17                             iPad Pro 12.9        60\n",
       "18         Smartwatch Samsung Galaxy Watch 3        85\n",
       "19               Mochila antirrobo XD Design       150\n",
       "20               Auriculares Sony WH-1000XM4       100\n",
       "21          Microondas inteligente Panasonic        50\n",
       "22                      Silla gaming DXRacer        60\n",
       "23                     Drone DJI Mavic Air 2        20\n",
       "24                                 iPhone 13       100\n",
       "25                   Bose QuietComfort 35 II        70\n",
       "26                Bicicleta eléctrica Xiaomi        35\n",
       "27                 Cámara Canon EOS Rebel T7        50\n",
       "28                      Smart TV LG OLED 55\"        40\n",
       "29                Consola Retro Sega Genesis       110"
      ]
     },
     "execution_count": 9,
     "metadata": {},
     "output_type": "execute_result"
    }
   ],
   "source": [
    "df[[\"Producto\", \"Cantidad\"]] # Nótese los dobles corchetes\n"
   ]
  },
  {
   "cell_type": "markdown",
   "metadata": {
    "editable": true,
    "id": "NbXFIvAv5d5K",
    "slideshow": {
     "slide_type": ""
    },
    "tags": []
   },
   "source": [
    "### - Accediendo a los datos de una fila\n",
    "Puedes encontrar una filas usando `loc` y como argumento el indice. Si el indice es un texto, debes especificarlo como tal."
   ]
  },
  {
   "cell_type": "code",
   "execution_count": 10,
   "metadata": {
    "colab": {
     "base_uri": "https://localhost:8080/"
    },
    "editable": true,
    "id": "8mmtGMnG5gXe",
    "outputId": "650cb688-b5f1-46eb-f0d1-dc1614665b4e",
    "slideshow": {
     "slide_type": ""
    },
    "tags": []
   },
   "outputs": [
    {
     "data": {
      "text/plain": [
       "ID_Producto       SKU172\n",
       "Producto       iPhone 13\n",
       "Cantidad             100\n",
       "Precio            990000\n",
       "Name: 24, dtype: object"
      ]
     },
     "execution_count": 10,
     "metadata": {},
     "output_type": "execute_result"
    }
   ],
   "source": [
    "df.loc[24]\n"
   ]
  },
  {
   "cell_type": "markdown",
   "metadata": {
    "editable": true,
    "id": "3EuifAne6OJy",
    "slideshow": {
     "slide_type": ""
    },
    "tags": []
   },
   "source": [
    "### - Accediendo a los datos de varias filas contiguas\n",
    "Si quieres seleccionar un conjunto de filas `contiguas` unas a las otras puedas usar `ìloc`con esta estructura `NombreDataframe.iloc[filaN, filaN+1]`. "
   ]
  },
  {
   "cell_type": "code",
   "execution_count": 11,
   "metadata": {
    "colab": {
     "base_uri": "https://localhost:8080/",
     "height": 143
    },
    "editable": true,
    "id": "0NtjhdFR6RHx",
    "outputId": "ee133797-7f23-4426-d2fe-d841e3317340",
    "slideshow": {
     "slide_type": ""
    },
    "tags": []
   },
   "outputs": [
    {
     "data": {
      "text/html": [
       "<div>\n",
       "<style scoped>\n",
       "    .dataframe tbody tr th:only-of-type {\n",
       "        vertical-align: middle;\n",
       "    }\n",
       "\n",
       "    .dataframe tbody tr th {\n",
       "        vertical-align: top;\n",
       "    }\n",
       "\n",
       "    .dataframe thead th {\n",
       "        text-align: right;\n",
       "    }\n",
       "</style>\n",
       "<table border=\"1\" class=\"dataframe\">\n",
       "  <thead>\n",
       "    <tr style=\"text-align: right;\">\n",
       "      <th></th>\n",
       "      <th>ID_Producto</th>\n",
       "      <th>Producto</th>\n",
       "      <th>Cantidad</th>\n",
       "      <th>Precio</th>\n",
       "    </tr>\n",
       "  </thead>\n",
       "  <tbody>\n",
       "    <tr>\n",
       "      <th>4</th>\n",
       "      <td>SKU26</td>\n",
       "      <td>Kindle Paperwhite</td>\n",
       "      <td>150</td>\n",
       "      <td>200000</td>\n",
       "    </tr>\n",
       "    <tr>\n",
       "      <th>5</th>\n",
       "      <td>SKU39</td>\n",
       "      <td>Cámara de acción Insta360 One X2</td>\n",
       "      <td>80</td>\n",
       "      <td>380000</td>\n",
       "    </tr>\n",
       "    <tr>\n",
       "      <th>6</th>\n",
       "      <td>SKU44</td>\n",
       "      <td>Cafetera Nespresso Vertuo</td>\n",
       "      <td>80</td>\n",
       "      <td>150000</td>\n",
       "    </tr>\n",
       "    <tr>\n",
       "      <th>7</th>\n",
       "      <td>SKU48</td>\n",
       "      <td>Nintendo Switch</td>\n",
       "      <td>50</td>\n",
       "      <td>280000</td>\n",
       "    </tr>\n",
       "    <tr>\n",
       "      <th>8</th>\n",
       "      <td>SKU62</td>\n",
       "      <td>PlayStation 5</td>\n",
       "      <td>75</td>\n",
       "      <td>480000</td>\n",
       "    </tr>\n",
       "  </tbody>\n",
       "</table>\n",
       "</div>"
      ],
      "text/plain": [
       "  ID_Producto                          Producto  Cantidad  Precio\n",
       "4       SKU26                 Kindle Paperwhite       150  200000\n",
       "5       SKU39  Cámara de acción Insta360 One X2        80  380000\n",
       "6       SKU44         Cafetera Nespresso Vertuo        80  150000\n",
       "7       SKU48                   Nintendo Switch        50  280000\n",
       "8       SKU62                     PlayStation 5        75  480000"
      ]
     },
     "execution_count": 11,
     "metadata": {},
     "output_type": "execute_result"
    }
   ],
   "source": [
    "# Para acceder a los datos de las filas 4 a la 8\n",
    "df.iloc[4:9]\n"
   ]
  },
  {
   "cell_type": "markdown",
   "metadata": {
    "editable": true,
    "id": "iayCARfGBnHd",
    "slideshow": {
     "slide_type": ""
    },
    "tags": []
   },
   "source": [
    "### - Accediendo a los datos de varias filas alternas\n",
    "Si quieres acceder a filas especificas, puedes entregar como atributo `iloc` y parámetros los índices de filas."
   ]
  },
  {
   "cell_type": "code",
   "execution_count": 12,
   "metadata": {
    "colab": {
     "base_uri": "https://localhost:8080/",
     "height": 175
    },
    "editable": true,
    "id": "sCZRXzV3BmE-",
    "outputId": "d883a200-1254-489d-ce88-0eeab7b24506",
    "slideshow": {
     "slide_type": ""
    },
    "tags": []
   },
   "outputs": [
    {
     "data": {
      "text/html": [
       "<div>\n",
       "<style scoped>\n",
       "    .dataframe tbody tr th:only-of-type {\n",
       "        vertical-align: middle;\n",
       "    }\n",
       "\n",
       "    .dataframe tbody tr th {\n",
       "        vertical-align: top;\n",
       "    }\n",
       "\n",
       "    .dataframe thead th {\n",
       "        text-align: right;\n",
       "    }\n",
       "</style>\n",
       "<table border=\"1\" class=\"dataframe\">\n",
       "  <thead>\n",
       "    <tr style=\"text-align: right;\">\n",
       "      <th></th>\n",
       "      <th>ID_Producto</th>\n",
       "      <th>Producto</th>\n",
       "      <th>Cantidad</th>\n",
       "      <th>Precio</th>\n",
       "    </tr>\n",
       "  </thead>\n",
       "  <tbody>\n",
       "    <tr>\n",
       "      <th>0</th>\n",
       "      <td>SKU1</td>\n",
       "      <td>Xbox Series X</td>\n",
       "      <td>65</td>\n",
       "      <td>500000</td>\n",
       "    </tr>\n",
       "    <tr>\n",
       "      <th>4</th>\n",
       "      <td>SKU26</td>\n",
       "      <td>Kindle Paperwhite</td>\n",
       "      <td>150</td>\n",
       "      <td>200000</td>\n",
       "    </tr>\n",
       "    <tr>\n",
       "      <th>7</th>\n",
       "      <td>SKU48</td>\n",
       "      <td>Nintendo Switch</td>\n",
       "      <td>50</td>\n",
       "      <td>280000</td>\n",
       "    </tr>\n",
       "  </tbody>\n",
       "</table>\n",
       "</div>"
      ],
      "text/plain": [
       "  ID_Producto           Producto  Cantidad  Precio\n",
       "0        SKU1      Xbox Series X        65  500000\n",
       "4       SKU26  Kindle Paperwhite       150  200000\n",
       "7       SKU48    Nintendo Switch        50  280000"
      ]
     },
     "execution_count": 12,
     "metadata": {},
     "output_type": "execute_result"
    }
   ],
   "source": [
    "df.iloc[[0, 4, 7]]\n"
   ]
  },
  {
   "cell_type": "markdown",
   "metadata": {
    "editable": true,
    "id": "O7pyYGrqB0I8",
    "slideshow": {
     "slide_type": ""
    },
    "tags": []
   },
   "source": [
    "Si el `DataFrame` tiene índice expresamente indicado, también puedes entregarle una lista de indices en los parámetros de `loc`."
   ]
  },
  {
   "cell_type": "code",
   "execution_count": 16,
   "metadata": {
    "colab": {
     "base_uri": "https://localhost:8080/",
     "height": 143
    },
    "editable": true,
    "id": "xg8EwKSiB7Ok",
    "outputId": "4e94f1bf-d422-472d-b9f2-a6df66431f91",
    "slideshow": {
     "slide_type": ""
    },
    "tags": []
   },
   "outputs": [
    {
     "data": {
      "text/html": [
       "<div>\n",
       "<style scoped>\n",
       "    .dataframe tbody tr th:only-of-type {\n",
       "        vertical-align: middle;\n",
       "    }\n",
       "\n",
       "    .dataframe tbody tr th {\n",
       "        vertical-align: top;\n",
       "    }\n",
       "\n",
       "    .dataframe thead th {\n",
       "        text-align: right;\n",
       "    }\n",
       "</style>\n",
       "<table border=\"1\" class=\"dataframe\">\n",
       "  <thead>\n",
       "    <tr style=\"text-align: right;\">\n",
       "      <th></th>\n",
       "      <th>Producto</th>\n",
       "      <th>Cantidad</th>\n",
       "      <th>Precio</th>\n",
       "    </tr>\n",
       "    <tr>\n",
       "      <th>ID_Producto</th>\n",
       "      <th></th>\n",
       "      <th></th>\n",
       "      <th></th>\n",
       "    </tr>\n",
       "  </thead>\n",
       "  <tbody>\n",
       "    <tr>\n",
       "      <th>SKU97</th>\n",
       "      <td>GoPro HERO9</td>\n",
       "      <td>100</td>\n",
       "      <td>320000</td>\n",
       "    </tr>\n",
       "    <tr>\n",
       "      <th>SKU154</th>\n",
       "      <td>iPad Pro 12.9</td>\n",
       "      <td>60</td>\n",
       "      <td>1050000</td>\n",
       "    </tr>\n",
       "  </tbody>\n",
       "</table>\n",
       "</div>"
      ],
      "text/plain": [
       "                  Producto  Cantidad   Precio\n",
       "ID_Producto                                  \n",
       "SKU97          GoPro HERO9       100   320000\n",
       "SKU154       iPad Pro 12.9        60  1050000"
      ]
     },
     "execution_count": 16,
     "metadata": {},
     "output_type": "execute_result"
    }
   ],
   "source": [
    "df2 = df.set_index('ID_Producto')\n",
    "df2.loc[[\"SKU97\", \"SKU154\"]]"
   ]
  },
  {
   "cell_type": "markdown",
   "metadata": {
    "editable": true,
    "id": "VmgrEU-nCQYT",
    "slideshow": {
     "slide_type": ""
    },
    "tags": []
   },
   "source": [
    "### - Accediendo a un grupo especifico de filas y columnas\n",
    "Puedes especificar una lista de filas, seguido por una lista de columnas, y así obtener un conjunto muy especifico de datos"
   ]
  },
  {
   "cell_type": "code",
   "execution_count": 18,
   "metadata": {
    "colab": {
     "base_uri": "https://localhost:8080/",
     "height": 175
    },
    "editable": true,
    "id": "0db7rz9iCd7Q",
    "outputId": "530ce611-0ed6-4a25-d3f8-389b1c68e7d5",
    "slideshow": {
     "slide_type": ""
    },
    "tags": []
   },
   "outputs": [
    {
     "data": {
      "text/html": [
       "<div>\n",
       "<style scoped>\n",
       "    .dataframe tbody tr th:only-of-type {\n",
       "        vertical-align: middle;\n",
       "    }\n",
       "\n",
       "    .dataframe tbody tr th {\n",
       "        vertical-align: top;\n",
       "    }\n",
       "\n",
       "    .dataframe thead th {\n",
       "        text-align: right;\n",
       "    }\n",
       "</style>\n",
       "<table border=\"1\" class=\"dataframe\">\n",
       "  <thead>\n",
       "    <tr style=\"text-align: right;\">\n",
       "      <th></th>\n",
       "      <th>Producto</th>\n",
       "      <th>Precio</th>\n",
       "    </tr>\n",
       "  </thead>\n",
       "  <tbody>\n",
       "    <tr>\n",
       "      <th>0</th>\n",
       "      <td>Xbox Series X</td>\n",
       "      <td>500000</td>\n",
       "    </tr>\n",
       "    <tr>\n",
       "      <th>4</th>\n",
       "      <td>Kindle Paperwhite</td>\n",
       "      <td>200000</td>\n",
       "    </tr>\n",
       "    <tr>\n",
       "      <th>7</th>\n",
       "      <td>Nintendo Switch</td>\n",
       "      <td>280000</td>\n",
       "    </tr>\n",
       "  </tbody>\n",
       "</table>\n",
       "</div>"
      ],
      "text/plain": [
       "            Producto  Precio\n",
       "0      Xbox Series X  500000\n",
       "4  Kindle Paperwhite  200000\n",
       "7    Nintendo Switch  280000"
      ]
     },
     "execution_count": 18,
     "metadata": {},
     "output_type": "execute_result"
    }
   ],
   "source": [
    "# Para obtener los datos de las filas con índices: 0, 4 y 7, y solo las columnas: Producto [1] y Precio [3]\n",
    "df.iloc[[0, 4, 7], [1, 3]]\n"
   ]
  },
  {
   "cell_type": "raw",
   "metadata": {
    "editable": true,
    "id": "kV2AoVkhLd5k",
    "slideshow": {
     "slide_type": ""
    },
    "tags": []
   },
   "source": [
    "Otra forma alternativa es llamando a las columnas por su nombre, y usar una estructura como esta:"
   ]
  },
  {
   "cell_type": "code",
   "execution_count": 19,
   "metadata": {
    "colab": {
     "base_uri": "https://localhost:8080/",
     "height": 175
    },
    "editable": true,
    "id": "sSC2TGA-LUsj",
    "outputId": "0af93d6c-e0a5-4934-b5ef-6052f35f4dbe",
    "slideshow": {
     "slide_type": ""
    },
    "tags": []
   },
   "outputs": [
    {
     "data": {
      "text/html": [
       "<div>\n",
       "<style scoped>\n",
       "    .dataframe tbody tr th:only-of-type {\n",
       "        vertical-align: middle;\n",
       "    }\n",
       "\n",
       "    .dataframe tbody tr th {\n",
       "        vertical-align: top;\n",
       "    }\n",
       "\n",
       "    .dataframe thead th {\n",
       "        text-align: right;\n",
       "    }\n",
       "</style>\n",
       "<table border=\"1\" class=\"dataframe\">\n",
       "  <thead>\n",
       "    <tr style=\"text-align: right;\">\n",
       "      <th></th>\n",
       "      <th>Producto</th>\n",
       "      <th>Precio</th>\n",
       "    </tr>\n",
       "  </thead>\n",
       "  <tbody>\n",
       "    <tr>\n",
       "      <th>0</th>\n",
       "      <td>Xbox Series X</td>\n",
       "      <td>500000</td>\n",
       "    </tr>\n",
       "    <tr>\n",
       "      <th>4</th>\n",
       "      <td>Kindle Paperwhite</td>\n",
       "      <td>200000</td>\n",
       "    </tr>\n",
       "    <tr>\n",
       "      <th>7</th>\n",
       "      <td>Nintendo Switch</td>\n",
       "      <td>280000</td>\n",
       "    </tr>\n",
       "  </tbody>\n",
       "</table>\n",
       "</div>"
      ],
      "text/plain": [
       "            Producto  Precio\n",
       "0      Xbox Series X  500000\n",
       "4  Kindle Paperwhite  200000\n",
       "7    Nintendo Switch  280000"
      ]
     },
     "execution_count": 19,
     "metadata": {},
     "output_type": "execute_result"
    }
   ],
   "source": [
    "df[[\"Producto\", \"Precio\"]].iloc[[0, 4, 7]]\n"
   ]
  },
  {
   "cell_type": "markdown",
   "metadata": {
    "editable": true,
    "id": "8ea3osO6_xU5",
    "slideshow": {
     "slide_type": ""
    },
    "tags": []
   },
   "source": [
    "**Nota:**\n",
    "\n",
    "**¿Qué es el Slicing?**\n",
    "\n",
    "Si te encuentras por primera vez con algo como `4:9`, esto se llama `slicing`. No es exclusivo de Pandas, sino que es una característica común de Python.\n",
    "\n",
    "**¿Cómo Funciona el Slicing?**\n",
    "\n",
    "> El slicing permite obtener una **parte de una lista o colección**. Se utiliza una estructura de `inicio:fin`, donde:\n",
    "\n",
    "* Inicio: es el índice donde comienza la selección.\n",
    "* Fin:  es el índice donde termina la selección (¡este índice no se incluye en el resultado!).\n",
    "\n",
    "**Detalles Importantes**\n",
    "\n",
    "* Inicio vacío: Si no especificas un valor `antes` de los dos puntos, significa que comienzas desde el primer índice (índice 0). Por ejemplo:[ :6]\n",
    "\n",
    "* Fin vacío: Si no pones un valor `después` de los dos puntos, significa que seleccionas hasta el último índice disponible. Por ejemplo: [3, ]\n",
    "\n",
    "* También puedes usar índices negativos para contar desde el final de la lista hacia el principio. Por ejemplo: [-3: ]\n",
    "\n",
    "Ejemplos de Slicing:\n",
    "\n",
    "[0:2] Selecciona desde la posición 0 hasta la posición 2, excluyendo 2.\n",
    "[2:5] Selecciona desde la posición 2 hasta la posición 5, excluyendo 5.\n",
    "[-2: ] Selecciona desde la segunda posición contando desde el final hasta el final de la lista.\n",
    "[2: ] Selecciona desde la posición 2 hasta el final de la lista."
   ]
  }
 ],
 "metadata": {
  "colab": {
   "provenance": []
  },
  "kernelspec": {
   "display_name": "Python 3 (ipykernel)",
   "language": "python",
   "name": "python3"
  },
  "language_info": {
   "codemirror_mode": {
    "name": "ipython",
    "version": 3
   },
   "file_extension": ".py",
   "mimetype": "text/x-python",
   "name": "python",
   "nbconvert_exporter": "python",
   "pygments_lexer": "ipython3",
   "version": "3.12.8"
  },
  "toc": {
   "base_numbering": 0
  }
 },
 "nbformat": 4,
 "nbformat_minor": 4
}
