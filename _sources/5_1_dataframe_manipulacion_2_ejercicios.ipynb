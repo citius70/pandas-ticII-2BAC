{
 "cells": [
  {
   "cell_type": "markdown",
   "id": "2415dfcd-fd6e-4107-ab79-95cfa74ffb8b",
   "metadata": {},
   "source": [
    "# 📑 Ejercicios sobre **manipulación de datos** en Pandas (Parte 2)"
   ]
  },
  {
   "cell_type": "markdown",
   "id": "965b859c-50de-4977-acca-8ab731544073",
   "metadata": {},
   "source": [
    "## Análisis de datos de producción industrial"
   ]
  },
  {
   "cell_type": "markdown",
   "id": "110f8149-2ed5-465a-8fd1-6118e89e715f",
   "metadata": {},
   "source": [
    "Este notebook contiene ejercicios prácticos sobre manipulación de `DataFrames` con `pandas`, aplicados a datos de una fábrica que tiene **cinco máquinas** trabajando en **turnos de mañana, tarde y noche** durante una **semana**."
   ]
  },
  {
   "cell_type": "markdown",
   "id": "ee0aa080-58e0-450c-b813-f3c381418687",
   "metadata": {},
   "source": [
    "```{figure} ../pandas_tic_2/imagenes/empresa.png\n",
    "---\n",
    "name: dataframe\n",
    "width: 50%\n",
    "---\n",
    "Fábrica con tornos"
   ]
  },
  {
   "cell_type": "markdown",
   "id": "49f366d1-1e40-4cfc-b1c9-5ab942748bcc",
   "metadata": {},
   "source": [
    "El archivo .csv se encuentra en Google Drive con el link:\n",
    "\n",
    "https://drive.google.com/uc?export=download&id=1HbZ6KvPgjnGGwi74lkHUr8bwyHd_v_42\n"
   ]
  },
  {
   "cell_type": "markdown",
   "id": "3c471aa4-d865-4a07-aadd-83ba5c36c56d",
   "metadata": {},
   "source": [
    "## Actividades"
   ]
  },
  {
   "cell_type": "code",
   "execution_count": 1,
   "id": "79d32112-dcc4-405f-9a00-a828fc63e565",
   "metadata": {},
   "outputs": [],
   "source": [
    "# 1. Importa la librería Pandas\n",
    "\n"
   ]
  },
  {
   "cell_type": "code",
   "execution_count": 2,
   "id": "19adb0ad-658f-4d20-8243-d8abf58ec107",
   "metadata": {},
   "outputs": [],
   "source": [
    "# 2. Crea el Dataframe (df) a partir del archivo que se encuentra en:https://drive.google.com/uc?export=download&id=1HbZ6KvPgjnGGwi74lkHUr8bwyHd_v_42\n",
    "\n",
    "\n",
    "\n",
    "# 3. Visualiza el DataFrame\n",
    "\n"
   ]
  },
  {
   "cell_type": "markdown",
   "id": "7f1857dd-7a9d-4f4d-ad72-1f7532808c58",
   "metadata": {},
   "source": [
    "## 🔍 Ejercicio 1: Filtrado simple"
   ]
  },
  {
   "cell_type": "markdown",
   "id": "f653076b-cecf-4351-b9dc-4e51272d26a1",
   "metadata": {},
   "source": [
    "Filtra las filas que cumplan que la producción de piezas sea mayor a 185"
   ]
  },
  {
   "cell_type": "code",
   "execution_count": 3,
   "id": "7a0d6284",
   "metadata": {},
   "outputs": [],
   "source": [
    "# Ejercicio 1\n",
    "\n"
   ]
  },
  {
   "cell_type": "markdown",
   "id": "fba5c5d9",
   "metadata": {},
   "source": [
    "## 🔍 Ejercicio 2: Filtrado simple"
   ]
  },
  {
   "cell_type": "markdown",
   "id": "24d4802b-deab-4223-a707-dc166bad4ec8",
   "metadata": {},
   "source": [
    "Filtra las filas que **sí** han tenido **averías**."
   ]
  },
  {
   "cell_type": "code",
   "execution_count": 4,
   "id": "acfa9411-e456-445d-bf9f-5c4044261657",
   "metadata": {},
   "outputs": [],
   "source": [
    "# Ejercicio 2\n",
    "\n"
   ]
  },
  {
   "cell_type": "markdown",
   "id": "3b0966f9-8ce6-4da1-904d-2e82bbefa41b",
   "metadata": {},
   "source": [
    "## 🔍 Ejercicio 3: Filtrado compuesto con AND &"
   ]
  },
  {
   "cell_type": "markdown",
   "id": "435e959d-89a1-4f8e-8782-d1db291254e0",
   "metadata": {},
   "source": [
    "Filtra las filas del **turno de noche** y que hayan estado **paradas más de 1 hora**."
   ]
  },
  {
   "cell_type": "code",
   "execution_count": 5,
   "id": "22f7db0f",
   "metadata": {},
   "outputs": [],
   "source": [
    "# Ejercicio 3\n",
    "\n"
   ]
  },
  {
   "cell_type": "markdown",
   "id": "784ac552",
   "metadata": {},
   "source": [
    "## 🔍 Ejercicio 4: Filtrado compuesto con OR |"
   ]
  },
  {
   "cell_type": "markdown",
   "id": "d45b3172-c536-4e56-927b-2b3b9adf6f8d",
   "metadata": {},
   "source": [
    "Filtra las filas que hayan **producido menos de 60 piezas** o que hayan estado **paradas exactamente 1.4 horas**.\n",
    "\n",
    "Además **crea otro DataFrame con estos resultados**. Llama a este DataFrame `df_filtrado`."
   ]
  },
  {
   "cell_type": "code",
   "execution_count": 6,
   "id": "0d5cd4b4-2184-48d7-932f-5d3b7aee418c",
   "metadata": {},
   "outputs": [],
   "source": [
    "# Ejercicio 4\n",
    "\n",
    "\n"
   ]
  },
  {
   "cell_type": "markdown",
   "id": "1f91a4be-a9a2-406b-bb85-cad841cd5ab0",
   "metadata": {},
   "source": [
    "## 🔍 Ejercicio 5: Máquinas con más horas paradas"
   ]
  },
  {
   "cell_type": "markdown",
   "id": "698fd303-6189-40d4-aa4f-ab699e675c21",
   "metadata": {},
   "source": [
    "Utilizando `sort_values` haz un listado de las **10 máquinas con más horas paradas**.\n",
    "\n",
    "Aprovecha para crear un nuevo Dataframe con esta lista. Llámalo `df_parada`."
   ]
  },
  {
   "cell_type": "code",
   "execution_count": 7,
   "id": "a897f141-65f4-46a9-a83c-fdc065a6b72a",
   "metadata": {},
   "outputs": [],
   "source": [
    "# Ejercicio 5\n",
    "\n",
    "\n"
   ]
  },
  {
   "cell_type": "markdown",
   "id": "f55445a3-51fa-4dc6-b044-92be1882f035",
   "metadata": {},
   "source": [
    "## 🔍 Ejercicio 6: Búsqueda de datos faltantes (NaN)"
   ]
  },
  {
   "cell_type": "markdown",
   "id": "96506e22-d932-44fe-9058-bb0c0fd12e57",
   "metadata": {},
   "source": [
    "Identifica las **columnas en la que faltan datos**. Verás que faltan cinco datos en \"Producción\""
   ]
  },
  {
   "cell_type": "code",
   "execution_count": 8,
   "id": "aa066edb-8644-4a5d-b36d-ce60c56cf68f",
   "metadata": {},
   "outputs": [],
   "source": [
    "# Ejercicio 6\n",
    "\n"
   ]
  },
  {
   "cell_type": "markdown",
   "id": "4e026241-aa7e-4868-9280-5f241daf6bed",
   "metadata": {},
   "source": [
    "## 🔍 Ejercicio 7: Llenar los datos faltantes"
   ]
  },
  {
   "cell_type": "markdown",
   "id": "b98541a0-4f6e-4b4f-8d26-c27dc699bd02",
   "metadata": {},
   "source": [
    "Como has observado faltan cinco datos en la columna \"Produccion\". Una buena solución es completarlos con la **media aritmética** (promedio) de esa columna.  Aprovecha para crear un DataFrame con todos los datos completos y llámalo `df_completo`. Los pasos son:\n",
    "\n",
    "1. Pandas debe calcular la media de la columna \"Produccion\" y almacenarlo en una variable.\n",
    "   ```python\n",
    "   media_produc = df[\"Produccion\"].mean()\n",
    "   ```\n",
    "2. Vamos a visualizar la media.\n",
    "   ```python\n",
    "   media_produc\n",
    "   ```      \n",
    "3. Con lo explicado ya debes saber terminar el ejercicio.\n",
    "4. Recuerda visualizar todos los datos (por ejemplo, con head(50)) para comprobar que se ha completado los datos.\n"
   ]
  },
  {
   "cell_type": "code",
   "execution_count": 9,
   "id": "e7075da1-352c-42da-9c05-63c68755d190",
   "metadata": {},
   "outputs": [],
   "source": [
    "# Ejercicio 7. Pasos 1 y 2\n",
    "\n",
    "\n"
   ]
  },
  {
   "cell_type": "code",
   "execution_count": 10,
   "id": "21cf4730-199c-4ad9-9074-f5107bf75dda",
   "metadata": {},
   "outputs": [],
   "source": [
    "# Ejercicio 7. Pasos 3 y 4\n",
    "\n",
    "\n"
   ]
  },
  {
   "cell_type": "markdown",
   "id": "aeb521a2-2405-459a-9081-671f95458611",
   "metadata": {},
   "source": [
    "## 🔍 Ejercicio 8: Crear nueva columna"
   ]
  },
  {
   "cell_type": "markdown",
   "id": "53dea665-3572-4d19-8052-68fc720837f0",
   "metadata": {},
   "source": [
    "Sabemos que cada hora que pasa una **máquina parada le cuesta a la empresa 150 €**. **Crea una columna nueva llamada \"Pérdidas\"** (mejor sin tildes) que calcule automáticamente estos valores.\n",
    "\n",
    "No olvides visualizar el Dataframe."
   ]
  },
  {
   "cell_type": "code",
   "execution_count": 11,
   "id": "fc7ccf6c-5572-4a1b-ac94-c15bd74e380d",
   "metadata": {},
   "outputs": [],
   "source": [
    "# Ejercicio 8\n",
    "\n"
   ]
  }
 ],
 "metadata": {
  "kernelspec": {
   "display_name": "Python 3 (ipykernel)",
   "language": "python",
   "name": "python3"
  },
  "language_info": {
   "codemirror_mode": {
    "name": "ipython",
    "version": 3
   },
   "file_extension": ".py",
   "mimetype": "text/x-python",
   "name": "python",
   "nbconvert_exporter": "python",
   "pygments_lexer": "ipython3",
   "version": "3.12.8"
  }
 },
 "nbformat": 4,
 "nbformat_minor": 5
}
