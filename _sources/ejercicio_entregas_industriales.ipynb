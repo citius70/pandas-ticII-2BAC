{
 "cells": [
  {
   "cell_type": "markdown",
   "id": "2b341a2b",
   "metadata": {},
   "source": [
    "# 🧪 Ejercicio: Análisis de entregas industriales"
   ]
  },
  {
   "cell_type": "markdown",
   "id": "7671ebe6",
   "metadata": {},
   "source": [
    "### 📁 Carga de datos\n",
    "Carga el archivo CSV en un DataFrame:"
   ]
  },
  {
   "cell_type": "code",
   "execution_count": 19,
   "id": "3a007106",
   "metadata": {},
   "outputs": [
    {
     "name": "stdout",
     "output_type": "stream",
     "text": [
      "   ID_Entrega    Destino  Peso_kg  Volumen_m3  Dias_Entrega  Costo_Envio  \\\n",
      "0     ENT0001   Zaragoza    39.11       0.673             9       469.17   \n",
      "1     ENT0002  Barcelona    10.87       1.795             3       161.57   \n",
      "2     ENT0003     Málaga    47.09       0.093             6        48.55   \n",
      "3     ENT0004  Barcelona    32.38       1.685            14       283.95   \n",
      "4     ENT0005  Barcelona    25.12       0.630             4       417.33   \n",
      "5     ENT0006  Barcelona    29.69       0.677             4       466.50   \n",
      "6     ENT0007   Valencia     5.18       0.072            10       490.31   \n",
      "7     ENT0008  Barcelona    31.36       0.721            14        92.15   \n",
      "8     ENT0009     Bilbao    38.58       0.299             4       102.80   \n",
      "9     ENT0010   Zaragoza    37.11       1.042            13        12.14   \n",
      "10    ENT0011   A Coruña     1.04       0.460             4       411.41   \n",
      "11    ENT0012     Madrid    42.53       1.016             6       278.07   \n",
      "12    ENT0013    Sevilla    16.69       0.528             6       273.98   \n",
      "13    ENT0014   Valencia    20.43       0.928             1       476.57   \n",
      "14    ENT0015   Valencia     1.22       1.430            14       270.88   \n",
      "15    ENT0016    Sevilla    21.99       0.734             5       409.71   \n",
      "16    ENT0017     Málaga    10.00       0.535             3       142.54   \n",
      "17    ENT0018     Madrid    29.98       0.707             2       385.89   \n",
      "18    ENT0019   Valencia    21.59       1.101            10       372.46   \n",
      "19    ENT0020  Barcelona    26.86       1.328             9       293.27   \n",
      "\n",
      "                         Cliente   Medio Estado_Entrega  \\\n",
      "0         Tran, Summers and Cook  Camión      Retrasado   \n",
      "1                Sheppard-Rivera  Camión       Tránsito   \n",
      "2                Velasquez Group    Tren      Retrasado   \n",
      "3      Stark, Torres and Hampton    Tren      Entregado   \n",
      "4                    Nash-Garcia   Avión      Entregado   \n",
      "5              Chapman-Henderson   Avión       Tránsito   \n",
      "6   Jackson, Sanders and Jackson  Camión      Entregado   \n",
      "7                Guerra-Whitaker    Tren       Tránsito   \n",
      "8                   Hall-Russell   Avión      Retrasado   \n",
      "9            Cunningham and Sons   Avión      Entregado   \n",
      "10                Brown and Sons   Avión      Cancelado   \n",
      "11               Stewart-Pollard   Avión      Cancelado   \n",
      "12        Wood, Graham and Marsh   Avión      Retrasado   \n",
      "13        Keller, Kemp and Scott   Avión       Tránsito   \n",
      "14     Stone, Riley and Mckenzie   Avión      Entregado   \n",
      "15                Smith and Sons   Barco      Retrasado   \n",
      "16                    Flores Inc  Camión      Entregado   \n",
      "17  Castaneda, Santos and Butler    Tren      Retrasado   \n",
      "18       Chavez, Hill and Hester  Camión      Retrasado   \n",
      "19                  Blake-Nguyen    Tren      Entregado   \n",
      "\n",
      "                 Fecha_Entrega  \n",
      "0                         None  \n",
      "1                         None  \n",
      "2   2025-04-11T20:07:55.202831  \n",
      "3                         None  \n",
      "4   2025-04-16T20:07:55.202831  \n",
      "5   2025-04-04T20:07:55.202831  \n",
      "6                         None  \n",
      "7                         None  \n",
      "8                         None  \n",
      "9   2025-04-18T20:07:55.202831  \n",
      "10                        None  \n",
      "11                        None  \n",
      "12  2025-04-02T20:07:55.202831  \n",
      "13                        None  \n",
      "14                        None  \n",
      "15  2025-04-18T20:07:55.202831  \n",
      "16                        None  \n",
      "17                        None  \n",
      "18                        None  \n",
      "19  2025-04-12T20:07:55.202831  \n"
     ]
    }
   ],
   "source": [
    "import pandas as pd\n",
    "import numpy as np\n",
    "import random\n",
    "from faker import Faker\n",
    "from datetime import datetime, timedelta\n",
    "\n",
    "# Instanciar Faker\n",
    "faker = Faker()\n",
    "\n",
    "# Definir las listas de posibles valores\n",
    "ciudades = ['Madrid', 'Barcelona', 'Valencia', 'Sevilla', 'Zaragoza', 'Bilbao', 'Málaga', 'A Coruña']\n",
    "transportes = ['Camión', 'Avión', 'Tren', 'Barco']\n",
    "estados = ['Entregado', 'Tránsito', 'Retrasado', 'Cancelado']\n",
    "\n",
    "n = 100\n",
    "\n",
    "# Función para generar fechas de entrega\n",
    "def generar_fecha_entrega(estado, n):\n",
    "    return [\n",
    "        (datetime.today() - timedelta(days=np.random.randint(0, 30))).isoformat() if estado == 'Entregado' else None\n",
    "        for estado in np.random.choice(estados, n)\n",
    "    ]\n",
    "\n",
    "# Crear el diccionario de datos\n",
    "data = {\n",
    "    'ID_Entrega': [f'ENT{str(i).zfill(4)}' for i in range(1, n + 1)],\n",
    "    'Destino': [random.choice(ciudades) for _ in range(n)],\n",
    "    'Peso_kg': np.round(np.random.uniform(0.5, 50.0, n), 2),\n",
    "    'Volumen_m3': np.round(np.random.uniform(0.01, 2.0, n), 3),\n",
    "    'Dias_Entrega': np.random.randint(1, 15, n),\n",
    "    'Costo_Envio': np.round(np.random.uniform(10.0, 500.0, n), 2),\n",
    "    'Cliente': [faker.company() for _ in range(n)],\n",
    "    'Medio': [random.choice(transportes) for _ in range(n)],\n",
    "    'Estado_Entrega': [random.choice(estados) for _ in range(n)],\n",
    "    'Fecha_Entrega': generar_fecha_entrega(estados, n)\n",
    "}\n",
    "\n",
    "# Crear el DataFrame\n",
    "df = pd.DataFrame(data)\n",
    "\n",
    "# Mostrar las primeras filas del DataFrame\n",
    "print(df.head(20))\n"
   ]
  },
  {
   "cell_type": "markdown",
   "id": "0fabd234",
   "metadata": {},
   "source": [
    "### 1. **Vista general**\n",
    "- Muestra las primeras 5 y las últimas 5 filas.\n",
    "- ¿Cuántas filas y columnas tiene el DataFrame?"
   ]
  },
  {
   "cell_type": "code",
   "execution_count": null,
   "id": "68b5c0ed",
   "metadata": {},
   "outputs": [],
   "source": [
    "df.head()\n",
    "df.tail()\n",
    "df.shape"
   ]
  },
  {
   "cell_type": "markdown",
   "id": "35ef30f6",
   "metadata": {},
   "source": [
    "### 2. **Resumen estadístico**\n",
    "- Usa `describe()` para obtener un resumen de los valores numéricos.\n",
    "- ¿Cuál es la media de las unidades entregadas?"
   ]
  },
  {
   "cell_type": "code",
   "execution_count": null,
   "id": "dce89662",
   "metadata": {},
   "outputs": [],
   "source": [
    "df.describe()\n",
    "df['Unidades Entregadas'].mean()"
   ]
  },
  {
   "cell_type": "markdown",
   "id": "dbf99aa1",
   "metadata": {},
   "source": [
    "### 3. **Totales y máximos/mínimos**\n",
    "- ¿Cuántas unidades se han entregado en total?\n",
    "- ¿Cuál es el coste total más alto?\n",
    "- ¿Y el más bajo?"
   ]
  },
  {
   "cell_type": "code",
   "execution_count": null,
   "id": "c39115ee",
   "metadata": {},
   "outputs": [],
   "source": [
    "df['Unidades Entregadas'].sum()\n",
    "df['Coste Total (€)'].max()\n",
    "df['Coste Total (€)'].min()"
   ]
  },
  {
   "cell_type": "markdown",
   "id": "15fc0bc4",
   "metadata": {},
   "source": [
    "### 4. **Análisis por producto**\n",
    "- ¿Cuál es el producto más entregado en total?\n",
    "- ¿Qué producto tiene el mayor coste total acumulado?"
   ]
  },
  {
   "cell_type": "code",
   "execution_count": null,
   "id": "7e6fdf1e",
   "metadata": {},
   "outputs": [],
   "source": [
    "df.groupby('Producto')['Unidades Entregadas'].sum().sort_values(ascending=False)\n",
    "df.groupby('Producto')['Coste Total (€)'].sum().sort_values(ascending=False)"
   ]
  },
  {
   "cell_type": "markdown",
   "id": "f241385c",
   "metadata": {},
   "source": [
    "### 5. **Frecuencias**\n",
    "- ¿Cuántas veces aparece cada cliente?\n",
    "- ¿Cuál es la zona más frecuente?"
   ]
  },
  {
   "cell_type": "code",
   "execution_count": null,
   "id": "a40b00ef",
   "metadata": {},
   "outputs": [],
   "source": [
    "df['Cliente'].value_counts()\n",
    "df['Zona'].value_counts()"
   ]
  },
  {
   "cell_type": "markdown",
   "id": "7b5f96f1",
   "metadata": {},
   "source": [
    "### 6. **Índices extremos**\n",
    "- Muestra la fila con el coste total más alto y la fila con el más bajo."
   ]
  },
  {
   "cell_type": "code",
   "execution_count": null,
   "id": "6ef9c75b",
   "metadata": {},
   "outputs": [],
   "source": [
    "df.loc[df['Coste Total (€)'].idxmax()]\n",
    "df.loc[df['Coste Total (€)'].idxmin()]"
   ]
  }
 ],
 "metadata": {
  "kernelspec": {
   "display_name": "Python 3 (ipykernel)",
   "language": "python",
   "name": "python3"
  },
  "language_info": {
   "codemirror_mode": {
    "name": "ipython",
    "version": 3
   },
   "file_extension": ".py",
   "mimetype": "text/x-python",
   "name": "python",
   "nbconvert_exporter": "python",
   "pygments_lexer": "ipython3",
   "version": "3.12.8"
  }
 },
 "nbformat": 4,
 "nbformat_minor": 5
}
