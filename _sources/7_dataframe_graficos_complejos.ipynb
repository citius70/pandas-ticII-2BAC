{
 "cells": [
  {
   "cell_type": "markdown",
   "id": "30bc9337-22f4-4384-a886-1974d8212bd0",
   "metadata": {},
   "source": [
    "# 7. Visualizacion de datos en Pandas: Otros gráficos"
   ]
  },
  {
   "cell_type": "markdown",
   "id": "8bad5143-3838-40ef-ac7f-f256a76b1ee1",
   "metadata": {},
   "source": [
    "En el capítulo anterior vimos como podemos representar los datos de un DataFrame de forma gráfica. En este estudiaremos la forma de generar **tres gráficos** muy utilizados en anáisis de datos como son:\n",
    "\n",
    "* Gráfico de dispersión (Scatter plot)\n",
    "* Diagrama de caja (Boxplot)\n",
    "* Histograma\n",
    "\n",
    "```{figure} ../pandas_tic_2/imagenes/plot_overview.svg\n",
    "---\n",
    "name: dataframe\n",
    "width: 70%\n",
    "---\n",
    "Gráficos con Pandas"
   ]
  },
  {
   "cell_type": "markdown",
   "id": "f25b79f1-22ce-40bc-afe4-a98c2dffbd0e",
   "metadata": {},
   "source": [
    "## 7.1. Escenario"
   ]
  },
  {
   "cell_type": "markdown",
   "id": "98171107-aca5-49e7-bea7-5c6b2cb46b0e",
   "metadata": {},
   "source": [
    "Imagina que trabajas como **ingeniero/a de calidad** en una fábrica. **Cada día**, la fábrica registra **cuántas piezas** ha producido y cuántas de esas piezas han tenido **defectos**.\n",
    "\n",
    "Tu tarea es analizar los datos de **30 días** para ayudar a detectar:\n",
    "- Posibles días con problemas de calidad.\n",
    "- Relación entre producción y defectos.\n",
    "- Comportamientos anómalos o tendencias.\n",
    "\n",
    "Usaremos **solo `pandas`** para cargar los datos y crear gráficos básicos: scatter plot, boxplot e histograma."
   ]
  },
  {
   "cell_type": "code",
   "execution_count": 1,
   "id": "f87cfc34",
   "metadata": {},
   "outputs": [
    {
     "data": {
      "text/html": [
       "<div>\n",
       "<style scoped>\n",
       "    .dataframe tbody tr th:only-of-type {\n",
       "        vertical-align: middle;\n",
       "    }\n",
       "\n",
       "    .dataframe tbody tr th {\n",
       "        vertical-align: top;\n",
       "    }\n",
       "\n",
       "    .dataframe thead th {\n",
       "        text-align: right;\n",
       "    }\n",
       "</style>\n",
       "<table border=\"1\" class=\"dataframe\">\n",
       "  <thead>\n",
       "    <tr style=\"text-align: right;\">\n",
       "      <th></th>\n",
       "      <th>Dia</th>\n",
       "      <th>Piezas_producidas</th>\n",
       "      <th>Defectos</th>\n",
       "    </tr>\n",
       "  </thead>\n",
       "  <tbody>\n",
       "    <tr>\n",
       "      <th>0</th>\n",
       "      <td>D1</td>\n",
       "      <td>1001</td>\n",
       "      <td>1</td>\n",
       "    </tr>\n",
       "    <tr>\n",
       "      <th>1</th>\n",
       "      <td>D2</td>\n",
       "      <td>964</td>\n",
       "      <td>1</td>\n",
       "    </tr>\n",
       "    <tr>\n",
       "      <th>2</th>\n",
       "      <td>D3</td>\n",
       "      <td>950</td>\n",
       "      <td>1</td>\n",
       "    </tr>\n",
       "    <tr>\n",
       "      <th>3</th>\n",
       "      <td>D4</td>\n",
       "      <td>1010</td>\n",
       "      <td>3</td>\n",
       "    </tr>\n",
       "    <tr>\n",
       "      <th>4</th>\n",
       "      <td>D5</td>\n",
       "      <td>970</td>\n",
       "      <td>2</td>\n",
       "    </tr>\n",
       "  </tbody>\n",
       "</table>\n",
       "</div>"
      ],
      "text/plain": [
       "  Dia  Piezas_producidas  Defectos\n",
       "0  D1               1001         1\n",
       "1  D2                964         1\n",
       "2  D3                950         1\n",
       "3  D4               1010         3\n",
       "4  D5                970         2"
      ]
     },
     "execution_count": 1,
     "metadata": {},
     "output_type": "execute_result"
    }
   ],
   "source": [
    "import pandas as pd\n",
    "\n",
    "# Datos de producción de la fábrica durante 30 días recopilados en un diccionario denominado \"data\"\n",
    "\n",
    "data = pd.read_csv(\"datasets/calidad.csv\")\n",
    "\n",
    "\n",
    "# Creamos el DataFrame \"df\"\n",
    "df = pd.DataFrame(data)\n",
    "\n",
    "# Visualizamos los cinco primeros datos\n",
    "df.head(5)"
   ]
  },
  {
   "cell_type": "markdown",
   "id": "64babc92-a4fd-438a-b3cf-7db1b9f4ab3f",
   "metadata": {},
   "source": [
    "### - Gráfico de dispersión (scatter plot)"
   ]
  },
  {
   "cell_type": "markdown",
   "id": "07a3ea1f-543d-40f4-ae36-538b89da80e7",
   "metadata": {},
   "source": [
    "```{figure} imagenes/scatter1.png\n",
    "---\n",
    "figclass: margin\n",
    "name: dataframe\n",
    "---\n",
    "Gráfico de dispersión\n",
    "```"
   ]
  },
  {
   "cell_type": "markdown",
   "id": "18c6a923-4911-4a45-ad87-15b35aa8b72e",
   "metadata": {},
   "source": [
    "```{admonition} 📊 ¿Qué es?\n",
    "\n",
    "Un gráfico de dispersión (o scatter plot, en inglés) es un tipo de gráfico que muestra la **relación entre dos variables** usando puntos en un plano cartesiano (eje X y eje Y).\n",
    "\n",
    "Cada punto representa un dato.\n",
    "\n",
    "* El **eje X (horizontal)** suele ser la variable independiente (la que controlamos o medimos primero).\n",
    "\n",
    "* El **eje Y (vertical)** suele ser la variable dependiente (la que queremos analizar en relación con X).\n",
    "\n",
    "\n",
    "```"
   ]
  },
  {
   "cell_type": "markdown",
   "id": "c3bc0665-1177-4991-8201-a2d81a3c106b",
   "metadata": {},
   "source": [
    "```{figure} imagenes/scatter2.png\n",
    "---\n",
    "figclass: margin\n",
    "name: dataframe\n",
    "---\n",
    "Análisis de dispersión\n",
    "```"
   ]
  },
  {
   "cell_type": "markdown",
   "id": "4e1c3279-ef21-4a4d-8e97-79bea6ca6399",
   "metadata": {},
   "source": [
    "```{admonition} 🎯 ¿Para qué sirve?\n",
    "\n",
    "Se usa para responder preguntas como:\n",
    "\n",
    "1. **¿Existe una relación entre las dos variables?**\n",
    "\n",
    "    * Ejemplo: \"¿A más horas de estudio, mejores notas?\"\n",
    "\n",
    "2. **¿Es fuerte o débil esa relación?**\n",
    "\n",
    "    * Si los puntos están muy agrupados en una tendencia, la relación es fuerte.\n",
    "\n",
    "3. **¿Qué tipo de relación es?**\n",
    "\n",
    "    * Positiva (cuando X aumenta, Y también).\n",
    "\n",
    "    * Negativa (cuando X aumenta, Y disminuye).\n",
    "\n",
    "    * Nula (no hay patrón claro).\n",
    "```"
   ]
  },
  {
   "cell_type": "markdown",
   "id": "266d1981-93ce-4f6c-86ac-aecde095c793",
   "metadata": {},
   "source": [
    "#### Análisis 1: Día contra Defectos detectados"
   ]
  },
  {
   "cell_type": "markdown",
   "id": "cd35dc2c-bd25-460c-8d68-38fd6d7a5dd9",
   "metadata": {},
   "source": [
    "Vamos a estudiar si hay relación entre el **día de mes y los defectos detectados**.\n",
    "\n",
    "En el eje X se colocan los **días**, y en el eje Y el número de **defectos**.\n",
    "\n",
    "Sintaxis básica: `plot.scatter`."
   ]
  },
  {
   "cell_type": "code",
   "execution_count": 2,
   "id": "7db63cca",
   "metadata": {},
   "outputs": [
    {
     "data": {
      "text/plain": [
       "<Axes: title={'center': 'Día vs Defectos'}, xlabel='Dia', ylabel='Defectos'>"
      ]
     },
     "execution_count": 2,
     "metadata": {},
     "output_type": "execute_result"
    },
    {
     "data": {
      "image/png": "[encoded data removed]",
      "text/plain": [
       "<Figure size 640x480 with 1 Axes>"
      ]
     },
     "metadata": {},
     "output_type": "display_data"
    }
   ],
   "source": [
    "df.plot.scatter(x='Dia', y='Defectos', title='Día vs Defectos')"
   ]
  },
  {
   "cell_type": "markdown",
   "id": "19b408b5-54b7-4d6d-aaa5-bb914d76dc2b",
   "metadata": {},
   "source": [
    "```{admonition} Análisis del gráfico de dispersión\n",
    ":class: tip \n",
    "\n",
    "Puede observarse un **correlación positiva** (tendencia ascendente) entre los **días del mes** y los **defectos**. Esto significa que a medida que pasan los días, los defectos aumentan.\n",
    "```"
   ]
  },
  {
   "cell_type": "markdown",
   "id": "c68c21e8-92ce-45f0-9e1c-1e7a00e8a0ba",
   "metadata": {},
   "source": [
    "```{admonition} Medidas correctoras\n",
    ":class: danger\n",
    "1. Causas Probables:\n",
    "\n",
    "* Fatiga de equipo/trabajadores (final de mes).\n",
    "\n",
    "* Presión por alcanzar metas u objetivos (piezas producidas a final de mes)\n",
    "\n",
    "* Mantenimiento delas máquinas defectuoso o postergado .\n",
    "\n",
    "2. Acciones Clave:\n",
    "\n",
    "* Mantenimiento preventivo antes de los picos de defectos (días 20-25).\n",
    "\n",
    "* Ajustar turnos para evitar fatiga acumulada.\n",
    "\n",
    "* Reforzar controles de calidad en la última semana.\n",
    "\n",
    "* Balancear producción para evitar sobrecargas.\n",
    "\n",
    "3. Monitoreo:\n",
    "\n",
    "* Usar gráficos de control (ej. Shewhart) y reuniones semanales.\n",
    "\n",
    "* Visualizar datos con scatter plot + línea de tendencia (Excel).\n",
    "\n",
    "```"
   ]
  },
  {
   "cell_type": "markdown",
   "id": "5960ebc2-0c5d-4a1e-842c-a928816b979f",
   "metadata": {},
   "source": [
    "#### Análisis 2: Días contra Piezas fabricadas"
   ]
  },
  {
   "cell_type": "code",
   "execution_count": 3,
   "id": "1b7d6b05-ea38-4ab3-ad2c-08b86754e3e4",
   "metadata": {
    "scrolled": true
   },
   "outputs": [
    {
     "data": {
      "text/plain": [
       "<Axes: title={'center': 'Día vs Piezas producidas'}, xlabel='Dia', ylabel='Piezas_producidas'>"
      ]
     },
     "execution_count": 3,
     "metadata": {},
     "output_type": "execute_result"
    },
    {
     "data": {
      "image/png": "[encoded data removed]",
      "text/plain": [
       "<Figure size 1000x600 with 1 Axes>"
      ]
     },
     "metadata": {},
     "output_type": "display_data"
    }
   ],
   "source": [
    "# En este caso vamos a dar formato al gráfico con algunas propiedades (color, grid...)\n",
    "\n",
    "df.plot.scatter(\n",
    "    x='Dia', \n",
    "    y='Piezas_producidas', \n",
    "    title='Día vs Piezas producidas',\n",
    "    figsize=(10, 6),  # Tamaño del gráfico\n",
    "    color='red',      # Color de los puntos\n",
    "    alpha=0.5,        # Transparencia (0 a 1)\n",
    "    grid=True )"
   ]
  },
  {
   "cell_type": "markdown",
   "id": "3da363a7-6c69-4f96-870b-6f6cda801d49",
   "metadata": {},
   "source": [
    "```{admonition} Análisis del gráfico de dispersión\n",
    ":class: tip \n",
    "\n",
    "Puede observarse un **correlación positiva** (tendencia ascendente) entre los los **días mes** y **piezas producidas**. Esto significa a medida que llega el fin de mes, la producción aumenta.\n",
    "```"
   ]
  },
  {
   "cell_type": "markdown",
   "id": "198479a2-d5d2-4910-a014-2617a34f38bb",
   "metadata": {},
   "source": [
    "```{admonition} Medidas correctoras (en el caso de que la empresa considere la correlación problemática)\n",
    ":class: danger\n",
    "\n",
    "1. Planificación equilibrada:\n",
    "\n",
    "* Distribuir metas diarias (evitar acumulación al final).\n",
    "\n",
    "* Usar pronósticos de demanda para ajustar capacidad.\n",
    "\n",
    "2. Ajustar incentivos:\n",
    "\n",
    "* Premiar producción consistente, no solo volumen mensual.\n",
    "\n",
    "3. Monitoreo:\n",
    "\n",
    "* Alertas automáticas si producción diaria supera ±15% del promedio.\n",
    "\n",
    "* Gráfico de control con:\n",
    "\n",
    "    * Línea de meta constante.\n",
    "\n",
    "    * Límites superior/inferior.\n",
    "\n",
    "4. Riesgos si no se actúa:\n",
    "\n",
    "* Sobrecarga de máquinas/personal → más defectos.\n",
    " \n",
    "* Estrés laboral → rotación de personal.\n",
    "\n",
    "5. Resultado esperado:\n",
    "\n",
    "* Producción estable → Mejor calidad + eficiencia\n",
    "\n",
    "```"
   ]
  },
  {
   "cell_type": "markdown",
   "id": "b18bf5ed-16ec-447c-9fd2-4ad0e9e5ab44",
   "metadata": {},
   "source": [
    "## Diagrama de caja (box plot)"
   ]
  },
  {
   "cell_type": "markdown",
   "id": "f1247117-9872-41cd-bac9-abbff441082f",
   "metadata": {},
   "source": [
    "```{admonition} 📊 ¿Qué es?\n",
    "\n",
    "Un box plot (también llamado diagrama de caja y bigotes) es una gráfica que resume de forma muy visual cómo se distribuyen los datos estadísticos más importantes. Nos ayuda a ver:\n",
    "- Valores mínimos y máximos.\n",
    "- Media.\n",
    "- Mediana.\n",
    "- Cuartiles\n",
    "- Posibles valores atípicos (outliers).\n",
    "```"
   ]
  },
  {
   "cell_type": "markdown",
   "id": "da2f33d3-d95a-4eb8-b4ae-78a1177a1609",
   "metadata": {},
   "source": [
    "```{admonition} 🧠 ¿Para qué sirve?\n",
    "\n",
    "* Ver si los datos están centrados o desviados.\n",
    "\n",
    "* Detectar si hay valores extremos o raros (outliers).\n",
    "\n",
    "* Comparar varios grupos de datos fácilmente (por ejemplo, defectos en diferentes semanas).\n",
    "\n",
    "* Ver cómo están repartidos los datos: ¿hay muchos valores bajos?, ¿altos?, ¿es simétrico?\n",
    "```\n"
   ]
  },
  {
   "cell_type": "markdown",
   "id": "40b3ba30-04c0-43c6-99c3-c229d3e7a6e6",
   "metadata": {},
   "source": [
    "```{admonition} 📊 ¿Qué partes tiene?\n",
    "\n",
    "Imagina que tienes una lista de números, como los defectos diarios en una fábrica. El box plot te muestra:\n",
    "\n",
    "* Caja central: entre el 25% (Q1) y el 75% (Q3) de los datos. Aquí está la mitad de los valores.\n",
    "\n",
    "* Línea dentro de la caja: es la mediana (el valor que queda justo en el medio).\n",
    "\n",
    "* Bigotes: líneas que van desde los extremos de la caja hasta los valores mínimo y máximo normales.\n",
    "\n",
    "* Puntos fuera de los bigotes: son valores extremos o atípicos.\n",
    "```"
   ]
  },
  {
   "cell_type": "code",
   "execution_count": 4,
   "id": "7a118fdb",
   "metadata": {
    "editable": true,
    "slideshow": {
     "slide_type": ""
    },
    "tags": []
   },
   "outputs": [
    {
     "data": {
      "text/plain": [
       "<Axes: title={'center': 'Distribución de defectos en el mes'}>"
      ]
     },
     "execution_count": 4,
     "metadata": {},
     "output_type": "execute_result"
    },
    {
     "data": {
      "image/png": "[encoded data removed]",
      "text/plain": [
       "<Figure size 600x500 with 1 Axes>"
      ]
     },
     "metadata": {},
     "output_type": "display_data"
    }
   ],
   "source": [
    "# + tags=[\"remove-output\"]\n",
    "\n",
    "df[['Defectos']].plot.box(\n",
    "    title='Distribución de defectos en el mes',\n",
    "    figsize=(6, 5),\n",
    "    grid=True,\n",
    "    color=dict(boxes='blue', whiskers='black', medians='red', caps='green')\n",
    ")\n"
   ]
  },
  {
   "cell_type": "code",
   "execution_count": 5,
   "id": "64815baf-4f6c-4a54-8e71-0a369ce6fd81",
   "metadata": {
    "editable": true,
    "slideshow": {
     "slide_type": ""
    },
    "tags": []
   },
   "outputs": [
    {
     "data": {
      "text/plain": [
       "<matplotlib.collections.PathCollection at 0x1bbf31b1640>"
      ]
     },
     "execution_count": 5,
     "metadata": {},
     "output_type": "execute_result"
    },
    {
     "data": {
      "image/png": "[encoded data removed]",
      "text/plain": [
       "<Figure size 600x500 with 1 Axes>"
      ]
     },
     "metadata": {},
     "output_type": "display_data"
    }
   ],
   "source": [
    "# Boxplot básico con pandas\n",
    "ax = df[['Defectos']].plot.box(\n",
    "    title='Distribución de defectos con puntos individuales',\n",
    "    grid=True,\n",
    "    color=dict(boxes='blue', whiskers='black', medians='red', caps='green'),\n",
    "    figsize=(6, 5)\n",
    ")\n",
    "\n",
    "# Agregar puntos individuales (jitter manual para que no se solapen)\n",
    "import numpy as np\n",
    "x_jitter = np.random.normal(1, 0.15, size=len(df))  # Simula separación en X\n",
    "ax.scatter(x_jitter, df['Defectos'], marker='s',alpha=0.4, color='black')\n"
   ]
  },
  {
   "cell_type": "code",
   "execution_count": 6,
   "id": "bf2cd13b-e52b-4751-b9fd-e63478ddbec7",
   "metadata": {},
   "outputs": [
    {
     "ename": "SyntaxError",
     "evalue": "invalid character '🔹' (U+1F539) (2299757477.py, line 1)",
     "output_type": "error",
     "traceback": [
      "\u001b[1;36m  Cell \u001b[1;32mIn[6], line 1\u001b[1;36m\u001b[0m\n\u001b[1;33m    **Explicación**:a🔹 Q1 (Primer cuartil)\u001b[0m\n\u001b[1;37m                     ^\u001b[0m\n\u001b[1;31mSyntaxError\u001b[0m\u001b[1;31m:\u001b[0m invalid character '🔹' (U+1F539)\n"
     ]
    }
   ],
   "source": [
    "**Explicación**:a🔹 Q1 (Primer cuartil)\n",
    "Es el borde inferior de la caja azul.\n",
    "\n",
    "Representa el valor por debajo del cual está el 25% de los días.\n",
    "\n",
    "En la imagen, Q1 parece estar en 2 → Esto significa que un cuarto de los días tuvo 2 defectos o menos.\n",
    "\n",
    "🔸 Q2 (Mediana)\n",
    "Es la línea roja dentro de la caja.\n",
    "\n",
    "Marca el valor central: el 50% de los datos están por debajo, y el 50% por encima.\n",
    "\n",
    "En el gráfico, la mediana está en 3 → Es el número de defectos típico de un día.\n",
    "\n",
    "🔹 Q3 (Tercer cuartil)\n",
    "Es el borde superior de la caja.\n",
    "\n",
    "Representa el punto por debajo del cual está el 75% de los datos.\n",
    "\n",
    "Aquí parece estar en 4 → Es decir, el 75% de los días tuvo 4 defectos o menos.\n",
    "\n",
    "🧠 ¿Qué aprendemos?\n",
    "La mayoría de los días tienen entre 2 y 4 defectos (la \"caja\").\n",
    "\n",
    "Días con más de 4 ya están en el 25% más alto.\n",
    "\n",
    "Algunos puntos más arriba (como el de 8) son valores inusuales, y podrían indicar fallos importantes."
   ]
  },
  {
   "cell_type": "markdown",
   "id": "734ad8c4",
   "metadata": {},
   "source": [
    "## Histograma\n",
    "\n",
    "El histograma nos muestra cómo se distribuye la producción diaria. Podemos ver si la mayoría de los días se producen más o menos piezas.\n",
    "\n",
    "En este caso, usamos **10 grupos (bins)** para agrupar los valores.\n"
   ]
  },
  {
   "cell_type": "code",
   "execution_count": null,
   "id": "31fb3e61",
   "metadata": {},
   "outputs": [],
   "source": [
    "df['Piezas_producidas'].plot.hist(bins=10, title='Distribución de piezas producidas')\n"
   ]
  },
  {
   "cell_type": "markdown",
   "id": "32d39bda",
   "metadata": {},
   "source": [
    "## Conclusiones\n",
    "\n",
    "A partir de los gráficos podemos hacernos preguntas como:\n",
    "\n",
    "- ¿Hay relación directa entre más producción y más defectos?\n",
    "- ¿Existen días con defectos especialmente altos o bajos?\n",
    "- ¿La producción es estable o varía mucho?\n",
    "\n",
    "Este tipo de análisis se usa en el mundo real para tomar decisiones que **mejoran la calidad y la eficiencia de una empresa**.\n"
   ]
  }
 ],
 "metadata": {
  "kernelspec": {
   "display_name": "Python 3 (ipykernel)",
   "language": "python",
   "name": "python3"
  },
  "language_info": {
   "codemirror_mode": {
    "name": "ipython",
    "version": 3
   },
   "file_extension": ".py",
   "mimetype": "text/x-python",
   "name": "python",
   "nbconvert_exporter": "python",
   "pygments_lexer": "ipython3",
   "version": "3.12.8"
  }
 },
 "nbformat": 4,
 "nbformat_minor": 5
}
