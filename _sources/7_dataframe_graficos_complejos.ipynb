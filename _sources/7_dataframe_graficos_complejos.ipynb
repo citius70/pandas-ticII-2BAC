{
 "cells": [
  {
   "cell_type": "markdown",
   "id": "30bc9337-22f4-4384-a886-1974d8212bd0",
   "metadata": {
    "editable": true,
    "slideshow": {
     "slide_type": ""
    },
    "tags": []
   },
   "source": [
    "# 7. Visualizacion de datos en Pandas: Otros gráficos"
   ]
  },
  {
   "cell_type": "markdown",
   "id": "8bad5143-3838-40ef-ac7f-f256a76b1ee1",
   "metadata": {
    "editable": true,
    "slideshow": {
     "slide_type": ""
    },
    "tags": []
   },
   "source": [
    "En el capítulo anterior vimos como podemos representar los datos de un DataFrame de forma gráfica. En este estudiaremos la forma de generar **tres gráficos** muy utilizados en anáisis de datos como son:\n",
    "\n",
    "* Gráfico de dispersión (Scatter plot) <img src=\"/imagenes/scatter.png\" width=\"30\" style=\"vertical-align:middle;\">\n",
    "\n",
    "* Diagrama de caja (Box plot) <img src=\"/imagenes/chart.png\" width=\"30\" style=\"vertical-align:middle;\"> \n",
    "\n",
    "* Histograma <img src=\"/imagenes/histogram.png\" width=\"30\" style=\"vertical-align:middle;\"> \n",
    "\n",
    "```{figure} ../pandas_tic_2/imagenes/plot_overview.svg\n",
    "---\n",
    "name: dataframe\n",
    "width: 70%\n",
    "---\n",
    "Gráficos con Pandas"
   ]
  },
  {
   "cell_type": "markdown",
   "id": "98171107-aca5-49e7-bea7-5c6b2cb46b0e",
   "metadata": {
    "editable": true,
    "slideshow": {
     "slide_type": ""
    },
    "tags": []
   },
   "source": [
    "Imagina que trabajas como **ingeniero/a de calidad** en una fábrica. **Cada día**, la fábrica registra **cuántas piezas** ha producido y cuántos  **minutos han estado paradas** las máquinas por fallos en su funcionamiento.\n",
    "\n",
    "Tu tarea es analizar los datos de **30 días** para ayudar a detectar:\n",
    "- Posibles días con problemas de calidad.\n",
    "- Relación entre producción y minutos parada por fallo.\n",
    "- Comportamientos anómalos o tendencias.\n",
    "\n",
    "Usaremos **solo `pandas`** para cargar los datos y crear gráficos básicos: **scatter plot, boxplot e histograma**."
   ]
  },
  {
   "cell_type": "code",
   "execution_count": 1,
   "id": "70fa8dbd-b844-408f-b8b5-92f355c6e1ff",
   "metadata": {
    "editable": true,
    "slideshow": {
     "slide_type": ""
    },
    "tags": []
   },
   "outputs": [],
   "source": [
    "import pandas as pd\n",
    "\n",
    "# Datos de producción de la fábrica durante 30 días recopilados en un diccionario denominado \"data\"\n",
    "\n",
    "data = pd.read_csv(\"https://drive.google.com/uc?export=download&id=1qKKGYeqdc48KI4gwmHX6oQ9oN0ZIyYnh\")\n",
    "\n",
    "\n",
    "# Creamos el DataFrame \"df\"\n",
    "df = pd.DataFrame(data)"
   ]
  },
  {
   "cell_type": "code",
   "execution_count": 2,
   "id": "ceee4350-49c5-4bdc-b9ee-e4fd24357192",
   "metadata": {
    "editable": true,
    "slideshow": {
     "slide_type": ""
    },
    "tags": []
   },
   "outputs": [
    {
     "data": {
      "text/html": [
       "<div>\n",
       "<style scoped>\n",
       "    .dataframe tbody tr th:only-of-type {\n",
       "        vertical-align: middle;\n",
       "    }\n",
       "\n",
       "    .dataframe tbody tr th {\n",
       "        vertical-align: top;\n",
       "    }\n",
       "\n",
       "    .dataframe thead th {\n",
       "        text-align: right;\n",
       "    }\n",
       "</style>\n",
       "<table border=\"1\" class=\"dataframe\">\n",
       "  <thead>\n",
       "    <tr style=\"text-align: right;\">\n",
       "      <th></th>\n",
       "      <th>Dia</th>\n",
       "      <th>Piezas_producidas</th>\n",
       "      <th>Minutos_parada</th>\n",
       "    </tr>\n",
       "  </thead>\n",
       "  <tbody>\n",
       "    <tr>\n",
       "      <th>0</th>\n",
       "      <td>D1</td>\n",
       "      <td>1001</td>\n",
       "      <td>12</td>\n",
       "    </tr>\n",
       "    <tr>\n",
       "      <th>1</th>\n",
       "      <td>D2</td>\n",
       "      <td>964</td>\n",
       "      <td>13</td>\n",
       "    </tr>\n",
       "    <tr>\n",
       "      <th>2</th>\n",
       "      <td>D3</td>\n",
       "      <td>950</td>\n",
       "      <td>15</td>\n",
       "    </tr>\n",
       "    <tr>\n",
       "      <th>3</th>\n",
       "      <td>D4</td>\n",
       "      <td>1010</td>\n",
       "      <td>43</td>\n",
       "    </tr>\n",
       "    <tr>\n",
       "      <th>4</th>\n",
       "      <td>D5</td>\n",
       "      <td>970</td>\n",
       "      <td>4</td>\n",
       "    </tr>\n",
       "  </tbody>\n",
       "</table>\n",
       "</div>"
      ],
      "text/plain": [
       "  Dia  Piezas_producidas  Minutos_parada\n",
       "0  D1               1001              12\n",
       "1  D2                964              13\n",
       "2  D3                950              15\n",
       "3  D4               1010              43\n",
       "4  D5                970               4"
      ]
     },
     "execution_count": 2,
     "metadata": {},
     "output_type": "execute_result"
    }
   ],
   "source": [
    "# Visualizamos los cinco primeros datos\n",
    "df.head(5)"
   ]
  },
  {
   "cell_type": "code",
   "execution_count": 3,
   "id": "a26765e5-d62b-4081-9daa-084713de19b2",
   "metadata": {
    "editable": true,
    "slideshow": {
     "slide_type": ""
    },
    "tags": []
   },
   "outputs": [
    {
     "data": {
      "text/html": [
       "<div>\n",
       "<style scoped>\n",
       "    .dataframe tbody tr th:only-of-type {\n",
       "        vertical-align: middle;\n",
       "    }\n",
       "\n",
       "    .dataframe tbody tr th {\n",
       "        vertical-align: top;\n",
       "    }\n",
       "\n",
       "    .dataframe thead th {\n",
       "        text-align: right;\n",
       "    }\n",
       "</style>\n",
       "<table border=\"1\" class=\"dataframe\">\n",
       "  <thead>\n",
       "    <tr style=\"text-align: right;\">\n",
       "      <th></th>\n",
       "      <th>Piezas_producidas</th>\n",
       "      <th>Minutos_parada</th>\n",
       "    </tr>\n",
       "  </thead>\n",
       "  <tbody>\n",
       "    <tr>\n",
       "      <th>count</th>\n",
       "      <td>30.000000</td>\n",
       "      <td>30.000000</td>\n",
       "    </tr>\n",
       "    <tr>\n",
       "      <th>mean</th>\n",
       "      <td>988.766667</td>\n",
       "      <td>37.233333</td>\n",
       "    </tr>\n",
       "    <tr>\n",
       "      <th>std</th>\n",
       "      <td>24.187035</td>\n",
       "      <td>19.754848</td>\n",
       "    </tr>\n",
       "    <tr>\n",
       "      <th>min</th>\n",
       "      <td>950.000000</td>\n",
       "      <td>4.000000</td>\n",
       "    </tr>\n",
       "    <tr>\n",
       "      <th>25%</th>\n",
       "      <td>970.000000</td>\n",
       "      <td>25.750000</td>\n",
       "    </tr>\n",
       "    <tr>\n",
       "      <th>50%</th>\n",
       "      <td>989.000000</td>\n",
       "      <td>35.500000</td>\n",
       "    </tr>\n",
       "    <tr>\n",
       "      <th>75%</th>\n",
       "      <td>1009.000000</td>\n",
       "      <td>45.250000</td>\n",
       "    </tr>\n",
       "    <tr>\n",
       "      <th>max</th>\n",
       "      <td>1029.000000</td>\n",
       "      <td>98.000000</td>\n",
       "    </tr>\n",
       "  </tbody>\n",
       "</table>\n",
       "</div>"
      ],
      "text/plain": [
       "       Piezas_producidas  Minutos_parada\n",
       "count          30.000000       30.000000\n",
       "mean          988.766667       37.233333\n",
       "std            24.187035       19.754848\n",
       "min           950.000000        4.000000\n",
       "25%           970.000000       25.750000\n",
       "50%           989.000000       35.500000\n",
       "75%          1009.000000       45.250000\n",
       "max          1029.000000       98.000000"
      ]
     },
     "execution_count": 3,
     "metadata": {},
     "output_type": "execute_result"
    }
   ],
   "source": [
    "# Visualizamos los datos estadísticos más importantes\n",
    "df.describe()"
   ]
  },
  {
   "cell_type": "markdown",
   "id": "64babc92-a4fd-438a-b3cf-7db1b9f4ab3f",
   "metadata": {
    "editable": true,
    "slideshow": {
     "slide_type": ""
    },
    "tags": []
   },
   "source": [
    "### - Gráfico de dispersión (scatter plot)"
   ]
  },
  {
   "cell_type": "markdown",
   "id": "07a3ea1f-543d-40f4-ae36-538b89da80e7",
   "metadata": {},
   "source": [
    "```{figure} imagenes/scatter1.png\n",
    "---\n",
    "figclass: margin\n",
    "name: dataframe\n",
    "---\n",
    "Gráfico de dispersión\n",
    "```"
   ]
  },
  {
   "cell_type": "markdown",
   "id": "18c6a923-4911-4a45-ad87-15b35aa8b72e",
   "metadata": {},
   "source": [
    "```{admonition} 📊 ¿Qué es?\n",
    "\n",
    "Un gráfico de dispersión (o scatter plot, en inglés) es un tipo de gráfico que muestra la **relación entre dos variables** usando puntos en un plano cartesiano (eje X y eje Y).\n",
    "\n",
    "Cada punto representa un dato.\n",
    "\n",
    "* El **eje X (horizontal)** suele ser la variable independiente (la que controlamos o medimos primero).\n",
    "\n",
    "* El **eje Y (vertical)** suele ser la variable dependiente (la que queremos analizar en relación con X).\n",
    "\n",
    "\n",
    "```"
   ]
  },
  {
   "cell_type": "markdown",
   "id": "c3bc0665-1177-4991-8201-a2d81a3c106b",
   "metadata": {},
   "source": [
    "```{figure} imagenes/scatter2.png\n",
    "---\n",
    "figclass: margin\n",
    "name: dataframe\n",
    "---\n",
    "Análisis de dispersión\n",
    "```"
   ]
  },
  {
   "cell_type": "markdown",
   "id": "4e1c3279-ef21-4a4d-8e97-79bea6ca6399",
   "metadata": {},
   "source": [
    "```{admonition} 🎯 ¿Para qué sirve?\n",
    "\n",
    "Se usa para responder preguntas como:\n",
    "\n",
    "1. **¿Existe una relación entre las dos variables?**\n",
    "\n",
    "    * Ejemplo: \"¿A más horas de estudio, mejores notas?\"\n",
    "\n",
    "2. **¿Es fuerte o débil esa relación?**\n",
    "\n",
    "    * Si los puntos están muy agrupados en una tendencia, la relación es fuerte.\n",
    "\n",
    "3. **¿Qué tipo de relación es?**\n",
    "\n",
    "    * Positiva (cuando X aumenta, Y también).\n",
    "\n",
    "    * Negativa (cuando X aumenta, Y disminuye).\n",
    "\n",
    "    * Nula (no hay patrón claro).\n",
    "```"
   ]
  },
  {
   "cell_type": "markdown",
   "id": "266d1981-93ce-4f6c-86ac-aecde095c793",
   "metadata": {},
   "source": [
    "#### Análisis 1: Día contra Minutos parada por fallos"
   ]
  },
  {
   "cell_type": "markdown",
   "id": "919dd8f6-c90c-465f-9c90-0ca09d5b0c39",
   "metadata": {},
   "source": [
    "Vamos a estudiar si hay relación entre el **día de mes y los minutos parada**.\n",
    "\n",
    "En el eje X se colocan los **días**, y en el eje Y el número de **minutos_parada**."
   ]
  },
  {
   "cell_type": "markdown",
   "id": "97aa47c0-1fa7-4d8b-901c-87a331b07289",
   "metadata": {},
   "source": [
    "Sintaxis básica: `plot.scatter`."
   ]
  },
  {
   "cell_type": "code",
   "execution_count": 4,
   "id": "7db63cca",
   "metadata": {
    "editable": true,
    "slideshow": {
     "slide_type": ""
    },
    "tags": []
   },
   "outputs": [
    {
     "data": {
      "text/plain": [
       "<Axes: title={'center': 'Día vs Minutos parada'}, xlabel='Dia', ylabel='Minutos_parada'>"
      ]
     },
     "execution_count": 4,
     "metadata": {},
     "output_type": "execute_result"
    },
    {
     "data": {
      "image/png": "[encoded data removed]",
      "text/plain": [
       "<Figure size 640x480 with 1 Axes>"
      ]
     },
     "metadata": {},
     "output_type": "display_data"
    }
   ],
   "source": [
    "df.plot.scatter(x='Dia', y='Minutos_parada', title='Día vs Minutos parada')"
   ]
  },
  {
   "cell_type": "markdown",
   "id": "19b408b5-54b7-4d6d-aaa5-bb914d76dc2b",
   "metadata": {
    "editable": true,
    "slideshow": {
     "slide_type": ""
    },
    "tags": []
   },
   "source": [
    "```{admonition} Análisis del gráfico de dispersión\n",
    ":class: tip \n",
    "\n",
    "Puede observarse un **correlación positiva** (tendencia ascendente) entre los **días del mes** y los **minutos parados**. Esto significa que a medida que pasan los días, los minutos perdidos aumentan.\n",
    "```"
   ]
  },
  {
   "cell_type": "markdown",
   "id": "c68c21e8-92ce-45f0-9e1c-1e7a00e8a0ba",
   "metadata": {},
   "source": [
    "```{admonition} Medidas correctoras\n",
    ":class: danger\n",
    "\n",
    "1. Causas probables:\n",
    "\n",
    "* Fatiga de equipos: Mantenimiento insuficiente hacia fin de mes.\n",
    "\n",
    "* Presión operativa: Mayor uso de máquinas para cumplir metas, generando sobrecarga.\n",
    "\n",
    "* Fallas acumulativas: Pequeños problemas no resueltos que escalan con el tiempo.\n",
    "\n",
    "* Factores humanos: Turnos extendidos o estrés del personal en cierre mensual.\n",
    "\n",
    "2. Medidas Correctivas\n",
    "\n",
    "* Mantenimiento Preventivo\n",
    "\n",
    "    * Acción: Programar revisiones técnicas antes del día 20 (anticipándose al pico).\n",
    "\n",
    "    * Herramienta: Usar un calendario predictivo basado en datos históricos.\n",
    "\n",
    "* Balancear la Carga de Producción\n",
    "\n",
    "    * Acción: Distribuir metas semanales (evitar acumulación al final del mes).\n",
    "\n",
    "3. Monitoreo en Tiempo Real\n",
    "   \n",
    "* Sistema: Implementar un dashboard con:\n",
    "\n",
    "    * Minutos de parada acumulados por día.\n",
    "\n",
    "    * Alertas al superar el 10% del tiempo operativo planeado.\n",
    "\n",
    "    * Tecnología: Sensores IoT para detectar fallos tempranos.\n",
    "\n",
    "4. Capacitación y Cultura Operativa\n",
    "   \n",
    "* Entrenamiento: Talleres mensuales sobre:\n",
    "\n",
    "    * Identificación temprana de fallas.\n",
    "\n",
    "    * Protocolos de parada rápida (Andon).\n",
    "\n",
    "* Incentivos: Recompensar equipos con menos tiempo de inactividad.\n",
    "\n",
    "```"
   ]
  },
  {
   "cell_type": "markdown",
   "id": "5960ebc2-0c5d-4a1e-842c-a928816b979f",
   "metadata": {},
   "source": [
    "#### Análisis 2: Días contra Piezas fabricadas"
   ]
  },
  {
   "cell_type": "code",
   "execution_count": 5,
   "id": "1b7d6b05-ea38-4ab3-ad2c-08b86754e3e4",
   "metadata": {
    "editable": true,
    "scrolled": true,
    "slideshow": {
     "slide_type": ""
    },
    "tags": []
   },
   "outputs": [
    {
     "data": {
      "text/plain": [
       "<Axes: title={'center': 'Día vs Piezas producidas'}, xlabel='Dia', ylabel='Piezas_producidas'>"
      ]
     },
     "execution_count": 5,
     "metadata": {},
     "output_type": "execute_result"
    },
    {
     "data": {
      "image/png": "[encoded data removed]",
      "text/plain": [
       "<Figure size 800x500 with 1 Axes>"
      ]
     },
     "metadata": {},
     "output_type": "display_data"
    }
   ],
   "source": [
    "# En este caso vamos a dar formato al gráfico con algunas propiedades (color, grid...)\n",
    "\n",
    "df.plot.scatter(\n",
    "    x='Dia', \n",
    "    y='Piezas_producidas', \n",
    "    title='Día vs Piezas producidas',\n",
    "    figsize=(8, 5),  # Tamaño del gráfico\n",
    "    color='red',      # Color de los puntos\n",
    "    alpha=0.5,        # Transparencia (0 a 1)\n",
    "    grid=True )"
   ]
  },
  {
   "cell_type": "markdown",
   "id": "3da363a7-6c69-4f96-870b-6f6cda801d49",
   "metadata": {
    "editable": true,
    "slideshow": {
     "slide_type": ""
    },
    "tags": []
   },
   "source": [
    "```{admonition} Análisis del gráfico de dispersión\n",
    ":class: tip \n",
    "\n",
    "Puede observarse un **correlación positiva** (tendencia ascendente) entre los los **días mes** y **piezas producidas**. Esto significa a medida que llega el fin de mes, la producción aumenta.\n",
    "```"
   ]
  },
  {
   "cell_type": "markdown",
   "id": "198479a2-d5d2-4910-a014-2617a34f38bb",
   "metadata": {
    "editable": true,
    "slideshow": {
     "slide_type": ""
    },
    "tags": []
   },
   "source": [
    "```{admonition} Medidas correctoras (en el caso de que la empresa considere la correlación problemática)\n",
    ":class: danger\n",
    "\n",
    "1. Planificación equilibrada:\n",
    "\n",
    "* Distribuir metas diarias (evitar acumulación al final).\n",
    "\n",
    "* Usar pronósticos de demanda para ajustar capacidad.\n",
    "\n",
    "2. Ajustar incentivos:\n",
    "\n",
    "* Premiar producción consistente, no solo volumen mensual.\n",
    "\n",
    "3. Monitoreo:\n",
    "\n",
    "* Alertas automáticas si producción diaria supera ±15% del promedio.\n",
    "\n",
    "* Gráfico de control con:\n",
    "\n",
    "    * Línea de meta constante.\n",
    "\n",
    "    * Límites superior/inferior.\n",
    "\n",
    "4. Riesgos si no se actúa:\n",
    "\n",
    "* Sobrecarga de máquinas/personal → más defectos.\n",
    " \n",
    "* Estrés laboral → rotación de personal.\n",
    "\n",
    "5. Resultado esperado:\n",
    "\n",
    "* Producción estable → Mejor calidad + eficiencia\n",
    "\n",
    "```"
   ]
  },
  {
   "cell_type": "markdown",
   "id": "b18bf5ed-16ec-447c-9fd2-4ad0e9e5ab44",
   "metadata": {},
   "source": [
    "## - Diagrama de caja (box plot)"
   ]
  },
  {
   "cell_type": "markdown",
   "id": "f1247117-9872-41cd-bac9-abbff441082f",
   "metadata": {},
   "source": [
    "```{admonition} 📊 ¿Qué es?\n",
    "\n",
    "Un box plot (también llamado diagrama de caja y bigotes) es una gráfica que resume de forma muy visual cómo se distribuyen los datos estadísticos más importantes. Nos ayuda a ver:\n",
    "- Valores mínimos y máximos.\n",
    "- Media.\n",
    "- Mediana.\n",
    "- Cuartiles\n",
    "- Posibles valores atípicos (outliers).\n",
    "```"
   ]
  },
  {
   "cell_type": "markdown",
   "id": "da2f33d3-d95a-4eb8-b4ae-78a1177a1609",
   "metadata": {},
   "source": [
    "```{admonition} 🧠 ¿Para qué sirve?\n",
    "\n",
    "* Ver si los datos están centrados o desviados.\n",
    "\n",
    "* Detectar si hay valores extremos o raros (outliers).\n",
    "\n",
    "* Comparar varios grupos de datos fácilmente (por ejemplo, defectos en diferentes semanas).\n",
    "\n",
    "* Ver cómo están repartidos los datos: ¿hay muchos valores bajos?, ¿altos?, ¿es simétrico?\n",
    "```\n"
   ]
  },
  {
   "cell_type": "markdown",
   "id": "575c9f58-b8e0-4307-bb7c-afb252195589",
   "metadata": {},
   "source": [
    "```{figure} imagenes/Cuartiles_del_diagrama_de_caja.png\n",
    "---\n",
    "figclass: margin\n",
    "name: dataframe\n",
    "---\n",
    "Diagrama de caja\n",
    "```"
   ]
  },
  {
   "cell_type": "markdown",
   "id": "40b3ba30-04c0-43c6-99c3-c229d3e7a6e6",
   "metadata": {},
   "source": [
    "```{admonition} 📊 ¿Qué partes tiene?\n",
    "\n",
    "Imagina que tienes una lista de números, como los defectos diarios en una fábrica. El box plot te muestra:\n",
    "\n",
    "* Caja central: entre el 25% (Q1) y el 75% (Q3) de los datos. Aquí está la mitad de los valores.\n",
    "\n",
    "* Línea dentro de la caja: es la mediana (el valor que queda justo en el medio).\n",
    "\n",
    "* Bigotes: líneas que van desde los extremos de la caja hasta los valores mínimo y máximo normales.\n",
    "\n",
    "* Puntos fuera de los bigotes: son valores extremos o atípicos.\n",
    "```"
   ]
  },
  {
   "cell_type": "markdown",
   "id": "02a589dc-3028-4f70-be70-57f3abf996bc",
   "metadata": {
    "editable": true,
    "slideshow": {
     "slide_type": ""
    },
    "tags": []
   },
   "source": [
    "Vamos a ver como se distribuyen los **minutos parados** de nuestra fábrica.\n",
    "\n",
    "Sintaxis básica: `boxplot`"
   ]
  },
  {
   "cell_type": "code",
   "execution_count": 6,
   "id": "b6f668db-8f7c-4229-9f48-de0e468cf6a0",
   "metadata": {
    "editable": true,
    "slideshow": {
     "slide_type": ""
    },
    "tags": []
   },
   "outputs": [
    {
     "data": {
      "text/plain": [
       "<Axes: >"
      ]
     },
     "execution_count": 6,
     "metadata": {},
     "output_type": "execute_result"
    },
    {
     "data": {
      "image/png": "[encoded data removed]",
      "text/plain": [
       "<Figure size 600x500 with 1 Axes>"
      ]
     },
     "metadata": {},
     "output_type": "display_data"
    }
   ],
   "source": [
    "df.boxplot(\n",
    "    column='Minutos_parada',\n",
    "    # by='Grupo',\n",
    "    figsize=(6, 5),\n",
    "    grid=True,\n",
    "    patch_artist=True,\n",
    "    boxprops={'facecolor': 'white', 'edgecolor': 'blue'},\n",
    "    medianprops={'color': 'red'}\n",
    ")"
   ]
  },
  {
   "cell_type": "code",
   "execution_count": 7,
   "id": "64815baf-4f6c-4a54-8e71-0a369ce6fd81",
   "metadata": {
    "editable": true,
    "slideshow": {
     "slide_type": ""
    },
    "tags": [
     "remove-input"
    ]
   },
   "outputs": [
    {
     "data": {
      "text/plain": [
       "<matplotlib.collections.PathCollection at 0x1d4f56a0830>"
      ]
     },
     "execution_count": 7,
     "metadata": {},
     "output_type": "execute_result"
    },
    {
     "data": {
      "image/png": "[encoded data removed]",
      "text/plain": [
       "<Figure size 600x500 with 1 Axes>"
      ]
     },
     "metadata": {},
     "output_type": "display_data"
    }
   ],
   "source": [
    "# Boxplot básico con pandas\n",
    "ax = df[['Minutos_parada']].plot.box(\n",
    "    title='Distribución de minutos de parada en el mes',\n",
    "    grid=True,\n",
    "    color=dict(boxes='blue', whiskers='navy', medians='red', caps='black'),\n",
    "    figsize=(6, 5)\n",
    ")\n",
    "\n",
    "# Agregar puntos individuales (jitter manual para que no se solapen)\n",
    "import numpy as np\n",
    "x_jitter = np.random.normal(1, 0.17, size=len(df))  # Simula separación en X\n",
    "ax.scatter(x_jitter, df['Minutos_parada'], marker='s',alpha=0.4, color='black')\n"
   ]
  },
  {
   "cell_type": "markdown",
   "id": "4ee4e828-2792-4be9-8b5d-95139e6ac8cd",
   "metadata": {
    "editable": true,
    "slideshow": {
     "slide_type": ""
    },
    "tags": []
   },
   "source": [
    "##### **Explicación**:\n",
    "\n",
    "* Mínimo: Es la línea negra inferior. Representa el mínimo de minutos parada en 30 días.\n",
    "\n",
    "    * En ese caso es de 4 minutos.\n",
    "\n",
    "* Q1 (Primer cuartil). Es el borde inferior de la caja azul.\n",
    "\n",
    "    * Representa el valor por debajo del cual está el 25% de los días.\n",
    "\n",
    "    * En la imagen, Q1 está en 26. **Esto significa que un cuarto (25%) de los días estuvo 26 minutos, o menos, parada**. Como hay 30 días, entonces, 30 días x 25/100 = 7,5 días (8 días) estuvo 26 minutos, o menos, parada.\n",
    "\n",
    "* Q2 (Mediana). Es la línea roja dentro de la caja.\n",
    "\n",
    "    * Marca el valor central: el 50% de los datos están por debajo, y el 50% por encima.\n",
    "\n",
    "    * En el gráfico, la mediana está en 37 → Es el número de mínutos típico de un día.\n",
    "\n",
    "* Q3 (Tercer cuartil) Es el borde superior de la caja.\n",
    "\n",
    "    * Representa el punto por debajo del cual está el 75% de los datos.\n",
    "\n",
    "    * Aquí parece estar en 45 → Es decir, el 75% de los días estuvo 45 minutos, o menos parada. 30 días x 75/100 = 22,5 días (23). 23 días estuvo parada 45 minutos o menos.\n",
    " \n",
    "* Máximo: Es la línea negra superior. Representa el máximo de minutos parada en 30 días.\n",
    "\n",
    "    * En ese caso es de 65 minutos.\n",
    "\n",
    "* Outliers (datos inusuales): Son datos que se salen de lo normal (por arriba o por abajo).\n",
    "\n",
    "    * Todos los datos que sean:\n",
    "    * \n",
    "        *  menores a  L1 = Q1 -1,5*(Q3-Q1), o,\n",
    "        *  mayores a L2 =Q 3 + 1,5*(Q3-Q1)\n",
    "\n",
    "    se consideran inusuales y , por lo general, se desechan.\n",
    "\n",
    "  * En este caso, el valor de 98 minutos parada está por encima de L2 y se considera outlier.\n",
    "\n",
    "**🧠 ¿Qué aprendemos?**\n",
    "\n",
    "* La mayoría de los días tienen paradas de entre 26 (Q1) y 45 (Q3) minuto (la \"caja\").\n",
    "\n",
    "* Días con más de 26 minutos ya están en el 25% más alto.\n",
    "\n",
    "* Algunos puntos más arriba (como el de 98) son valores inusuales, y podrían indicar fallos importantes."
   ]
  },
  {
   "cell_type": "markdown",
   "id": "8d9dc1be-8d90-4241-a437-4c7a757e9d40",
   "metadata": {
    "editable": true,
    "slideshow": {
     "slide_type": ""
    },
    "tags": []
   },
   "source": [
    "## - Histograma"
   ]
  },
  {
   "cell_type": "markdown",
   "id": "40e5db68-8222-4924-b18d-7f490f1fe031",
   "metadata": {},
   "source": [
    "```{figure} imagenes/histograma1.png\n",
    "---\n",
    "figclass: margin\n",
    "name: dataframe\n",
    "---\n",
    "Histograma con puntos. Distribución de pesos de una exhibición de perros\n",
    "```"
   ]
  },
  {
   "cell_type": "markdown",
   "id": "b45c0110-8ead-46d0-8ff2-387cf0b0362f",
   "metadata": {},
   "source": [
    "```{figure} imagenes/histograma2.png\n",
    "---\n",
    "figclass: margin\n",
    "name: dataframe\n",
    "---\n",
    "Histograma con barras. Distribución de pesos de una exhibición de perros\n",
    "```"
   ]
  },
  {
   "cell_type": "markdown",
   "id": "25b8ae8d-9068-44c2-ba90-e02e9dc5bfc9",
   "metadata": {
    "editable": true,
    "slideshow": {
     "slide_type": ""
    },
    "tags": []
   },
   "source": [
    "```{admonition}📊 ¿Qué es un histograma?\n",
    "\n",
    "Un histograma es un tipo de gráfico de barras que muestra cómo se distribuyen los datos. En lugar de mostrar datos individuales, agrupa los valores en intervalos (también llamados “bins” o “clases”) y cuenta cuántos datos hay en cada uno.\n",
    "\n",
    "```"
   ]
  },
  {
   "cell_type": "markdown",
   "id": "88e055a5-3e3e-4bca-a892-6cf199beb01a",
   "metadata": {
    "editable": true,
    "slideshow": {
     "slide_type": ""
    },
    "tags": []
   },
   "source": [
    "```{admonition} 🔎 ¿Cómo se lee?\n",
    "* El eje X (horizontal) representa los intervalos de valores.\n",
    "\n",
    "* El eje Y (vertical) muestra cuántos datos (conteo) caen dentro de cada intervalo.\n",
    "\n",
    "Cada barra representa la frecuencia (cantidad) de datos en un rango.\n",
    "```"
   ]
  },
  {
   "cell_type": "markdown",
   "id": "e704d3ca-0877-4044-9b7b-da6fc03cdf6e",
   "metadata": {
    "editable": true,
    "slideshow": {
     "slide_type": ""
    },
    "tags": []
   },
   "source": [
    "```{admonition} 🧠 ¿Para qué sirve?\n",
    "Un histograma te ayuda a ver la forma general de los datos, por ejemplo:\n",
    "\n",
    "* ¿Los valores están concentrados en un rango?\n",
    "\n",
    "* ¿Hay muchos valores bajos y pocos altos?\n",
    "\n",
    "* ¿Es simétrica la distribución? ¿O hay valores extremos?\n",
    "````"
   ]
  },
  {
   "cell_type": "markdown",
   "id": "fd8bf06a-68fb-43de-b9d3-8532cc37c0f8",
   "metadata": {
    "editable": true,
    "slideshow": {
     "slide_type": ""
    },
    "tags": []
   },
   "source": [
    "El histograma nos puede ayudar a mostrar cómo se distribuye la producción diaria. Podemos ver si la mayoría de los días se producen más o menos piezas.\n",
    "\n",
    "En este caso, usamos **10 grupos (bins)** para agrupar los valores.`\n",
    "\n",
    "Sintaxis básica: `plot.hist`"
   ]
  },
  {
   "cell_type": "code",
   "execution_count": 8,
   "id": "31fb3e61",
   "metadata": {
    "editable": true,
    "slideshow": {
     "slide_type": ""
    },
    "tags": []
   },
   "outputs": [
    {
     "data": {
      "text/plain": [
       "<Axes: title={'center': 'Distribución de piezas producidas'}, ylabel='Frequency'>"
      ]
     },
     "execution_count": 8,
     "metadata": {},
     "output_type": "execute_result"
    },
    {
     "data": {
      "image/png": "[encoded data removed]",
      "text/plain": [
       "<Figure size 640x480 with 1 Axes>"
      ]
     },
     "metadata": {},
     "output_type": "display_data"
    }
   ],
   "source": [
    "df['Piezas_producidas'].plot.hist(bins=10, title='Distribución de piezas producidas')\n"
   ]
  },
  {
   "cell_type": "markdown",
   "id": "85dd20a6-2070-4311-a255-35bcf31baa4a",
   "metadata": {},
   "source": [
    "```{admonition} Análisis del histograma\n",
    ":class: tip\n",
    "\n",
    "* El histograma muestra cuántas veces se produjeron ciertas cantidades de piezas.\n",
    "\n",
    "* La mayoría de los valores se agrupan en dos zonas: cerca de 965 y cerca de 1010.\n",
    "\n",
    "* Hay poca producción media, lo que sugiere variabilidad en los datos.\n",
    "\n",
    "* Esto podría deberse a turnos diferentes, fallos técnicos o cambios en la organización del trabajo.\n",
    "\n",
    "* La producción no es constante, lo que puede ser un punto a mejorar.\n",
    "```"
   ]
  },
  {
   "cell_type": "markdown",
   "id": "13b6baf7-083c-47b6-aa42-240ac7a39723",
   "metadata": {},
   "source": [
    "Podemos saber, por ejemplo, la distribución de minutos parados."
   ]
  },
  {
   "cell_type": "code",
   "execution_count": 9,
   "id": "2205c1e3-c0e7-4a04-b831-ad9b94429788",
   "metadata": {
    "editable": true,
    "slideshow": {
     "slide_type": ""
    },
    "tags": []
   },
   "outputs": [
    {
     "data": {
      "text/plain": [
       "<Axes: title={'center': 'Distribución de minutos parados'}, ylabel='Frequency'>"
      ]
     },
     "execution_count": 9,
     "metadata": {},
     "output_type": "execute_result"
    },
    {
     "data": {
      "image/png": "[encoded data removed]",
      "text/plain": [
       "<Figure size 600x400 with 1 Axes>"
      ]
     },
     "metadata": {},
     "output_type": "display_data"
    }
   ],
   "source": [
    "df['Minutos_parada'].plot.hist(\n",
    "    bins=10,\n",
    "    title='Distribución de minutos parados',\n",
    "    color='coral',\n",
    "    edgecolor='black',\n",
    "    grid=True,\n",
    "    figsize=(6, 4),\n",
    "    alpha=0.8\n",
    ")\n"
   ]
  },
  {
   "cell_type": "markdown",
   "id": "0b524648-7e37-494f-b458-599835c1c296",
   "metadata": {},
   "source": [
    "```{admonition} Análisis del histograma\n",
    "\n",
    "Muestra cuántas veces la máquina estuvo parada cierto tiempo.\n",
    "\n",
    "* La mayoría de las paradas duraron entre 20 y 50 minutos.\n",
    "\n",
    "* Hay pocas paradas muy cortas o muy largas.\n",
    "\n",
    "* Esto indica que los fallos suelen ser de duración media.\n",
    "\n",
    "* El histograma ayuda a detectar patrones y tomar decisiones para mejorar la producción.\n",
    "```"
   ]
  },
  {
   "cell_type": "markdown",
   "id": "32d39bda",
   "metadata": {},
   "source": [
    "## Conclusiones\n",
    "\n",
    "A partir de los gráficos podemos hacernos preguntas como:\n",
    "\n",
    "- ¿Hay relación directa entre más producción y más defectos?\n",
    "- ¿Existen días con defectos especialmente altos o bajos?\n",
    "- ¿La producción es estable o varía mucho?\n",
    "\n",
    "Este tipo de análisis se usa en el mundo real para tomar decisiones que **mejoran la calidad y la eficiencia de una empresa**.\n"
   ]
  },
  {
   "cell_type": "code",
   "execution_count": null,
   "id": "8b102dd7-8106-4a13-afbe-5b6a337f08a4",
   "metadata": {
    "editable": true,
    "slideshow": {
     "slide_type": ""
    },
    "tags": []
   },
   "outputs": [],
   "source": []
  }
 ],
 "metadata": {
  "kernelspec": {
   "display_name": "Python 3 (ipykernel)",
   "language": "python",
   "name": "python3"
  },
  "language_info": {
   "codemirror_mode": {
    "name": "ipython",
    "version": 3
   },
   "file_extension": ".py",
   "mimetype": "text/x-python",
   "name": "python",
   "nbconvert_exporter": "python",
   "pygments_lexer": "ipython3",
   "version": "3.12.8"
  }
 },
 "nbformat": 4,
 "nbformat_minor": 5
}
