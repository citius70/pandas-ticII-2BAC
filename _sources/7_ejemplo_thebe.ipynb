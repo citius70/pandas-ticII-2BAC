{
 "cells": [
  {
   "cell_type": "markdown",
   "id": "203e6142",
   "metadata": {},
   "source": [
    "# 🧪 Ejemplo interactivo con Thebe en .ipynb\n",
    "\n",
    "Este notebook forma parte de un Jupyter Book y puede ser ejecutado en vivo gracias a [Thebe](https://thebe.readthedocs.io)."
   ]
  },
  {
   "cell_type": "code",
   "execution_count": null,
   "id": "66a7d5e4",
   "metadata": {},
   "outputs": [],
   "source": [
    "import pandas as pd\n",
    "\n",
    "df = pd.DataFrame({\n",
    "    \"Nombre\": [\"Ana\", \"Luis\", \"Carlos\"],\n",
    "    \"Edad\": [23, 34, 29]\n",
    "})\n",
    "\n",
    "df"
   ]
  },
  {
   "cell_type": "markdown",
   "id": "f8f18102",
   "metadata": {},
   "source": [
    "Puedes editar la celda y volver a ejecutar. ¡Funciona directamente desde el navegador!"
   ]
  },
  {
   "cell_type": "code",
   "execution_count": null,
   "id": "eb9313be",
   "metadata": {},
   "outputs": [],
   "source": [
    "# Calculamos la media de edad\n",
    "df[\"Edad\"].mean()"
   ]
  }
 ],
 "metadata": {
  "kernelspec": {
   "display_name": "Python 3 (ipykernel)",
   "language": "python",
   "name": "python3"
  },
  "language_info": {
   "codemirror_mode": {
    "name": "ipython",
    "version": 3
   },
   "file_extension": ".py",
   "mimetype": "text/x-python",
   "name": "python",
   "nbconvert_exporter": "python",
   "pygments_lexer": "ipython3",
   "version": "3.12.8"
  }
 },
 "nbformat": 4,
 "nbformat_minor": 5
}
