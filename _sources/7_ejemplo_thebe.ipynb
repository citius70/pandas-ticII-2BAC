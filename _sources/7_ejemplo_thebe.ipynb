{
  "cells": [
    {
      "cell_type": "markdown",
      "metadata": {},
      "source": [
        "# \ud83e\uddea Ejemplo interactivo con Thebe en .ipynb\n",
        "\n",
        "Este notebook forma parte de un Jupyter Book y puede ser ejecutado en vivo gracias a [Thebe](https://thebe.readthedocs.io)."
      ]
    },
    {
      "cell_type": "code",
      "execution_count": null,
      "metadata": {},
      "outputs": [],
      "source": [
        "import pandas as pd\n",
        "\n",
        "df = pd.DataFrame({\n",
        "    \"Nombre\": [\"Ana\", \"Luis\", \"Carlos\"],\n",
        "    \"Edad\": [23, 34, 29]\n",
        "})\n",
        "\n",
        "df"
      ]
    },
    {
      "cell_type": "markdown",
      "metadata": {},
      "source": [
        "Puedes editar la celda y volver a ejecutar. \u00a1Funciona directamente desde el navegador!"
      ]
    },
    {
      "cell_type": "code",
      "execution_count": null,
      "metadata": {},
      "outputs": [],
      "source": [
        "# Calculamos la media de edad\n",
        "df[\"Edad\"].mean()"
      ]
    }
  ],
  "metadata": {
    "kernelspec": {
      "display_name": "Python 3",
      "language": "python",
      "name": "python3"
    },
    "language_info": {
      "name": "python",
      "version": "3.10"
    }
  },
  "nbformat": 4,
  "nbformat_minor": 5
}