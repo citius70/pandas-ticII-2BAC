{
 "cells": [
  {
   "cell_type": "code",
   "execution_count": null,
   "id": "f10fe673-d1d1-4ef1-aca0-1865deb2b400",
   "metadata": {},
   "outputs": [],
   "source": [
    "import pandas as pd\n",
    "\n",
    "# Cargar dataset\n",
    "url = \"https://raw.githubusercontent.com/justmarkham/DAT8/master/data/winequality-red.csv\"\n",
    "df = pd.read_csv(url, sep=';')\n",
    "\n",
    "# 🔸 Ejercicio 1: Conteo combinado por calidad y nivel de alcohol redondeado\n",
    "df['alcohol_round'] = df['alcohol'].round()\n",
    "print(\"📊 Conteo combinado calidad vs alcohol:\")\n",
    "print(df.groupby(['quality', 'alcohol_round']).size().unstack())\n",
    "\n",
    "df.groupby(['quality', 'alcohol_round']).size().unstack().T.plot(kind='bar', title='Calidad vs Nivel de Alcohol')\n",
    "\n",
    "# 🔸 Ejercicio 2: Correlación de variables con la calidad\n",
    "print(\"\\n🔍 Correlación con la calidad:\")\n",
    "print(df.corr(numeric_only=True)['quality'].sort_values(ascending=False))\n",
    "\n",
    "# 🔸 Ejercicio 3: Proporción de vinos de alta calidad (>=7) por nivel de alcohol redondeado\n",
    "df['high_quality'] = df['quality'] >= 7\n",
    "print(\"\\n📈 Proporción de alta calidad por alcohol:\")\n",
    "print(df.groupby('alcohol_round')['high_quality'].mean())\n",
    "\n",
    "df.groupby('alcohol_round')['high_quality'].mean().plot(kind='bar', title='Proporción de vinos de alta calidad por nivel de alcohol')\n",
    "\n",
    "# 🔸 Ejercicio 4: Densidad promedio por calidad\n",
    "print(\"\\n💧 Densidad promedio por calidad:\")\n",
    "print(df.groupby('quality')['density'].mean())\n",
    "\n",
    "df.groupby('quality')['density'].mean().plot(kind='bar', title='Densidad promedio por calidad')\n",
    "\n",
    "# 🔸 Ejercicio 5: Conteo de combinaciones únicas de acidez volátil y ácido cítrico\n",
    "df['volatile acidity round'] = df['volatile acidity'].round(1)\n",
    "df['citric acid round'] = df['citric acid'].round(1)\n",
    "tabla_combinaciones = df.groupby(['volatile acidity round', 'citric acid round']).size().unstack(fill_value=0)\n",
    "print(\"\\n📦 Combinaciones de acidez volátil y ácido cítrico (redondeadas):\")\n",
    "print(tabla_combinaciones.head())\n"
   ]
  }
 ],
 "metadata": {
  "kernelspec": {
   "display_name": "Python 3 (ipykernel)",
   "language": "python",
   "name": "python3"
  },
  "language_info": {
   "codemirror_mode": {
    "name": "ipython",
    "version": 3
   },
   "file_extension": ".py",
   "mimetype": "text/x-python",
   "name": "python",
   "nbconvert_exporter": "python",
   "pygments_lexer": "ipython3",
   "version": "3.12.8"
  }
 },
 "nbformat": 4,
 "nbformat_minor": 5
}
