{
 "cells": [
  {
   "cell_type": "markdown",
   "metadata": {
    "id": "gQNZkftezTG5"
   },
   "source": [
    "# 4. Manipulación de DataFrames (1ª Parte)"
   ]
  },
  {
   "cell_type": "markdown",
   "metadata": {},
   "source": [
    "Ahora que sabemos como cargar nuestros archivos, es hora de usarlos. Comencemos configurando nuestro DataFrame inicial.\n",
    "\n",
    "Creamos un Dataframe a partir de un archivo con datos de artículos electrónicos que el profesor tiene guardado en Google Drive en formato .csv. El link al archivo es el indicado a https://drive.google.com/uc?export=download&id=16SQQX0ly--l9UvNBr5-KGRWb6todE1u6.\n",
    "\n",
    "Vamos a llamar al Dataframe: **df** (por ejemplo)"
   ]
  },
  {
   "cell_type": "code",
   "execution_count": 1,
   "metadata": {
    "id": "wS-atP0RScn9"
   },
   "outputs": [],
   "source": [
    "# Importamos la librería pandas\n",
    "\n",
    "import pandas as pd\n",
    "\n",
    "# Creamos un DataFrame a partir de un archivo de Excel.\n",
    "# Además, establecemos la columna \"ID_Producto\" como índice\n",
    "\n",
    "df = pd.read_csv(\"https://drive.google.com/uc?export=download&id=16SQQX0ly--l9UvNBr5-KGRWb6todE1u6\", index_col=\"ID_Producto\")"
   ]
  },
  {
   "cell_type": "markdown",
   "metadata": {
    "id": "_g3S4g1Oz27X"
   },
   "source": [
    "## 4.1. Mostrar los primeros o últimos datos"
   ]
  },
  {
   "cell_type": "markdown",
   "metadata": {},
   "source": [
    "Para mostrar una parte inicial o final del `DataFrame` usarás el método `head(n)` o `tail(n)`, donde 'n' son los primeros o últimos n datos."
   ]
  },
  {
   "cell_type": "code",
   "execution_count": 2,
   "metadata": {
    "colab": {
     "base_uri": "https://localhost:8080/",
     "height": 238
    },
    "id": "4VGmlnY30Nte",
    "outputId": "01c3b8bb-cdb7-41e7-a632-0f4cbc634df4"
   },
   "outputs": [
    {
     "data": {
      "text/html": [
       "<div>\n",
       "<style scoped>\n",
       "    .dataframe tbody tr th:only-of-type {\n",
       "        vertical-align: middle;\n",
       "    }\n",
       "\n",
       "    .dataframe tbody tr th {\n",
       "        vertical-align: top;\n",
       "    }\n",
       "\n",
       "    .dataframe thead th {\n",
       "        text-align: right;\n",
       "    }\n",
       "</style>\n",
       "<table border=\"1\" class=\"dataframe\">\n",
       "  <thead>\n",
       "    <tr style=\"text-align: right;\">\n",
       "      <th></th>\n",
       "      <th>Producto</th>\n",
       "      <th>Cantidad</th>\n",
       "      <th>Precio</th>\n",
       "    </tr>\n",
       "    <tr>\n",
       "      <th>ID_Producto</th>\n",
       "      <th></th>\n",
       "      <th></th>\n",
       "      <th></th>\n",
       "    </tr>\n",
       "  </thead>\n",
       "  <tbody>\n",
       "    <tr>\n",
       "      <th>SKU1</th>\n",
       "      <td>Xbox Series X</td>\n",
       "      <td>65</td>\n",
       "      <td>500</td>\n",
       "    </tr>\n",
       "    <tr>\n",
       "      <th>SKU4</th>\n",
       "      <td>Teclado mecánico Razer BlackWidow</td>\n",
       "      <td>130</td>\n",
       "      <td>250</td>\n",
       "    </tr>\n",
       "    <tr>\n",
       "      <th>SKU7</th>\n",
       "      <td>Monitor Gaming Asus 27\"</td>\n",
       "      <td>45</td>\n",
       "      <td>750</td>\n",
       "    </tr>\n",
       "    <tr>\n",
       "      <th>SKU11</th>\n",
       "      <td>Robot aspirador Roomba 960</td>\n",
       "      <td>30</td>\n",
       "      <td>450</td>\n",
       "    </tr>\n",
       "    <tr>\n",
       "      <th>SKU26</th>\n",
       "      <td>Kindle Paperwhite</td>\n",
       "      <td>150</td>\n",
       "      <td>200</td>\n",
       "    </tr>\n",
       "  </tbody>\n",
       "</table>\n",
       "</div>"
      ],
      "text/plain": [
       "                                      Producto  Cantidad  Precio\n",
       "ID_Producto                                                     \n",
       "SKU1                             Xbox Series X        65     500\n",
       "SKU4         Teclado mecánico Razer BlackWidow       130     250\n",
       "SKU7                   Monitor Gaming Asus 27\"        45     750\n",
       "SKU11               Robot aspirador Roomba 960        30     450\n",
       "SKU26                        Kindle Paperwhite       150     200"
      ]
     },
     "execution_count": 2,
     "metadata": {},
     "output_type": "execute_result"
    }
   ],
   "source": [
    "df.head(5)"
   ]
  },
  {
   "cell_type": "code",
   "execution_count": 3,
   "metadata": {
    "colab": {
     "base_uri": "https://localhost:8080/",
     "height": 238
    },
    "id": "CzZSeXpS0Q21",
    "outputId": "b79a79cf-30d4-407a-89b5-e33c30600809"
   },
   "outputs": [
    {
     "data": {
      "text/html": [
       "<div>\n",
       "<style scoped>\n",
       "    .dataframe tbody tr th:only-of-type {\n",
       "        vertical-align: middle;\n",
       "    }\n",
       "\n",
       "    .dataframe tbody tr th {\n",
       "        vertical-align: top;\n",
       "    }\n",
       "\n",
       "    .dataframe thead th {\n",
       "        text-align: right;\n",
       "    }\n",
       "</style>\n",
       "<table border=\"1\" class=\"dataframe\">\n",
       "  <thead>\n",
       "    <tr style=\"text-align: right;\">\n",
       "      <th></th>\n",
       "      <th>Producto</th>\n",
       "      <th>Cantidad</th>\n",
       "      <th>Precio</th>\n",
       "    </tr>\n",
       "    <tr>\n",
       "      <th>ID_Producto</th>\n",
       "      <th></th>\n",
       "      <th></th>\n",
       "      <th></th>\n",
       "    </tr>\n",
       "  </thead>\n",
       "  <tbody>\n",
       "    <tr>\n",
       "      <th>SKU171</th>\n",
       "      <td>Drone DJI Mavic Air 2</td>\n",
       "      <td>20</td>\n",
       "      <td>900</td>\n",
       "    </tr>\n",
       "    <tr>\n",
       "      <th>SKU172</th>\n",
       "      <td>iPhone 13</td>\n",
       "      <td>100</td>\n",
       "      <td>990</td>\n",
       "    </tr>\n",
       "    <tr>\n",
       "      <th>SKU176</th>\n",
       "      <td>Bose QuietComfort 35 II</td>\n",
       "      <td>70</td>\n",
       "      <td>350</td>\n",
       "    </tr>\n",
       "    <tr>\n",
       "      <th>SKU178</th>\n",
       "      <td>Bicicleta eléctrica Xiaomi</td>\n",
       "      <td>35</td>\n",
       "      <td>800</td>\n",
       "    </tr>\n",
       "    <tr>\n",
       "      <th>SKU187</th>\n",
       "      <td>Cámara Canon EOS Rebel T7</td>\n",
       "      <td>50</td>\n",
       "      <td>550</td>\n",
       "    </tr>\n",
       "    <tr>\n",
       "      <th>SKU191</th>\n",
       "      <td>Smart TV LG OLED 55\"</td>\n",
       "      <td>40</td>\n",
       "      <td>1500</td>\n",
       "    </tr>\n",
       "    <tr>\n",
       "      <th>SKU196</th>\n",
       "      <td>Consola Retro Sega Genesis</td>\n",
       "      <td>110</td>\n",
       "      <td>120</td>\n",
       "    </tr>\n",
       "  </tbody>\n",
       "</table>\n",
       "</div>"
      ],
      "text/plain": [
       "                               Producto  Cantidad  Precio\n",
       "ID_Producto                                              \n",
       "SKU171            Drone DJI Mavic Air 2        20     900\n",
       "SKU172                        iPhone 13       100     990\n",
       "SKU176          Bose QuietComfort 35 II        70     350\n",
       "SKU178       Bicicleta eléctrica Xiaomi        35     800\n",
       "SKU187        Cámara Canon EOS Rebel T7        50     550\n",
       "SKU191             Smart TV LG OLED 55\"        40    1500\n",
       "SKU196       Consola Retro Sega Genesis       110     120"
      ]
     },
     "execution_count": 3,
     "metadata": {},
     "output_type": "execute_result"
    }
   ],
   "source": [
    "df.tail(7)\n"
   ]
  },
  {
   "cell_type": "markdown",
   "metadata": {
    "id": "nBnS5IOz0i1T"
   },
   "source": [
    "## 4.2. Muestra un resumen de los datos"
   ]
  },
  {
   "cell_type": "markdown",
   "metadata": {},
   "source": [
    "Con `describe()` puedes obtener rápidamente algunas estadisticas descriptivas (conteo, media, desviación estándar, máximo, mínimo y cuartiles) de las columnas que tienen datos numéricos."
   ]
  },
  {
   "cell_type": "code",
   "execution_count": 4,
   "metadata": {
    "colab": {
     "base_uri": "https://localhost:8080/",
     "height": 300
    },
    "id": "wCtcwM6p0ugR",
    "outputId": "65f6f219-902e-4cc7-ce60-d242068f331f"
   },
   "outputs": [
    {
     "data": {
      "text/html": [
       "<div>\n",
       "<style scoped>\n",
       "    .dataframe tbody tr th:only-of-type {\n",
       "        vertical-align: middle;\n",
       "    }\n",
       "\n",
       "    .dataframe tbody tr th {\n",
       "        vertical-align: top;\n",
       "    }\n",
       "\n",
       "    .dataframe thead th {\n",
       "        text-align: right;\n",
       "    }\n",
       "</style>\n",
       "<table border=\"1\" class=\"dataframe\">\n",
       "  <thead>\n",
       "    <tr style=\"text-align: right;\">\n",
       "      <th></th>\n",
       "      <th>Cantidad</th>\n",
       "      <th>Precio</th>\n",
       "    </tr>\n",
       "  </thead>\n",
       "  <tbody>\n",
       "    <tr>\n",
       "      <th>count</th>\n",
       "      <td>30.000000</td>\n",
       "      <td>30.000000</td>\n",
       "    </tr>\n",
       "    <tr>\n",
       "      <th>mean</th>\n",
       "      <td>73.166667</td>\n",
       "      <td>588.333333</td>\n",
       "    </tr>\n",
       "    <tr>\n",
       "      <th>std</th>\n",
       "      <td>35.073404</td>\n",
       "      <td>430.653740</td>\n",
       "    </tr>\n",
       "    <tr>\n",
       "      <th>min</th>\n",
       "      <td>20.000000</td>\n",
       "      <td>120.000000</td>\n",
       "    </tr>\n",
       "    <tr>\n",
       "      <th>25%</th>\n",
       "      <td>50.000000</td>\n",
       "      <td>285.000000</td>\n",
       "    </tr>\n",
       "    <tr>\n",
       "      <th>50%</th>\n",
       "      <td>67.500000</td>\n",
       "      <td>465.000000</td>\n",
       "    </tr>\n",
       "    <tr>\n",
       "      <th>75%</th>\n",
       "      <td>97.500000</td>\n",
       "      <td>787.500000</td>\n",
       "    </tr>\n",
       "    <tr>\n",
       "      <th>max</th>\n",
       "      <td>150.000000</td>\n",
       "      <td>2000.000000</td>\n",
       "    </tr>\n",
       "  </tbody>\n",
       "</table>\n",
       "</div>"
      ],
      "text/plain": [
       "         Cantidad       Precio\n",
       "count   30.000000    30.000000\n",
       "mean    73.166667   588.333333\n",
       "std     35.073404   430.653740\n",
       "min     20.000000   120.000000\n",
       "25%     50.000000   285.000000\n",
       "50%     67.500000   465.000000\n",
       "75%     97.500000   787.500000\n",
       "max    150.000000  2000.000000"
      ]
     },
     "execution_count": 4,
     "metadata": {},
     "output_type": "execute_result"
    }
   ],
   "source": [
    "df.describe()\n"
   ]
  },
  {
   "cell_type": "markdown",
   "metadata": {
    "id": "u2dZW8uSPsjO"
   },
   "source": [
    "## 4.3. Más funciones de estadistica descriptiva"
   ]
  },
  {
   "cell_type": "markdown",
   "metadata": {},
   "source": [
    "#### - **Promedio** o media aritmética `mean`"
   ]
  },
  {
   "cell_type": "code",
   "execution_count": 5,
   "metadata": {
    "colab": {
     "base_uri": "https://localhost:8080/"
    },
    "id": "ehy76qKAPzpz",
    "outputId": "1708c5e3-a302-4d0f-c408-e7510018452b"
   },
   "outputs": [
    {
     "data": {
      "text/plain": [
       "588.3333333333334"
      ]
     },
     "execution_count": 5,
     "metadata": {},
     "output_type": "execute_result"
    }
   ],
   "source": [
    "# Promedio o media aritmética de la columna \"Precio\"\n",
    "df.Precio.mean()\n",
    "\n",
    "# Tambien funciona asi:\n",
    "df[\"Precio\"].mean()\n"
   ]
  },
  {
   "cell_type": "markdown",
   "metadata": {},
   "source": [
    "#### - **Máximo** `max` y **mínimo** `min` de una columna  "
   ]
  },
  {
   "cell_type": "code",
   "execution_count": 6,
   "metadata": {
    "colab": {
     "base_uri": "https://localhost:8080/"
    },
    "id": "ofTDnXo5P9Dn",
    "outputId": "706fe8e5-2c1d-4490-c110-4e98cfaba62a"
   },
   "outputs": [
    {
     "data": {
      "text/plain": [
       "2000"
      ]
     },
     "execution_count": 6,
     "metadata": {},
     "output_type": "execute_result"
    }
   ],
   "source": [
    "# Valor máximo de la columna Precio\n",
    "df.Precio.max()\n",
    "\n",
    "# Tambien funciona asi:\n",
    "df[\"Precio\"].max()\n"
   ]
  },
  {
   "cell_type": "code",
   "execution_count": 7,
   "metadata": {
    "colab": {
     "base_uri": "https://localhost:8080/"
    },
    "id": "USwcDLZiP4s5",
    "outputId": "e1ac82db-0d39-449f-f633-0dea5f8c7c08"
   },
   "outputs": [
    {
     "data": {
      "text/plain": [
       "120"
      ]
     },
     "execution_count": 7,
     "metadata": {},
     "output_type": "execute_result"
    }
   ],
   "source": [
    "# Valor mínimo de la columna Precio\n",
    "df.Precio.min()\n",
    "\n",
    "# Tambien funciona asi:\n",
    "df[\"Precio\"].min()\n"
   ]
  },
  {
   "cell_type": "markdown",
   "metadata": {},
   "source": [
    "#### - Buscar el **índice de la fila** correspondiente al valor máximo  o mínimo de una columna: `idxmax` o `idxmin` "
   ]
  },
  {
   "cell_type": "code",
   "execution_count": 14,
   "metadata": {},
   "outputs": [
    {
     "data": {
      "text/plain": [
       "'SKU126'"
      ]
     },
     "execution_count": 14,
     "metadata": {},
     "output_type": "execute_result"
    }
   ],
   "source": [
    "# Busca el índice del valor máximo de la columna Precio y lo almacena en la variable id\n",
    "\n",
    "df.Precio.idxmax()"
   ]
  },
  {
   "cell_type": "code",
   "execution_count": 15,
   "metadata": {},
   "outputs": [
    {
     "data": {
      "text/plain": [
       "'SKU196'"
      ]
     },
     "execution_count": 15,
     "metadata": {},
     "output_type": "execute_result"
    }
   ],
   "source": [
    "# Índice del valor mínimo de la columna Precio.\n",
    "# Busca el índice del valor mínimo la columna Precio y lo almacena en la variable id\n",
    "\n",
    "df.Precio.idxmin()"
   ]
  },
  {
   "cell_type": "markdown",
   "metadata": {},
   "source": [
    "#### - **Sumatorio** de una columna `sum`"
   ]
  },
  {
   "cell_type": "code",
   "execution_count": 10,
   "metadata": {
    "colab": {
     "base_uri": "https://localhost:8080/"
    },
    "id": "EBgbwst8QBsh",
    "outputId": "f68b00dd-3d64-48fd-9823-5c1510fb865c"
   },
   "outputs": [
    {
     "data": {
      "text/plain": [
       "2195"
      ]
     },
     "execution_count": 10,
     "metadata": {},
     "output_type": "execute_result"
    }
   ],
   "source": [
    "# Sumatorio de la columna Cantidad\n",
    "df.Cantidad.sum()\n",
    "\n",
    "# Tambien funciona asi:\n",
    "df[\"Cantidad\"].sum()\n"
   ]
  },
  {
   "cell_type": "code",
   "execution_count": 11,
   "metadata": {},
   "outputs": [
    {
     "data": {
      "text/plain": [
       "17650"
      ]
     },
     "execution_count": 11,
     "metadata": {},
     "output_type": "execute_result"
    }
   ],
   "source": [
    "# Sumatorio de la columna Precio\n",
    "df.Precio.sum()\n",
    "\n",
    "# Tambien funciona asi:\n",
    "df[\"Precio\"].sum()\n",
    "\n"
   ]
  },
  {
   "cell_type": "markdown",
   "metadata": {},
   "source": [
    "#### - Contar número de valores de una columna `count`\n",
    "\n",
    "Este es un método que devuelve el número de valores no nulos en la columna especificada. Si hay algún valor NaN (Not a Number) en la columna, no serán contados."
   ]
  },
  {
   "cell_type": "code",
   "execution_count": 12,
   "metadata": {
    "colab": {
     "base_uri": "https://localhost:8080/"
    },
    "id": "MpOQCEv6Qha-",
    "outputId": "1541ca2b-b1ea-410c-8e8e-f48dd8e0e546"
   },
   "outputs": [
    {
     "data": {
      "text/plain": [
       "30"
      ]
     },
     "execution_count": 12,
     "metadata": {},
     "output_type": "execute_result"
    }
   ],
   "source": [
    "# Contar total columna\n",
    "df.Producto.count()\n",
    "\n",
    "# Tambien funciona asi:\n",
    "df[\"Producto\"].count()\n"
   ]
  },
  {
   "cell_type": "markdown",
   "metadata": {},
   "source": [
    "#### - Contar por tipo `value.counts`"
   ]
  },
  {
   "cell_type": "markdown",
   "metadata": {},
   "source": [
    "Este método devuelve una Serie que contiene el conteo de valores únicos en orden descendente. También proporciona el número de veces que cada entrada única aparece en la columna Producto."
   ]
  },
  {
   "cell_type": "code",
   "execution_count": 13,
   "metadata": {
    "colab": {
     "base_uri": "https://localhost:8080/"
    },
    "id": "mK1ZuL-XQXaN",
    "outputId": "fb1746c3-274d-4db4-e388-c1e6253452c8"
   },
   "outputs": [
    {
     "data": {
      "text/plain": [
       "Producto\n",
       "Xbox Series X                               1\n",
       "Teclado mecánico Razer BlackWidow           1\n",
       "Smart TV LG OLED 55\"                        1\n",
       "Cámara Canon EOS Rebel T7                   1\n",
       "Bicicleta eléctrica Xiaomi                  1\n",
       "Bose QuietComfort 35 II                     1\n",
       "iPhone 13                                   1\n",
       "Drone DJI Mavic Air 2                       1\n",
       "Silla gaming DXRacer                        1\n",
       "Microondas inteligente Panasonic            1\n",
       "Auriculares Sony WH-1000XM4                 1\n",
       "Mochila antirrobo XD Design                 1\n",
       "Smartwatch Samsung Galaxy Watch 3           1\n",
       "iPad Pro 12.9                               1\n",
       "Laptop Dell XPS 15                          1\n",
       "Samsung Galaxy S21                          1\n",
       "Refrigerador Samsung Smart                  1\n",
       "Garmin Fenix 6 Pro                          1\n",
       "Gafas de realidad virtual Oculus Quest 2    1\n",
       "AirPods Pro                                 1\n",
       "GoPro HERO9                                 1\n",
       "Reloj Inteligente Apple Watch Series 6      1\n",
       "PlayStation 5                               1\n",
       "Nintendo Switch                             1\n",
       "Cafetera Nespresso Vertuo                   1\n",
       "Cámara de acción Insta360 One X2            1\n",
       "Kindle Paperwhite                           1\n",
       "Robot aspirador Roomba 960                  1\n",
       "Monitor Gaming Asus 27\"                     1\n",
       "Consola Retro Sega Genesis                  1\n",
       "Name: count, dtype: int64"
      ]
     },
     "execution_count": 13,
     "metadata": {},
     "output_type": "execute_result"
    }
   ],
   "source": [
    "# Contar por tipo\n",
    "df.Producto.value_counts()\n",
    "\n",
    "# Tambien funciona asi:\n",
    "df[\"Producto\"].value_counts()\n"
   ]
  }
 ],
 "metadata": {
  "colab": {
   "provenance": []
  },
  "kernelspec": {
   "display_name": "Python 3 (ipykernel)",
   "language": "python",
   "name": "python3"
  },
  "language_info": {
   "codemirror_mode": {
    "name": "ipython",
    "version": 3
   },
   "file_extension": ".py",
   "mimetype": "text/x-python",
   "name": "python",
   "nbconvert_exporter": "python",
   "pygments_lexer": "ipython3",
   "version": "3.12.8"
  }
 },
 "nbformat": 4,
 "nbformat_minor": 4
}
