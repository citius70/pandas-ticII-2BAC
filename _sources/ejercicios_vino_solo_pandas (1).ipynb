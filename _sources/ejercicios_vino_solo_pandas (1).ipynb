{
 "cells": [
  {
   "cell_type": "markdown",
   "id": "004fd7a8",
   "metadata": {},
   "source": [
    "# 🍷 Visualización de Datos de Vino Usando Solo Pandas\n",
    "\n",
    "Este cuaderno contiene una serie de ejercicios de visualización y análisis usando exclusivamente `pandas` (sin `matplotlib`, `seaborn` ni otras bibliotecas).\n",
    "\n",
    "**Dataset:** Calidad del vino tinto  \n",
    "**Fuente:** [Wine Quality Dataset - Red Wine (CSV)](https://raw.githubusercontent.com/justmarkham/DAT8/master/data/winequality-red.csv)\n",
    "\n"
   ]
  },
  {
   "cell_type": "code",
   "execution_count": null,
   "id": "f193e5d9",
   "metadata": {},
   "outputs": [],
   "source": [
    "import pandas as pd\n",
    "\n",
    "# Cargar dataset\n",
    "url = \"https://raw.githubusercontent.com/justmarkham/DAT8/master/data/winequality-red.csv\"\n",
    "df = pd.read_csv(url, sep=';')\n",
    "\n",
    "# Mostrar primeras filas\n",
    "df.head()\n"
   ]
  },
  {
   "cell_type": "code",
   "execution_count": null,
   "id": "a7002759",
   "metadata": {},
   "outputs": [],
   "source": [
    "# 🔹 Ejercicio 1: Conteo de vinos por calidad\n",
    "df['quality'].value_counts().sort_index().plot(kind='bar', title='Cantidad de vinos por nivel de calidad')\n"
   ]
  },
  {
   "cell_type": "code",
   "execution_count": null,
   "id": "b71428ac",
   "metadata": {},
   "outputs": [],
   "source": [
    "# 🔹 Ejercicio 2: Distribución del contenido de alcohol\n",
    "df['alcohol'].plot(kind='hist', bins=10, title='Distribución de Alcohol')\n"
   ]
  },
  {
   "cell_type": "code",
   "execution_count": null,
   "id": "0aaa5979",
   "metadata": {},
   "outputs": [],
   "source": [
    "# 🔹 Ejercicio 3: Promedio de alcohol por calidad\n",
    "df.groupby('quality')['alcohol'].mean().plot(kind='bar', title='Alcohol promedio por calidad')\n"
   ]
  },
  {
   "cell_type": "code",
   "execution_count": null,
   "id": "59051d3a",
   "metadata": {},
   "outputs": [],
   "source": [
    "# 🔹 Ejercicio 4: Conteo de valores de acidez fija (redondeada)\n",
    "df['fixed acidity'].round().value_counts().sort_index().plot(kind='bar', title='Conteo por acidez fija (redondeada)')\n"
   ]
  },
  {
   "cell_type": "code",
   "execution_count": null,
   "id": "cb093dfb",
   "metadata": {},
   "outputs": [],
   "source": [
    "# 🔹 Ejercicio 5: Promedio de pH por calidad\n",
    "df.groupby('quality')['pH'].mean().plot(kind='bar', title='Promedio de pH por calidad')\n"
   ]
  },
  {
   "cell_type": "markdown",
   "id": "8438d6f2",
   "metadata": {},
   "source": [
    "# ✅ ¡Buen trabajo!\n",
    "Has completado una serie de ejercicios básicos de visualización y análisis utilizando solo `pandas`.\n"
   ]
  }
 ],
 "metadata": {},
 "nbformat": 4,
 "nbformat_minor": 5
}
