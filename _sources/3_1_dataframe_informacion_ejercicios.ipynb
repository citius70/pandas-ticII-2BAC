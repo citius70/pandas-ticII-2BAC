{
 "cells": [
  {
   "cell_type": "markdown",
   "id": "e30bb2e5-67a7-4877-9cd2-17dd11265c5d",
   "metadata": {},
   "source": [
    "# 📑 Ejercicio sobre **obtención de información** de una Dataframe"
   ]
  },
  {
   "cell_type": "markdown",
   "id": "02268e24-bc64-49a4-9767-833528befa07",
   "metadata": {},
   "source": [
    "Vamos a trabajar sobre un archivo CSV con datos de mujeres con **síndrome de ovario poliquístico** (SOP)"
   ]
  },
  {
   "cell_type": "markdown",
   "id": "c095edd3-3462-47f3-bcd8-037a4463bdae",
   "metadata": {},
   "source": [
    "Acerca del conjunto de datos:\n",
    "Se trata de un conjunto de datos sobre mujeres con síndrome de ovario poliquístico (SOP), generado según los criterios de Róterdam. Los Criterios de Róterdam, establecidos en 2003 por un consenso internacional de expertos, definen que, **para que una mujer sea diagnosticada con el síndrome**, debe cumplir al menos **dos de los tres criterios**:\n",
    "\n",
    "1. **Menstruación irregular**: Sí\n",
    "2. **Nivel de testosterona**: Más de 50 ng/dL\n",
    "3. **Folículos por ovario** (detectados por ecografía pelviana): Más de 10\n",
    "\n",
    "Las columnas numéricas categóricas (Menstruación irregular y diagnóstico de SOP) se codifican en formato binario, donde [0] representa \"no\" y [1] representa \"sí\"."
   ]
  },
  {
   "cell_type": "markdown",
   "id": "10876a68-fc87-4eb6-855e-501ca1c70bdf",
   "metadata": {},
   "source": [
    "El archivo CSV se encuentra en la web Kaggle.com especializada en análisis de datos. Exactamente lo encontrás en **https://www.kaggle.com/datasets/lucass0s0/polycystic-ovary-syndrome-pcos**\n",
    "1. Descarga el archivo .zip y descomprímelo.\n",
    "2. Súbelo a tu Google Drive y consigue el link al archivo.\n",
    "3. **¡Muy importante!** El archivo tiene una columna que se llama **Testosterone_Level(ng/dL)**. Este nombre tiene caracteres (**los paréntesis**) que van a dar problemas a la hora de utilizar esta columna. Por ello, cambia su nombre por **Testosterone_Level** ."
   ]
  },
  {
   "cell_type": "markdown",
   "id": "8a044604-76a5-42c0-84c2-b8c83fd4c0d4",
   "metadata": {},
   "source": [
    "## 🔍 Ejercicio 1\n",
    "Importa la librería Pandas y ponle el alias `pd`."
   ]
  },
  {
   "cell_type": "code",
   "execution_count": 1,
   "id": "a37a66af-7486-4691-bd15-712afddb3a0b",
   "metadata": {},
   "outputs": [],
   "source": [
    "# Ejercicio 1. Resuélvelo en esta celda\n"
   ]
  },
  {
   "cell_type": "markdown",
   "id": "902c40d1-6fc8-44c1-be23-6cbe44f14be9",
   "metadata": {},
   "source": [
    "## 🔍 Ejercicio 2\n",
    "Carga el archivo `pcos_rotterdam_balanceado.csv`, que has guardado en tu Google Drive, utilizando su link.\n",
    "A su vez crea el Dataframe con el nombre `data`."
   ]
  },
  {
   "cell_type": "code",
   "execution_count": 2,
   "id": "7c39acf0-57e9-4630-99f4-a75ad8a4f205",
   "metadata": {},
   "outputs": [],
   "source": [
    "# Ejercicio 2\n"
   ]
  },
  {
   "cell_type": "markdown",
   "id": "56ea61e8-3326-4030-8ca2-6f14fe3f6297",
   "metadata": {},
   "source": [
    "## 🔍 Ejercicio 3\n",
    "Utiliza el atributo `shape` para ver la **forma** (nº columnas x nº filas). Verás que el archivo tiene 6 columnas y ¡¡¡3000 filas!!!."
   ]
  },
  {
   "cell_type": "code",
   "execution_count": 3,
   "id": "b7617aef-2cbb-4741-9ac6-68f19aaf7cd1",
   "metadata": {},
   "outputs": [],
   "source": [
    "# Ejercicio 3\n"
   ]
  },
  {
   "cell_type": "markdown",
   "id": "21d22a7f-6f42-4ec3-8913-d94b0cdf1242",
   "metadata": {},
   "source": [
    "## 🔍 Ejercicio 4\n",
    "Utiliza el atributo `columns` para ver el **nombre de las columnas**. Verás que las columnas se llaman: Age, BMI, ..."
   ]
  },
  {
   "cell_type": "code",
   "execution_count": 4,
   "id": "5119812a-5051-43ac-ab5c-b589c519193c",
   "metadata": {},
   "outputs": [],
   "source": [
    "# Ejercicio 4\n"
   ]
  },
  {
   "cell_type": "markdown",
   "id": "7a4eb5f2-59d5-4ecf-8f15-84d32c4adeb7",
   "metadata": {},
   "source": [
    "## 🔍 Ejercicio 5"
   ]
  },
  {
   "cell_type": "markdown",
   "id": "74ef25dd-b7b6-4d0f-b3fd-33869abe3420",
   "metadata": {},
   "source": [
    "Utiliza el atributo `dtypes`para ver el **tipo de columnas**. Verás que hay 4 columnas de tipo número **entero** y 2 de tipo número **decimal**."
   ]
  },
  {
   "cell_type": "code",
   "execution_count": 5,
   "id": "cafd4589-ced1-495e-a286-ec0437fffb58",
   "metadata": {},
   "outputs": [],
   "source": [
    "# Ejercicio 5\n"
   ]
  },
  {
   "cell_type": "markdown",
   "id": "18ba0d4b-ca8d-4ab8-907a-d54b431ea31b",
   "metadata": {},
   "source": [
    "## 🔍 Ejercicio 6"
   ]
  },
  {
   "cell_type": "markdown",
   "id": "7f5135d8-7726-4e63-bae0-a01fcb067738",
   "metadata": {},
   "source": [
    "Obtén todos los datos (filas) de la columna `Testosterone_Level`.\n",
    "\n",
    "No te preocupes si solo ves los cinco primeros datos y los cinco últimos datos. Recuerda uq tiene 3000 filas. En el siguiente capítulo resolveremos cómo podemos ver todos los datos de archivos muy largos."
   ]
  },
  {
   "cell_type": "code",
   "execution_count": 6,
   "id": "ebf4b4ea-40c2-4b0f-a9d7-1197b2120ab5",
   "metadata": {},
   "outputs": [],
   "source": [
    "# Ejercicio 6\n"
   ]
  },
  {
   "cell_type": "markdown",
   "id": "fb09e277-99a2-4659-a922-f3d6384569c8",
   "metadata": {},
   "source": [
    "## 🔍 Ejercicio 7"
   ]
  },
  {
   "cell_type": "markdown",
   "id": "de712a3b-155b-460d-aff3-1a343b6f6533",
   "metadata": {},
   "source": [
    "Obtén todos los datos (filas) de las columnas `Age`y`Testosterone_Level`."
   ]
  },
  {
   "cell_type": "code",
   "execution_count": 7,
   "id": "c0c29baa-b63e-4591-ab09-e382805ff1c8",
   "metadata": {},
   "outputs": [],
   "source": [
    "## Ejercicio 7\n"
   ]
  },
  {
   "cell_type": "markdown",
   "id": "649eb96b-0b47-4a2e-8979-2e0c1b80891c",
   "metadata": {},
   "source": [
    "## 🔍 Ejercicio 8"
   ]
  },
  {
   "cell_type": "markdown",
   "id": "bbde1d14-af55-4855-a68e-630818eb933d",
   "metadata": {},
   "source": [
    "Obtén los datos de las mujeres de las filas: 6, 27, 654, 1321 y 2567"
   ]
  },
  {
   "cell_type": "code",
   "execution_count": 8,
   "id": "68f29d78-abf1-4f3b-88d4-eb33e5091fe5",
   "metadata": {},
   "outputs": [],
   "source": [
    "# Ejercicio 8\n"
   ]
  },
  {
   "cell_type": "markdown",
   "id": "b4d661f9-a489-483e-93ab-d564b062a58e",
   "metadata": {},
   "source": [
    "## 🔍 Ejercicio 9"
   ]
  },
  {
   "cell_type": "markdown",
   "id": "63124a1f-d731-487e-ae03-1c0b80c05469",
   "metadata": {},
   "source": [
    "Obtén los datos de la mujer de la fila: 1970"
   ]
  },
  {
   "cell_type": "code",
   "execution_count": 9,
   "id": "917ebc53-c65b-453a-996d-dff02922e748",
   "metadata": {},
   "outputs": [],
   "source": [
    "# Ejercicio 6\n"
   ]
  }
 ],
 "metadata": {
  "kernelspec": {
   "display_name": "Python 3 (ipykernel)",
   "language": "python",
   "name": "python3"
  },
  "language_info": {
   "codemirror_mode": {
    "name": "ipython",
    "version": 3
   },
   "file_extension": ".py",
   "mimetype": "text/x-python",
   "name": "python",
   "nbconvert_exporter": "python",
   "pygments_lexer": "ipython3",
   "version": "3.12.8"
  }
 },
 "nbformat": 4,
 "nbformat_minor": 5
}
