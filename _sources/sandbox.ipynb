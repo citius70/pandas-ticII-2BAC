{
 "cells": [
  {
   "cell_type": "markdown",
   "id": "58e1b9ab-9a8e-44c4-a2da-bcdd113445ee",
   "metadata": {},
   "source": [
    ":::{card} Card Title\n",
    "\n",
    "sdfdfsd dcsdsdfsds dfsdsdfsd\n",
    ":::"
   ]
  },
  {
   "cell_type": "markdown",
   "id": "b2ec675f-b793-4cc5-b194-e8f3a90b4597",
   "metadata": {},
   "source": [
    "::::{tab-set}\n",
    "\n",
    ":::{tab-item} Label1\n",
    "\n",
    "dssdsddsd\n",
    ":::\n",
    "\n",
    ":::{tab-item} Label2\n",
    "Content 2\n",
    ":::\n",
    "\n",
    "::::"
   ]
  },
  {
   "cell_type": "markdown",
   "id": "2c841f24-7637-42a8-8710-1f22f4230f8e",
   "metadata": {},
   "source": [
    "{bdg}`plain badge`"
   ]
  },
  {
   "cell_type": "markdown",
   "id": "5d0d492b-516f-4a0e-8564-3d4647a0b4ce",
   "metadata": {},
   "source": [
    "```{button-link} https://example.com\n",
    "```\n",
    "\n",
    "```{button-link} https://example.com\n",
    "Button text\n",
    "```\n",
    "\n",
    "```{button-link} https://example.com\n",
    ":color: primary\n",
    ":shadow:\n",
    "```\n",
    "\n",
    "```{button-link} https://example.com\n",
    ":color: primary\n",
    ":outline:\n",
    "```\n",
    "\n",
    "```{button-link} https://example.com\n",
    ":color: secondary\n",
    ":expand:\n",
    "```"
   ]
  },
  {
   "cell_type": "markdown",
   "id": "b11a27ec-c4c7-4806-85f4-612c00829452",
   "metadata": {},
   "source": [
    "A coloured icon: {octicon}`report;1em;sd-text-info`, some more text."
   ]
  },
  {
   "cell_type": "markdown",
   "id": "06ca68b4-18d2-4037-a252-eee4bf837445",
   "metadata": {},
   "source": [
    "::::{grid} 1 2 3 4\n",
    ":outline:\n",
    "\n",
    ":::{grid-item}\n",
    "vsdsesef\n",
    ":::\n",
    ":::{grid-item}\n",
    "fsdfsfsdf\n",
    ":::\n",
    ":::{grid-item}\n",
    "C\n",
    ":::\n",
    ":::{grid-item}\n",
    "D\n",
    ":::\n",
    "::::"
   ]
  },
  {
   "cell_type": "markdown",
   "id": "fa243e45-09d1-4b58-b590-cd08fda5c8bb",
   "metadata": {},
   "source": [
    "<span class=\"badge badge-primary\">Primary</span>\n",
    "<span class=\"badge badge-outline-primary\">Primary Line</span>\n"
   ]
  },
  {
   "cell_type": "markdown",
   "id": "9ffb7f17-c60c-4592-b25c-d76711625462",
   "metadata": {},
   "source": [
    "<span style=\"background-color:#0d6efd; color:white; padding:2px 8px; border-radius:8px;\">primary</span>\n",
    "<span style=\"color:#0d6efd; padding:2px 8px; border:1px solid #0d6efd; border-radius:8px;\">primary-line</span>\n"
   ]
  }
 ],
 "metadata": {
  "kernelspec": {
   "display_name": "Python 3 (ipykernel)",
   "language": "python",
   "name": "python3"
  },
  "language_info": {
   "codemirror_mode": {
    "name": "ipython",
    "version": 3
   },
   "file_extension": ".py",
   "mimetype": "text/x-python",
   "name": "python",
   "nbconvert_exporter": "python",
   "pygments_lexer": "ipython3",
   "version": "3.12.8"
  }
 },
 "nbformat": 4,
 "nbformat_minor": 5
}
