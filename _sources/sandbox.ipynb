{
 "cells": [
  {
   "cell_type": "markdown",
   "id": "58e1b9ab-9a8e-44c4-a2da-bcdd113445ee",
   "metadata": {},
   "source": [
    ":::{card} Card Title\n",
    "\n",
    "sdfdfsd dcsdsdfsds dfsdsdfsd\n",
    ":::"
   ]
  },
  {
   "cell_type": "markdown",
   "id": "b2ec675f-b793-4cc5-b194-e8f3a90b4597",
   "metadata": {},
   "source": [
    "::::{tab-set}\n",
    "\n",
    ":::{tab-item} Label1\n",
    "\n",
    "dssdsddsd\n",
    ":::\n",
    "\n",
    ":::{tab-item} Label2\n",
    "Content 2\n",
    ":::\n",
    "\n",
    "::::"
   ]
  },
  {
   "cell_type": "markdown",
   "id": "2c841f24-7637-42a8-8710-1f22f4230f8e",
   "metadata": {},
   "source": [
    "{bdg}`plain badge`"
   ]
  },
  {
   "cell_type": "markdown",
   "id": "5d0d492b-516f-4a0e-8564-3d4647a0b4ce",
   "metadata": {},
   "source": [
    "```{button-link} https://example.com\n",
    "```\n",
    "\n",
    "```{button-link} https://example.com\n",
    "Button text\n",
    "```\n",
    "\n",
    "```{button-link} https://example.com\n",
    ":color: primary\n",
    ":shadow:\n",
    "```\n",
    "\n",
    "```{button-link} https://example.com\n",
    ":color: primary\n",
    ":outline:\n",
    "```\n",
    "\n",
    "```{button-link} https://example.com\n",
    ":color: secondary\n",
    ":expand:\n",
    "```"
   ]
  },
  {
   "cell_type": "markdown",
   "id": "b11a27ec-c4c7-4806-85f4-612c00829452",
   "metadata": {},
   "source": [
    "A coloured icon: {octicon}`report;1em;sd-text-info`, some more text."
   ]
  },
  {
   "cell_type": "markdown",
   "id": "06ca68b4-18d2-4037-a252-eee4bf837445",
   "metadata": {},
   "source": [
    "::::{grid} 1 2 3 4\n",
    ":outline:\n",
    "\n",
    ":::{grid-item}\n",
    "vsdsesef\n",
    ":::\n",
    ":::{grid-item}\n",
    "fsdfsfsdf\n",
    ":::\n",
    ":::{grid-item}\n",
    "C\n",
    ":::\n",
    ":::{grid-item}\n",
    "D\n",
    ":::\n",
    "::::"
   ]
  },
  {
   "cell_type": "markdown",
   "id": "fa243e45-09d1-4b58-b590-cd08fda5c8bb",
   "metadata": {},
   "source": [
    "<span class=\"badge badge-primary\">Primary</span>\n",
    "<span class=\"badge badge-outline-primary\">Primary Line</span>\n"
   ]
  },
  {
   "cell_type": "markdown",
   "id": "9ffb7f17-c60c-4592-b25c-d76711625462",
   "metadata": {},
   "source": [
    "<span style=\"background-color:#0d6efd; color:white; padding:2px 8px; border-radius:8px;\">primary</span>\n",
    "<span style=\"color:#0d6efd; padding:2px 8px; border:1px solid #0d6efd; border-radius:8px;\">primary-line</span>\n"
   ]
  },
  {
   "cell_type": "markdown",
   "id": "e690a7a5-9461-45cb-8762-e68318cab0b7",
   "metadata": {},
   "source": [
    "```{code-cell} python\n",
    ":tags: [hide-input]\n",
    "\n",
    "# Tu código aquí\n"
   ]
  },
  {
   "cell_type": "markdown",
   "id": "424c58fc-b193-4e5e-a09f-3b6be7842c40",
   "metadata": {},
   "source": [
    "```{code-cell} python\n",
    ":tags: [remove-cell]\n",
    "\n",
    "import pandas as pd\n",
    "import numpy as np\n",
    "\n",
    "# Generamos un DataFrame con valores NaN\n",
    "df = pd.DataFrame({\n",
    "    \"Produccion\": [100, 200, np.nan, 400, np.nan, 600]\n",
    "})\n",
    "\n",
    "df.head()\n"
   ]
  },
  {
   "cell_type": "markdown",
   "id": "bf9bb426-1206-44b7-96de-bd8a65ebcc2f",
   "metadata": {},
   "source": [
    "```{quiz} ¿Cuánto sabes sobre Jupyter?\n",
    "\n",
    ":quiz-id: jupyter-quiz-1\n",
    ":shuffle-answers: true\n",
    ":correct-feedback: ¡Correcto!\n",
    ":incorrect-feedback: Inténtalo de nuevo.\n",
    "\n",
    "- [x] Es una herramienta para crear libros interactivos.\n",
    "- [ ] Es una base de datos.\n",
    "- [x] Se basa en Jupyter Notebooks.\n"
   ]
  },
  {
   "cell_type": "markdown",
   "id": "21ad104c-3e4d-414f-b624-71bdabfba437",
   "metadata": {},
   "source": [
    "\n",
    "Este tipo de bloque funciona gracias a **Sphinx y las extensiones de MyST NB**.\n",
    "\n",
    "---\n",
    "\n",
    "### ✅ 2. **Incluir widgets interactivos con `ipywidgets`**\n",
    "\n",
    "Otra opción es usar `ipywidgets` para hacer quizzes más dinámicos en celdas de código. Ejemplo:\n",
    "\n",
    "```python\n",
    "import ipywidgets as widgets\n",
    "from IPython.display import display\n",
    "\n",
    "question = widgets.RadioButtons(\n",
    "    options=['Python', 'Java', 'C++'],\n",
    "    description='¿Cuál es el lenguaje principal de Jupyter?',\n",
    ")\n",
    "\n",
    "display(question)\n"
   ]
  },
  {
   "cell_type": "markdown",
   "id": "73808d55-9469-473e-b920-01fdf5820ef0",
   "metadata": {},
   "source": [
    "```{quiz} ¿Cuánto sabes sobre Jupyter?\n",
    ":quiz-id: jupyter-quiz-1\n",
    ":shuffle-answers: true\n",
    ":correct-feedback: ¡Correcto!\n",
    ":incorrect-feedback: Inténtalo de nuevo.\n",
    "\n",
    "- [x] Es una herramienta para crear libros interactivos.\n",
    "- [ ] Es una base de datos.\n",
    "- [x] Se basa en Jupyter Notebooks.\n"
   ]
  },
  {
   "cell_type": "code",
   "execution_count": null,
   "id": "e6f196b2-aa3f-4373-88ae-28cac0aed93c",
   "metadata": {},
   "outputs": [],
   "source": []
  }
 ],
 "metadata": {
  "kernelspec": {
   "display_name": "Python 3 (ipykernel)",
   "language": "python",
   "name": "python3"
  },
  "language_info": {
   "codemirror_mode": {
    "name": "ipython",
    "version": 3
   },
   "file_extension": ".py",
   "mimetype": "text/x-python",
   "name": "python",
   "nbconvert_exporter": "python",
   "pygments_lexer": "ipython3",
   "version": "3.12.8"
  }
 },
 "nbformat": 4,
 "nbformat_minor": 5
}
