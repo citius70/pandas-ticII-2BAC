{
 "cells": [
  {
   "cell_type": "markdown",
   "id": "62b0097f-de7b-473d-a7f8-1d4b61438ab6",
   "metadata": {},
   "source": [
    ":::{card} Card Title\n",
    "\n",
    "Card content\n",
    ":::"
   ]
  },
  {
   "cell_type": "code",
   "execution_count": null,
   "id": "b130b8da-8624-46f4-9451-f454efce2abe",
   "metadata": {},
   "outputs": [],
   "source": []
  }
 ],
 "metadata": {
  "kernelspec": {
   "display_name": "Python 3 (ipykernel)",
   "language": "python",
   "name": "python3"
  },
  "language_info": {
   "codemirror_mode": {
    "name": "ipython",
    "version": 3
   },
   "file_extension": ".py",
   "mimetype": "text/x-python",
   "name": "python",
   "nbconvert_exporter": "python",
   "pygments_lexer": "ipython3",
   "version": "3.12.8"
  }
 },
 "nbformat": 4,
 "nbformat_minor": 5
}
