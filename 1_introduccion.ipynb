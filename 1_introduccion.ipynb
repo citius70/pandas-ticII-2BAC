{
 "cells": [
  {
   "cell_type": "markdown",
   "metadata": {
    "id": "vq08bGzcjVCU"
   },
   "source": [
    "# 1. ¿Qué es Pandas?\n",
    "\n",
    "[![Jupyter Book Badge](https://jupyterbook.org/badge.svg)](<YOUR URL HERE>)"
   ]
  },
  {
   "cell_type": "markdown",
   "metadata": {
    "id": "vq08bGzcjVCU"
   },
   "source": [
    "<img src=\"pandas_logo.svg\" alt=\"Pandas\" width=\"300px\" align=\"right\" style=\"margin: 0 0 10px 10px;\">\n",
    "\n",
    "`Pandas` 🐼 es una potente **librería** de código abierto para Python, la cual nos permite **manipular diversos tipos de datos estructurados**, incluyendo funciones para leer y escribir datos en varios formatos como Excel, CSV, SQL, JSON y más.\n",
    "\n",
    "Una de sus principales características son los `DataFrame`, los cuales son muy *similares a las hojas de Excel*, pero permiten utilizar Python para manipularlos, lo que da mayor flexibilidad en la manipulación de datos, abre más posibilidades manipulación y permite la manipulación de un volumen de datos mucho mayor que en hojas de cálculo.\n",
    "\n",
    "```{admonition} Definiciones\n",
    "\n",
    "* **Pandas**: es una biblioteca de Python para manipulación y análisis de datos, que proporciona estructuras eficientes como **DataFrame** y **Series** para trabajar con datos tabulares y series temporales de manera flexible y optimizada. \n",
    "\n",
    "    * **DataFrame**: es una estructura de datos bidimensional similar a una tabla, que organiza información en filas y columnas con etiquetas, permitiendo manipulación y análisis eficiente de datos.\n",
    "```"
   ]
  },
  {
   "cell_type": "markdown",
   "metadata": {},
   "source": [
    "## 1.1. ¿Qué es una librería de Python?\n",
    "\n",
    "Una `librería` 📖 en programación es un conjunto de **funciones y métodos que se agrupan en un solo paquete para facilitar el desarrollo de software**. Las librerías permiten a los programadores reutilizar código, lo que ahorra tiempo y esfuerzo al evitar la necesidad de escribir código desde cero para tareas comunes. El número total de bibliotecas de Python es de más de 137000.\n",
    "\n",
    "```{admonition} Algunas de las librerías más importantes de Python\n",
    "* NumPy: Para cálculos numéricos y manipulación de matrices y arreglos. \n",
    "\n",
    "* Pandas: Para manipulación y análisis de datos estructurados en forma de tablas.\n",
    "\n",
    "* Matplotlib, Bokeh y Seaborn: Para visualización de datos y creación de gráficos.\n",
    "\n",
    "* OpenCV: Para tareas de procesamiento de imágenes y visión por computadora. \n",
    "\n",
    "* Requests: Para realizar solicitudes HTTP y trabajar con APIs web.\n",
    "\n",
    "* Flask y Django: Para crear aplicaciones web y sitios web.\n",
    "\n",
    "* Scikit-Learn, TensorFlow y PyTorch: Para la implementación de aprendizaje profundo y machine learning.\n",
    "\n",
    "* SQLite3 y SQLAlchemy: Para trabajar con bases de datos.\n",
    "```\n",
    "\n",
    "Una de estas librerías es `Pandas`, la cual se utiliza para el **análisis y manipulación de datos**."
   ]
  },
  {
   "cell_type": "markdown",
   "metadata": {},
   "source": [
    "## 1.2. Características de una librería"
   ]
  },
  {
   "cell_type": "markdown",
   "metadata": {},
   "source": [
    "**Reutilización de Código**: Las librerías contienen código que puede ser utilizado en múltiples programas, lo que promueve la eficiencia y la consistencia.\n",
    "\n",
    "**Abstracción**: Proporcionan una interfaz de alto nivel que oculta la complejidad de las implementaciones subyacentes, permitiendo a los desarrolladores centrarse en la lógica de su aplicación en lugar de en los detalles técnicos.\n",
    "\n",
    "**Modularidad**: Las librerías suelen estar organizadas en módulos, lo que permite a los desarrolladores importar solo las partes que necesitan, manteniendo el código más limpio y manejable.\n",
    "\n",
    "**Facilidad de Uso**: Muchas librerías están diseñadas para ser fáciles de usar, con documentación y ejemplos que ayudan a los desarrolladores a integrarlas en sus proyectos."
   ]
  },
  {
   "cell_type": "markdown",
   "metadata": {},
   "source": [
    "## 1.3.  Importar la librería Pandas"
   ]
  },
  {
   "cell_type": "markdown",
   "metadata": {},
   "source": [
    "Para utilizarla, debemos importarla de la siguiente manera `import pandas` , aunque la manera usual de hacerlo es con la instrucción `import pandas as pd`. Esto  permite acceder a las funciones y estructuras de datos de Pandas usando el *alias* `pd`, haciendo tu código más limpio y conciso."
   ]
  },
  {
   "cell_type": "code",
   "execution_count": 1,
   "metadata": {},
   "outputs": [
    {
     "ename": "ModuleNotFoundError",
     "evalue": "No module named 'pandas'",
     "output_type": "error",
     "traceback": [
      "\u001b[1;31m---------------------------------------------------------------------------\u001b[0m",
      "\u001b[1;31mModuleNotFoundError\u001b[0m                       Traceback (most recent call last)",
      "Cell \u001b[1;32mIn[1], line 1\u001b[0m\n\u001b[1;32m----> 1\u001b[0m \u001b[38;5;28;01mimport\u001b[39;00m\u001b[38;5;250m \u001b[39m\u001b[38;5;21;01mpandas\u001b[39;00m\u001b[38;5;250m \u001b[39m\u001b[38;5;28;01mas\u001b[39;00m\u001b[38;5;250m \u001b[39m\u001b[38;5;21;01mpd\u001b[39;00m\n",
      "\u001b[1;31mModuleNotFoundError\u001b[0m: No module named 'pandas'"
     ]
    }
   ],
   "source": [
    "import pandas as pd\n"
   ]
  }
 ],
 "metadata": {
  "colab": {
   "provenance": []
  },
  "kernelspec": {
   "display_name": "Python 3",
   "language": "python",
   "name": "python3"
  },
  "language_info": {
   "codemirror_mode": {
    "name": "ipython",
    "version": 3
   },
   "file_extension": ".py",
   "mimetype": "text/x-python",
   "name": "python",
   "nbconvert_exporter": "python",
   "pygments_lexer": "ipython3",
   "version": "3.12.3"
  }
 },
 "nbformat": 4,
 "nbformat_minor": 4
}
