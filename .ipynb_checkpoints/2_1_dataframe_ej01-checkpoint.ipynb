{
 "cells": [
  {
   "cell_type": "markdown",
   "id": "f522e0e5-e2af-417a-a0cc-9659f37e32b9",
   "metadata": {},
   "source": [
    "# Ejercicicio sobre `dataframes`"
   ]
  },
  {
   "cell_type": "markdown",
   "id": "352debf6-9531-4f27-abda-6cf477dd275a",
   "metadata": {},
   "source": [
    "## Ejercicio 1"
   ]
  },
  {
   "cell_type": "markdown",
   "id": "8ac48a2c-a5df-424b-9ad9-88067babb057",
   "metadata": {},
   "source": [
    "**Objetivo**: Crear un DataFrame que contenga información sobre algunos estudiantes, incluyendo su nombre, edad y calificación final."
   ]
  },
  {
   "cell_type": "markdown",
   "id": "81ded921-e41f-46bf-873f-668823fee3d0",
   "metadata": {},
   "source": [
    "**Salida Esperada**: Cuando ejecutes el código, deberías ver una salida similar a esta:\n",
    "\n",
    "![Foto de gatito](imagenes/ejercicio01.png)"
   ]
  },
  {
   "cell_type": "code",
   "execution_count": 22,
   "id": "87a064ee-6e27-4e37-b070-fc04f4520ea0",
   "metadata": {},
   "outputs": [
    {
     "name": "stdout",
     "output_type": "stream",
     "text": [
      "   Nombre  Edad  Calificación\n",
      "0     Ana    20             9\n",
      "1    Luis    21             8\n",
      "2  Carlos    19             7\n",
      "3   María    22            10\n"
     ]
    }
   ],
   "source": [
    "# Paso 1. Importa la biblioteca `pandas`\n",
    "import pandas as pd\n",
    "\n",
    "# Paso 2. Define los datos de los estudiantes en un diccionario que deseas incluir en el DataFrame\n",
    "estudiantes = {\n",
    "    'Nombre': ['Ana', 'Luis', 'Carlos', 'María'],\n",
    "    'Edad': [20, 21, 19, 22],\n",
    "    'Calificación': [9, 8, 7, 10] \n",
    "}\n",
    "\n",
    "# Paso 3. Crea el dataframe a partir de los datos del diccionario\n",
    "df= pd.DataFrame(estudiantes)\n",
    "\n",
    "# Paso 4: Imprime el dataframe\n",
    "print(df)"
   ]
  },
  {
   "cell_type": "code",
   "execution_count": null,
   "id": "a10fbed3-9a31-4e54-83ba-4593a83b2194",
   "metadata": {},
   "outputs": [],
   "source": []
  }
 ],
 "metadata": {
  "kernelspec": {
   "display_name": "Python 3 (ipykernel)",
   "language": "python",
   "name": "python3"
  },
  "language_info": {
   "codemirror_mode": {
    "name": "ipython",
    "version": 3
   },
   "file_extension": ".py",
   "mimetype": "text/x-python",
   "name": "python",
   "nbconvert_exporter": "python",
   "pygments_lexer": "ipython3",
   "version": "3.12.8"
  }
 },
 "nbformat": 4,
 "nbformat_minor": 5
}
