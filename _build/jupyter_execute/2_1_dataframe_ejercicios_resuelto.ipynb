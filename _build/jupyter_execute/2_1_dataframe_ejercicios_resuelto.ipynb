{
 "cells": [
  {
   "cell_type": "markdown",
   "id": "f522e0e5-e2af-417a-a0cc-9659f37e32b9",
   "metadata": {},
   "source": [
    "# Ejercicicio sobre creación de dataframes"
   ]
  },
  {
   "cell_type": "markdown",
   "id": "352debf6-9531-4f27-abda-6cf477dd275a",
   "metadata": {},
   "source": [
    "## Ejercicio 1. Crear un dataframe manualmente"
   ]
  },
  {
   "cell_type": "markdown",
   "id": "1103cb1c-e839-4c98-a466-6d43b1db0463",
   "metadata": {},
   "source": [
    "**Objetivo**: Crear un DataFrame que contenga información sobre algunos estudiantes, incluyendo su nombre, edad y calificación final."
   ]
  },
  {
   "cell_type": "markdown",
   "id": "81ded921-e41f-46bf-873f-668823fee3d0",
   "metadata": {},
   "source": [
    "**Salida Esperada**: Cuando ejecutes el código, deberías ver una salida similar a esta:\n",
    "<p align=\"center\">\n",
    "    <img src=\"imagenes/ejercicio01_salida.png\" width=\"20%\">\n",
    "</p>\n",
    "\n",
    "**Pasos**:\n",
    "1. Importa la biblioteca `pandas`\n",
    "2. Define los datos de los estudiantes en un diccionario que deseas incluir en el DataFrame\n",
    "3. Crea el dataframe a partir de los datos del diccionario\n",
    "4. Muestra el dataframe\n"
   ]
  },
  {
   "cell_type": "code",
   "execution_count": 1,
   "id": "87a064ee-6e27-4e37-b070-fc04f4520ea0",
   "metadata": {},
   "outputs": [],
   "source": [
    "# Escribe el código aquí\n"
   ]
  },
  {
   "cell_type": "markdown",
   "id": "794c849e-e4be-455d-a48a-487dd7cdb909",
   "metadata": {},
   "source": [
    " ## Ejercicio 2. Crear un dataframe importando un archivo Excel"
   ]
  },
  {
   "cell_type": "markdown",
   "id": "c714f6bf-a060-4033-8b0b-47c10502883c",
   "metadata": {},
   "source": [
    "**Objetivo**: Crear un DataFrame a partir de un archivo Excel publicado en internet.\n",
    "\n",
    "**Salida Esperada**: Cuando ejecutes el código, deberías ver una salida similar a esta:\n",
    "<p align=\"center\">\n",
    "    <img src=\"imagenes/dataframe_spotify.png\" width=\"50%\">\n",
    "</p>\n",
    "\n",
    "**Pasos**:\n",
    "\n",
    "Descargar el archivo:\n",
    "\n",
    "1. Visita la siguiente web: https://mavenanalytics.io/data-playground\n",
    "2. Descarga el archivo zip de datos correspondiente a la \"Historia completa de streaming de un usuario de Spotify\" (Spotify Streaming History)\n",
    "3. Descomprime el archivo. Una vez hecho esto, verás dos archivos csv. El que utilizarás es \"spotify_history.csv\"\n",
    "\n",
    "Importar pandas:\n",
    "\n",
    "4. Importa la biblioteca pandas\n",
    "\n",
    "Crear el DataFrame:\n",
    "\n",
    "5. Utiliza el método \"read_csv\" para crear el datafame. Puedes llamarlo \"data\", \"data_spotify\"....\n",
    "    * ¡Atención! Además del nombre del archivo \"spotify_history\", tienes que indicar el path al mismo.\n",
    "        * En mi caso df = pd.read_csv(r\"C:\\Users\\alber\\Desktop\\spotify_history.csv\")\n",
    "6. Visualiza el DataFrame.\n"
   ]
  },
  {
   "cell_type": "code",
   "execution_count": 2,
   "id": "cb4d925f-04ff-4cba-840a-bd5d335ddccf",
   "metadata": {
    "editable": true,
    "slideshow": {
     "slide_type": ""
    },
    "tags": []
   },
   "outputs": [
    {
     "ename": "SyntaxError",
     "evalue": "invalid syntax (3241282770.py, line 1)",
     "output_type": "error",
     "traceback": [
      "\u001b[1;36m  Cell \u001b[1;32mIn[2], line 1\u001b[1;36m\u001b[0m\n\u001b[1;33m    EScribe el código aquí\u001b[0m\n\u001b[1;37m            ^\u001b[0m\n\u001b[1;31mSyntaxError\u001b[0m\u001b[1;31m:\u001b[0m invalid syntax\n"
     ]
    }
   ],
   "source": [
    "EScribe el código aquí\n"
   ]
  }
 ],
 "metadata": {
  "kernelspec": {
   "display_name": "ambiente_1",
   "language": "python",
   "name": "python3"
  },
  "language_info": {
   "codemirror_mode": {
    "name": "ipython",
    "version": 3
   },
   "file_extension": ".py",
   "mimetype": "text/x-python",
   "name": "python",
   "nbconvert_exporter": "python",
   "pygments_lexer": "ipython3",
   "version": "3.12.8"
  }
 },
 "nbformat": 4,
 "nbformat_minor": 5
}