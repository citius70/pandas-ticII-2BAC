{
 "cells": [
  {
   "cell_type": "markdown",
   "metadata": {},
   "source": [
    "# Información sobre el DataFrame"
   ]
  },
  {
   "cell_type": "markdown",
   "metadata": {},
   "source": [
    "Puedes obtener información sobre el DataFrame, tales como sus columnas, y dimensiones (cuantas filas, y cuantas columnas) tiene."
   ]
  },
  {
   "cell_type": "markdown",
   "metadata": {},
   "source": [
    "Creamos el dataframe:"
   ]
  },
  {
   "cell_type": "code",
   "execution_count": 1,
   "metadata": {
    "colab": {
     "base_uri": "https://localhost:8080/",
     "height": 990
    },
    "id": "m24vie01yo2J",
    "outputId": "bf8f5dd6-5612-4a48-e163-cf383ee91b78"
   },
   "outputs": [
    {
     "data": {
      "text/html": [
       "<div>\n",
       "<style scoped>\n",
       "    .dataframe tbody tr th:only-of-type {\n",
       "        vertical-align: middle;\n",
       "    }\n",
       "\n",
       "    .dataframe tbody tr th {\n",
       "        vertical-align: top;\n",
       "    }\n",
       "\n",
       "    .dataframe thead th {\n",
       "        text-align: right;\n",
       "    }\n",
       "</style>\n",
       "<table border=\"1\" class=\"dataframe\">\n",
       "  <thead>\n",
       "    <tr style=\"text-align: right;\">\n",
       "      <th></th>\n",
       "      <th>ID_Producto</th>\n",
       "      <th>Producto</th>\n",
       "      <th>Cantidad</th>\n",
       "      <th>Precio</th>\n",
       "    </tr>\n",
       "  </thead>\n",
       "  <tbody>\n",
       "    <tr>\n",
       "      <th>0</th>\n",
       "      <td>SKU1</td>\n",
       "      <td>Xbox Series X</td>\n",
       "      <td>65</td>\n",
       "      <td>500000</td>\n",
       "    </tr>\n",
       "    <tr>\n",
       "      <th>1</th>\n",
       "      <td>SKU4</td>\n",
       "      <td>Teclado mecánico Razer BlackWidow</td>\n",
       "      <td>130</td>\n",
       "      <td>250000</td>\n",
       "    </tr>\n",
       "    <tr>\n",
       "      <th>2</th>\n",
       "      <td>SKU7</td>\n",
       "      <td>Monitor Gaming Asus 27\"</td>\n",
       "      <td>45</td>\n",
       "      <td>750000</td>\n",
       "    </tr>\n",
       "    <tr>\n",
       "      <th>3</th>\n",
       "      <td>SKU11</td>\n",
       "      <td>Robot aspirador Roomba 960</td>\n",
       "      <td>30</td>\n",
       "      <td>450000</td>\n",
       "    </tr>\n",
       "    <tr>\n",
       "      <th>4</th>\n",
       "      <td>SKU26</td>\n",
       "      <td>Kindle Paperwhite</td>\n",
       "      <td>150</td>\n",
       "      <td>200000</td>\n",
       "    </tr>\n",
       "    <tr>\n",
       "      <th>5</th>\n",
       "      <td>SKU39</td>\n",
       "      <td>Cámara de acción Insta360 One X2</td>\n",
       "      <td>80</td>\n",
       "      <td>380000</td>\n",
       "    </tr>\n",
       "    <tr>\n",
       "      <th>6</th>\n",
       "      <td>SKU44</td>\n",
       "      <td>Cafetera Nespresso Vertuo</td>\n",
       "      <td>80</td>\n",
       "      <td>150000</td>\n",
       "    </tr>\n",
       "    <tr>\n",
       "      <th>7</th>\n",
       "      <td>SKU48</td>\n",
       "      <td>Nintendo Switch</td>\n",
       "      <td>50</td>\n",
       "      <td>280000</td>\n",
       "    </tr>\n",
       "    <tr>\n",
       "      <th>8</th>\n",
       "      <td>SKU62</td>\n",
       "      <td>PlayStation 5</td>\n",
       "      <td>75</td>\n",
       "      <td>480000</td>\n",
       "    </tr>\n",
       "    <tr>\n",
       "      <th>9</th>\n",
       "      <td>SKU63</td>\n",
       "      <td>Reloj Inteligente Apple Watch Series 6</td>\n",
       "      <td>90</td>\n",
       "      <td>600000</td>\n",
       "    </tr>\n",
       "    <tr>\n",
       "      <th>10</th>\n",
       "      <td>SKU97</td>\n",
       "      <td>GoPro HERO9</td>\n",
       "      <td>100</td>\n",
       "      <td>320000</td>\n",
       "    </tr>\n",
       "    <tr>\n",
       "      <th>11</th>\n",
       "      <td>SKU98</td>\n",
       "      <td>AirPods Pro</td>\n",
       "      <td>120</td>\n",
       "      <td>250000</td>\n",
       "    </tr>\n",
       "    <tr>\n",
       "      <th>12</th>\n",
       "      <td>SKU110</td>\n",
       "      <td>Gafas de realidad virtual Oculus Quest 2</td>\n",
       "      <td>50</td>\n",
       "      <td>300000</td>\n",
       "    </tr>\n",
       "    <tr>\n",
       "      <th>13</th>\n",
       "      <td>SKU115</td>\n",
       "      <td>Garmin Fenix 6 Pro</td>\n",
       "      <td>55</td>\n",
       "      <td>700000</td>\n",
       "    </tr>\n",
       "    <tr>\n",
       "      <th>14</th>\n",
       "      <td>SKU126</td>\n",
       "      <td>Refrigerador Samsung Smart</td>\n",
       "      <td>25</td>\n",
       "      <td>2000000</td>\n",
       "    </tr>\n",
       "    <tr>\n",
       "      <th>15</th>\n",
       "      <td>SKU131</td>\n",
       "      <td>Samsung Galaxy S21</td>\n",
       "      <td>80</td>\n",
       "      <td>850000</td>\n",
       "    </tr>\n",
       "    <tr>\n",
       "      <th>16</th>\n",
       "      <td>SKU134</td>\n",
       "      <td>Laptop Dell XPS 15</td>\n",
       "      <td>40</td>\n",
       "      <td>1200000</td>\n",
       "    </tr>\n",
       "    <tr>\n",
       "      <th>17</th>\n",
       "      <td>SKU154</td>\n",
       "      <td>iPad Pro 12.9</td>\n",
       "      <td>60</td>\n",
       "      <td>1050000</td>\n",
       "    </tr>\n",
       "    <tr>\n",
       "      <th>18</th>\n",
       "      <td>SKU158</td>\n",
       "      <td>Smartwatch Samsung Galaxy Watch 3</td>\n",
       "      <td>85</td>\n",
       "      <td>550000</td>\n",
       "    </tr>\n",
       "    <tr>\n",
       "      <th>19</th>\n",
       "      <td>SKU162</td>\n",
       "      <td>Mochila antirrobo XD Design</td>\n",
       "      <td>150</td>\n",
       "      <td>180000</td>\n",
       "    </tr>\n",
       "    <tr>\n",
       "      <th>20</th>\n",
       "      <td>SKU163</td>\n",
       "      <td>Auriculares Sony WH-1000XM4</td>\n",
       "      <td>100</td>\n",
       "      <td>350000</td>\n",
       "    </tr>\n",
       "    <tr>\n",
       "      <th>21</th>\n",
       "      <td>SKU168</td>\n",
       "      <td>Microondas inteligente Panasonic</td>\n",
       "      <td>50</td>\n",
       "      <td>250000</td>\n",
       "    </tr>\n",
       "    <tr>\n",
       "      <th>22</th>\n",
       "      <td>SKU170</td>\n",
       "      <td>Silla gaming DXRacer</td>\n",
       "      <td>60</td>\n",
       "      <td>400000</td>\n",
       "    </tr>\n",
       "    <tr>\n",
       "      <th>23</th>\n",
       "      <td>SKU171</td>\n",
       "      <td>Drone DJI Mavic Air 2</td>\n",
       "      <td>20</td>\n",
       "      <td>900000</td>\n",
       "    </tr>\n",
       "    <tr>\n",
       "      <th>24</th>\n",
       "      <td>SKU172</td>\n",
       "      <td>iPhone 13</td>\n",
       "      <td>100</td>\n",
       "      <td>990000</td>\n",
       "    </tr>\n",
       "    <tr>\n",
       "      <th>25</th>\n",
       "      <td>SKU176</td>\n",
       "      <td>Bose QuietComfort 35 II</td>\n",
       "      <td>70</td>\n",
       "      <td>350000</td>\n",
       "    </tr>\n",
       "    <tr>\n",
       "      <th>26</th>\n",
       "      <td>SKU178</td>\n",
       "      <td>Bicicleta eléctrica Xiaomi</td>\n",
       "      <td>35</td>\n",
       "      <td>800000</td>\n",
       "    </tr>\n",
       "    <tr>\n",
       "      <th>27</th>\n",
       "      <td>SKU187</td>\n",
       "      <td>Cámara Canon EOS Rebel T7</td>\n",
       "      <td>50</td>\n",
       "      <td>550000</td>\n",
       "    </tr>\n",
       "    <tr>\n",
       "      <th>28</th>\n",
       "      <td>SKU191</td>\n",
       "      <td>Smart TV LG OLED 55\"</td>\n",
       "      <td>40</td>\n",
       "      <td>1500000</td>\n",
       "    </tr>\n",
       "    <tr>\n",
       "      <th>29</th>\n",
       "      <td>SKU196</td>\n",
       "      <td>Consola Retro Sega Genesis</td>\n",
       "      <td>110</td>\n",
       "      <td>120000</td>\n",
       "    </tr>\n",
       "  </tbody>\n",
       "</table>\n",
       "</div>"
      ],
      "text/plain": [
       "   ID_Producto                                  Producto  Cantidad   Precio\n",
       "0         SKU1                             Xbox Series X        65   500000\n",
       "1         SKU4         Teclado mecánico Razer BlackWidow       130   250000\n",
       "2         SKU7                   Monitor Gaming Asus 27\"        45   750000\n",
       "3        SKU11                Robot aspirador Roomba 960        30   450000\n",
       "4        SKU26                         Kindle Paperwhite       150   200000\n",
       "5        SKU39          Cámara de acción Insta360 One X2        80   380000\n",
       "6        SKU44                 Cafetera Nespresso Vertuo        80   150000\n",
       "7        SKU48                           Nintendo Switch        50   280000\n",
       "8        SKU62                             PlayStation 5        75   480000\n",
       "9        SKU63    Reloj Inteligente Apple Watch Series 6        90   600000\n",
       "10       SKU97                               GoPro HERO9       100   320000\n",
       "11       SKU98                               AirPods Pro       120   250000\n",
       "12      SKU110  Gafas de realidad virtual Oculus Quest 2        50   300000\n",
       "13      SKU115                        Garmin Fenix 6 Pro        55   700000\n",
       "14      SKU126                Refrigerador Samsung Smart        25  2000000\n",
       "15      SKU131                        Samsung Galaxy S21        80   850000\n",
       "16      SKU134                        Laptop Dell XPS 15        40  1200000\n",
       "17      SKU154                             iPad Pro 12.9        60  1050000\n",
       "18      SKU158         Smartwatch Samsung Galaxy Watch 3        85   550000\n",
       "19      SKU162               Mochila antirrobo XD Design       150   180000\n",
       "20      SKU163               Auriculares Sony WH-1000XM4       100   350000\n",
       "21      SKU168          Microondas inteligente Panasonic        50   250000\n",
       "22      SKU170                      Silla gaming DXRacer        60   400000\n",
       "23      SKU171                     Drone DJI Mavic Air 2        20   900000\n",
       "24      SKU172                                 iPhone 13       100   990000\n",
       "25      SKU176                   Bose QuietComfort 35 II        70   350000\n",
       "26      SKU178                Bicicleta eléctrica Xiaomi        35   800000\n",
       "27      SKU187                 Cámara Canon EOS Rebel T7        50   550000\n",
       "28      SKU191                      Smart TV LG OLED 55\"        40  1500000\n",
       "29      SKU196                Consola Retro Sega Genesis       110   120000"
      ]
     },
     "execution_count": 1,
     "metadata": {},
     "output_type": "execute_result"
    }
   ],
   "source": [
    "import pandas as pd\n",
    "df = pd.read_excel(\"https://docs.google.com/uc?export=download&id=1RjyFp3seXXSwjJMVwT6FBs3lNniDxsNN\")\n",
    "df"
   ]
  },
  {
   "cell_type": "markdown",
   "metadata": {},
   "source": [
    "## Shape: Forma del dataframe (filas, columnas)"
   ]
  },
  {
   "cell_type": "markdown",
   "metadata": {},
   "source": [
    "El atributo `shape` en un DataFrame de pandas es una propiedad muy útil que te permite conocer las **dimensiones** del DataFrame. Específicamente, shape devuelve una tupla que contiene dos elementos: `(filas, columnas)`"
   ]
  },
  {
   "cell_type": "code",
   "execution_count": 2,
   "metadata": {
    "colab": {
     "base_uri": "https://localhost:8080/"
    },
    "id": "gx6lVCCKcRS_",
    "outputId": "f857a1ac-4e69-4717-fb54-b56d4fc74e0e"
   },
   "outputs": [
    {
     "data": {
      "text/plain": [
       "(30, 4)"
      ]
     },
     "execution_count": 2,
     "metadata": {},
     "output_type": "execute_result"
    }
   ],
   "source": [
    "df.shape\n",
    "# Tiene 30 filas y 3 columnas"
   ]
  },
  {
   "cell_type": "markdown",
   "metadata": {},
   "source": [
    "## Columns"
   ]
  },
  {
   "cell_type": "markdown",
   "metadata": {},
   "source": [
    "El atributo`columns` devuelve un objeto Index que contiene los **nombres de las columnas**, lo que te permite ver rápidamente qué columnas están disponibles en tu DataFrame."
   ]
  },
  {
   "cell_type": "code",
   "execution_count": 3,
   "metadata": {
    "colab": {
     "base_uri": "https://localhost:8080/"
    },
    "id": "x6BlBdj0cTAU",
    "outputId": "4568e145-ef1a-42b7-9366-1ab5a988827c"
   },
   "outputs": [
    {
     "data": {
      "text/plain": [
       "Index(['ID_Producto', 'Producto', 'Cantidad', 'Precio'], dtype='object')"
      ]
     },
     "execution_count": 3,
     "metadata": {},
     "output_type": "execute_result"
    }
   ],
   "source": [
    "df.columns"
   ]
  },
  {
   "cell_type": "markdown",
   "metadata": {
    "id": "v1xtoU52coSS"
   },
   "source": [
    "Con `dtypes` puedes acceder a los tipos de tu `DataFrame`"
   ]
  },
  {
   "cell_type": "code",
   "execution_count": 4,
   "metadata": {
    "colab": {
     "base_uri": "https://localhost:8080/"
    },
    "id": "qXJ7TF3zcnEi",
    "outputId": "73ae6841-7133-43c3-9f30-480951a32eff"
   },
   "outputs": [
    {
     "ename": "NameError",
     "evalue": "name 'df_excel' is not defined",
     "output_type": "error",
     "traceback": [
      "\u001b[1;31m---------------------------------------------------------------------------\u001b[0m",
      "\u001b[1;31mNameError\u001b[0m                                 Traceback (most recent call last)",
      "Cell \u001b[1;32mIn[4], line 1\u001b[0m\n\u001b[1;32m----> 1\u001b[0m df_excel\u001b[38;5;241m.\u001b[39mdtypes\n",
      "\u001b[1;31mNameError\u001b[0m: name 'df_excel' is not defined"
     ]
    }
   ],
   "source": [
    "df_excel.dtypes"
   ]
  },
  {
   "cell_type": "markdown",
   "metadata": {
    "id": "-xhu1jj4cox-"
   },
   "source": [
    "También puedes usarlo en columnas especificas"
   ]
  },
  {
   "cell_type": "code",
   "execution_count": null,
   "metadata": {
    "colab": {
     "base_uri": "https://localhost:8080/"
    },
    "id": "BSJUw2DVcpKa",
    "outputId": "c067e39c-d1b5-4905-fb0a-41a839777d01"
   },
   "outputs": [],
   "source": [
    "df_excel.Precio.dtypes"
   ]
  },
  {
   "cell_type": "code",
   "execution_count": null,
   "metadata": {
    "colab": {
     "base_uri": "https://localhost:8080/"
    },
    "id": "h8_sEAEWI0Ct",
    "outputId": "8b7c25b1-a05a-4e11-d27e-0f0cb2b3d973"
   },
   "outputs": [],
   "source": [
    "# Equivalente a la celda anterior\n",
    "df_excel[\"Precio\"].dtypes"
   ]
  },
  {
   "cell_type": "markdown",
   "metadata": {
    "id": "UgRF1Ehp3d2C"
   },
   "source": [
    "## Accediendo al DataFrame"
   ]
  },
  {
   "cell_type": "markdown",
   "metadata": {
    "id": "yWFYhB2O3hVD"
   },
   "source": [
    "### Accediendo a una columna\n",
    "Puedes llamar rápidamente los datos de una columna usando `df['Nombre de la columna']` o `df.NombreColumna`"
   ]
  },
  {
   "cell_type": "code",
   "execution_count": null,
   "metadata": {
    "colab": {
     "base_uri": "https://localhost:8080/"
    },
    "id": "sphcqwxZ3rK1",
    "outputId": "3150ff18-58ef-4388-f094-3f09007e0f99"
   },
   "outputs": [],
   "source": [
    "df_excel[\"Cantidad\"]"
   ]
  },
  {
   "cell_type": "code",
   "execution_count": null,
   "metadata": {
    "colab": {
     "base_uri": "https://localhost:8080/"
    },
    "id": "4zFun_um38Uo",
    "outputId": "b62bca91-06b1-4a69-8b7a-a19bfe2e0126"
   },
   "outputs": [],
   "source": [
    "df_excel.Cantidad"
   ]
  },
  {
   "cell_type": "markdown",
   "metadata": {
    "id": "M1pEuKmj4AZy"
   },
   "source": [
    "### Accediendo a varias columnas\n",
    "También puedes llamar a varias columnas usando la siguiente estructura\n",
    "`df[lista con nombre de las columnas]`"
   ]
  },
  {
   "cell_type": "code",
   "execution_count": null,
   "metadata": {
    "colab": {
     "base_uri": "https://localhost:8080/",
     "height": 1000
    },
    "id": "85IzXUDC4Ati",
    "outputId": "c33ff641-cf36-44f1-d388-4705735fc157"
   },
   "outputs": [],
   "source": [
    "df_excel[[\"Producto\", \"Cantidad\"]] # Notese que es una lista dentro del método para llamar las columnas"
   ]
  },
  {
   "cell_type": "markdown",
   "metadata": {
    "id": "NbXFIvAv5d5K"
   },
   "source": [
    "### Accediendo a las filas\n",
    "Puedes encontrar las filas usando `loc` y como argumento el indice. Si el indice es un texto, debes especificarlo como tal."
   ]
  },
  {
   "cell_type": "code",
   "execution_count": null,
   "metadata": {
    "colab": {
     "base_uri": "https://localhost:8080/"
    },
    "id": "8mmtGMnG5gXe",
    "outputId": "650cb688-b5f1-46eb-f0d1-dc1614665b4e"
   },
   "outputs": [],
   "source": [
    "df_excel.loc[\"SKU26\"]"
   ]
  },
  {
   "cell_type": "markdown",
   "metadata": {
    "id": "3EuifAne6OJy"
   },
   "source": [
    "### Accediendo a varias filas\n",
    "Si quieres seleccionar todas las filas que esten continuas unas a las otras puedas usar esta estructura"
   ]
  },
  {
   "cell_type": "code",
   "execution_count": null,
   "metadata": {
    "colab": {
     "base_uri": "https://localhost:8080/",
     "height": 143
    },
    "id": "0NtjhdFR6RHx",
    "outputId": "ee133797-7f23-4426-d2fe-d841e3317340"
   },
   "outputs": [],
   "source": [
    "df_excel.iloc[0:2]"
   ]
  },
  {
   "cell_type": "markdown",
   "metadata": {
    "id": "8ea3osO6_xU5"
   },
   "source": [
    "**Nota**\n",
    "\n",
    "Si es esta es la primera vez que te encuentras con algo como `0:2` a eso se le llama **slicing**, y no ex exclusivo de Pandas.\n",
    "\n",
    "Es una convención que permite obtener una parte de una lista y se hace con esta estructura `inicio:fin` donde inicio y fin son índices.\n",
    "\n",
    "La primera parte, antes del `:`, significa el indice desde el cual comienza, y la segunda parte hasta donde llega.\n",
    "\n",
    "Si no hay nada en la primera parte significa que parte desde el primer indice, y si no hay nada en la segunda parte significa que llega hasta el último índice.\n",
    "\n",
    "También se pueden usar números negativos para hacer la acción en reversa.\n",
    "\n",
    "Algunos ejemplos:\n",
    "\n",
    "* `0:2` seleccionaría desde la posición 0 hasta la posición 2, excluyéndola.\n",
    "* `2:5` seleccionaría desde la posición 2 hasta la posición 5, excluyendo la posición 5.\n",
    "* `-2:` seleccionaría desde la posición 2 pero desde el final hacia el inicio, hasta la última posición disponible.\n",
    "* `2:` seleccionaría desde la posición 2 hasta la última posición disponible."
   ]
  },
  {
   "cell_type": "markdown",
   "metadata": {
    "id": "iayCARfGBnHd"
   },
   "source": [
    "Si quieres acceder a filas especificas, puedes entregar como parametro una lista de las filas"
   ]
  },
  {
   "cell_type": "code",
   "execution_count": null,
   "metadata": {
    "colab": {
     "base_uri": "https://localhost:8080/",
     "height": 175
    },
    "id": "sCZRXzV3BmE-",
    "outputId": "d883a200-1254-489d-ce88-0eeab7b24506"
   },
   "outputs": [],
   "source": [
    "df_excel.iloc[[0, 4, 7]]"
   ]
  },
  {
   "cell_type": "markdown",
   "metadata": {
    "id": "O7pyYGrqB0I8"
   },
   "source": [
    "Si el `DataFrame` tiene indice, también puedes entregarle una lista de indices en los parámetros de `loc`"
   ]
  },
  {
   "cell_type": "code",
   "execution_count": null,
   "metadata": {
    "colab": {
     "base_uri": "https://localhost:8080/",
     "height": 143
    },
    "id": "xg8EwKSiB7Ok",
    "outputId": "4e94f1bf-d422-472d-b9f2-a6df66431f91"
   },
   "outputs": [],
   "source": [
    "df_excel.loc[[\"SKU97\", \"SKU154\"]]"
   ]
  },
  {
   "cell_type": "markdown",
   "metadata": {
    "id": "VmgrEU-nCQYT"
   },
   "source": [
    "### Accediendo a un set especifico de filas y columnas\n",
    "Puedes especificar una lista de filas, seguido por una lista de Columnas, y así obtener un conjunto muy especifico de datos"
   ]
  },
  {
   "cell_type": "code",
   "execution_count": null,
   "metadata": {
    "colab": {
     "base_uri": "https://localhost:8080/",
     "height": 175
    },
    "id": "0db7rz9iCd7Q",
    "outputId": "530ce611-0ed6-4a25-d3f8-389b1c68e7d5"
   },
   "outputs": [],
   "source": [
    "df_excel.iloc[[0, 4, 7], [1, 2]]"
   ]
  },
  {
   "cell_type": "markdown",
   "metadata": {
    "id": "kV2AoVkhLd5k"
   },
   "source": [
    "Si quieres llamar a las columnas por su nombre, puedes usar una estructura como esta"
   ]
  },
  {
   "cell_type": "code",
   "execution_count": null,
   "metadata": {
    "colab": {
     "base_uri": "https://localhost:8080/",
     "height": 175
    },
    "id": "sSC2TGA-LUsj",
    "outputId": "0af93d6c-e0a5-4934-b5ef-6052f35f4dbe"
   },
   "outputs": [],
   "source": [
    "df_excel[[\"Precio\", \"Cantidad\"]].iloc[[0, 4, 7]]"
   ]
  },
  {
   "cell_type": "markdown",
   "metadata": {
    "id": "bISwu0PLXIdY"
   },
   "source": [
    "---\n",
    "# Síguenos:\n",
    "- TikTok: https://www.tiktok.com/@evoacdm\n",
    "- Instagram: https://www.instagram.com/evoacdm/\n",
    "- LinkedIn: https://www.linkedin.com/company/evoacmd/\n",
    "- YouTube: https://www.youtube.com/@evoacdm\n",
    "- Sitio web: https://evoacademy.cl"
   ]
  }
 ],
 "metadata": {
  "colab": {
   "provenance": []
  },
  "kernelspec": {
   "display_name": "Python 3 (ipykernel)",
   "language": "python",
   "name": "python3"
  },
  "language_info": {
   "codemirror_mode": {
    "name": "ipython",
    "version": 3
   },
   "file_extension": ".py",
   "mimetype": "text/x-python",
   "name": "python",
   "nbconvert_exporter": "python",
   "pygments_lexer": "ipython3",
   "version": "3.12.8"
  }
 },
 "nbformat": 4,
 "nbformat_minor": 4
}